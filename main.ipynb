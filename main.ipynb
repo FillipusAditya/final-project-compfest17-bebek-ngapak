{
 "cells": [
  {
   "cell_type": "code",
   "execution_count": 1,
   "id": "7b13df55",
   "metadata": {},
   "outputs": [],
   "source": [
    "import pandas as pd\n",
    "import matplotlib.pyplot as plt\n",
    "import seaborn as sns\n",
    "import numpy as np\n",
    "import re"
   ]
  },
  {
   "cell_type": "markdown",
   "id": "d04be683",
   "metadata": {},
   "source": [
    "# Import Data"
   ]
  },
  {
   "cell_type": "code",
   "execution_count": 2,
   "id": "399c5e13",
   "metadata": {},
   "outputs": [],
   "source": [
    "sample_df = pd.read_csv('./data.csv')"
   ]
  },
  {
   "cell_type": "markdown",
   "id": "6770b294",
   "metadata": {},
   "source": [
    "# EDA"
   ]
  },
  {
   "cell_type": "markdown",
   "id": "9dcacbd6",
   "metadata": {},
   "source": [
    "| Column                         | Description                                                                 |\n",
    "|--------------------------------|-----------------------------------------------------------------------------|\n",
    "| Date received                  | The date when the consumer's complaint was received.                        |\n",
    "| Product                        | The specific financial product or service related to the complaint.         |\n",
    "| Sub-product                    | A more detailed sub-category of the product or service.                     |\n",
    "| Issue                          | The main problem described in the consumer's complaint.                     |\n",
    "| Sub-issue                      | Additional details or sub-category related to the main issue.               |\n",
    "| Consumer complaint narrative   | A text description provided by the consumer detailing their complaint.      |\n",
    "| Company public response        | The response or statement issued by the company regarding the complaint.    |\n",
    "| Company                        | The name of the company being complained about.                              |\n",
    "| State                          | The state of residence of the consumer.                                     |\n",
    "| ZIP code                       | The postal code of the consumer's location.                                 |\n",
    "| Tags                           | Additional tags or labels related to the complaint.                         |\n",
    "| Consumer consent provided?     | Indicates whether the consumer consented to publish their complaint.        |\n",
    "| Submitted via                  | The channel or method used to submit the complaint.                         |\n",
    "| Date sent to company           | The date when the complaint was forwarded to the company for response.      |\n",
    "| Company response to consumer   | The response or resolution from the company to the consumer's complaint.    |\n",
    "| Timely response?               | Indicates whether the company responded in a timely manner.                 |\n",
    "| Consumer disputed?             | Indicates whether the consumer disputed the company's response.             |\n",
    "| Complaint ID                   | A unique identifier assigned to each complaint.                             |"
   ]
  },
  {
   "cell_type": "code",
   "execution_count": 3,
   "id": "749fe82e",
   "metadata": {},
   "outputs": [
    {
     "data": {
      "application/vnd.microsoft.datawrangler.viewer.v0+json": {
       "columns": [
        {
         "name": "index",
         "rawType": "int64",
         "type": "integer"
        },
        {
         "name": "Date received",
         "rawType": "object",
         "type": "string"
        },
        {
         "name": "Product",
         "rawType": "object",
         "type": "string"
        },
        {
         "name": "Sub-product",
         "rawType": "object",
         "type": "string"
        },
        {
         "name": "Issue",
         "rawType": "object",
         "type": "string"
        },
        {
         "name": "Sub-issue",
         "rawType": "object",
         "type": "string"
        },
        {
         "name": "Consumer complaint narrative",
         "rawType": "object",
         "type": "unknown"
        },
        {
         "name": "Company public response",
         "rawType": "object",
         "type": "string"
        },
        {
         "name": "Company",
         "rawType": "object",
         "type": "string"
        },
        {
         "name": "State",
         "rawType": "object",
         "type": "string"
        },
        {
         "name": "ZIP code",
         "rawType": "object",
         "type": "string"
        },
        {
         "name": "Tags",
         "rawType": "object",
         "type": "unknown"
        },
        {
         "name": "Consumer consent provided?",
         "rawType": "object",
         "type": "string"
        },
        {
         "name": "Submitted via",
         "rawType": "object",
         "type": "string"
        },
        {
         "name": "Date sent to company",
         "rawType": "object",
         "type": "string"
        },
        {
         "name": "Company response to consumer",
         "rawType": "object",
         "type": "string"
        },
        {
         "name": "Timely response?",
         "rawType": "object",
         "type": "string"
        },
        {
         "name": "Consumer disputed?",
         "rawType": "float64",
         "type": "float"
        },
        {
         "name": "Complaint ID",
         "rawType": "int64",
         "type": "integer"
        }
       ],
       "ref": "9479a58a-e71c-4fe0-821a-0d38c792a0c4",
       "rows": [
        [
         "0",
         "2023-01-01",
         "Credit reporting, credit repair services, or other personal consumer reports",
         "Credit reporting",
         "Improper use of your report",
         "Reporting company used your report improperly",
         "XXXX is in violation of. 15 usc 1681 section 602 A, states i have the right to privacy.604 A section 2 also states a consumer reporting agency ( XXXX  ) can not furnish a consumer/credit report without my written instructions.I gave no such instructions to experian to furnish my information to XXXX XXXX which appears on my credit report.Would like ths account deleted from account which is also in violation of 15 usc 1692 c and b.there was no prior consent to furnish my information to no one!!! also submitted dispute on XXXX 0n XXXX website and system is saying already in dispute.not me!!!!!",
         "Company has responded to the consumer and the CFPB and chooses not to provide a public response",
         "TRANSUNION INTERMEDIATE HOLDINGS, INC.",
         "NY",
         "112XX",
         null,
         "Consent provided",
         "Web",
         "2023-01-01",
         "Closed with non-monetary relief",
         "Yes",
         null,
         "6384775"
        ],
        [
         "1",
         "2023-01-01",
         "Credit reporting, credit repair services, or other personal consumer reports",
         "Credit reporting",
         "Improper use of your report",
         "Credit inquiries on your report that you don't recognize",
         "Address 's does not belong to me XXXX XXXX XXXX XXXX XXXX XXXX XXXX XXXX XXXX XXXX XXXX XXXX XXXX XXXX XXXX XXXX XXXX XXXX XXXX XXXX XXXX XXXX XXXX XXXX XXXX XXXX XXXX XXXX XXXX XXXX XXXX XXXX XXXX XXXX XXXX XXXX XXXX XXXX XXXX XXXX XXXX XXXX XXXX XXXX XXXX XXXX XXXX XXXX XXXX XXXX XXXX XXXX XXXX XXXX XXXX XXXX XXXX XXXX XXXX XXXX XXXX XXXX XXXX XXXX XXXX XXXX XXXX XXXX XXXX XXXX XXXX XXXX XXXX XXXX XXXX XXXX XXXX XXXX XXXX XXXX XXXX XXXX XXXX XXXX XXXX XXXX XXXX XXXX XXXX XXXX XXXX XXXX XXXX XXXX XXXX XXXX XXXX XXXX XXXX XXXX XXXX XXXX XXXX XXXX XXXX XXXX XXXX XXXX XXXX XXXX XXXX XXXX XXXX XXXX XXXX XXXX XXXX XXXX XXXX XXXX XXXX XXXX XXXX XXXX XXXX Inquiries do not belong to me Dispute this XXXX XXXX XXXX XXXX XXXX XXXX XXXX XXXX XXXX XXXX XXXX XXXX XXXX XXXX XXXX XXXX XXXX XXXX XXXX XXXX XXXX XXXX XXXX XXXX XXXX XXXX XXXX XXXX XXXX XXXX XXXX XXXX XXXX XXXX XXXX XXXX XXXX XXXX XXXX XXXX XXXX XXXX XXXX XXXX XXXX XXXX XXXX XXXX XXXX XXXX XXXX XXXX XXXX XXXX XXXX XXXX XXXX XXXX XXXX XXXX XXXX XXXX XXXX XXXX XXXX XXXX XXXX XXXX XXXX XXXX XXXX XXXX XXXX XXXX XXXX XXXX XXXX XXXX XXXX XXXX XXXX XXXX XXXX XXXX XXXX XXXX XXXX XXXX XXXX XXXX XXXX XXXX XXXX XXXX XXXX XXXX",
         "Company has responded to the consumer and the CFPB and chooses not to provide a public response",
         "Experian Information Solutions Inc.",
         "NC",
         "28262",
         null,
         "Consent provided",
         "Web",
         "2023-01-01",
         "Closed with non-monetary relief",
         "Yes",
         null,
         "6384724"
        ],
        [
         "2",
         "2023-01-01",
         "Credit reporting, credit repair services, or other personal consumer reports",
         "Credit reporting",
         "Problem with a credit reporting company's investigation into an existing problem",
         "Investigation took more than 30 days",
         "The credit reporting agency is reporting information that is inaccurate. I notified them of these inaccuracies in XXXX and they have yet to respond and it has been over 30 days.",
         "Company has responded to the consumer and the CFPB and chooses not to provide a public response",
         "Experian Information Solutions Inc.",
         "OH",
         "431XX",
         null,
         "Consent provided",
         "Web",
         "2023-01-01",
         "Closed with non-monetary relief",
         "Yes",
         null,
         "6384896"
        ],
        [
         "3",
         "2023-01-01",
         "Credit reporting, credit repair services, or other personal consumer reports",
         "Credit reporting",
         "Improper use of your report",
         "Reporting company used your report improperly",
         null,
         "Company has responded to the consumer and the CFPB and chooses not to provide a public response",
         "TRANSUNION INTERMEDIATE HOLDINGS, INC.",
         "MO",
         "63366",
         null,
         "Consent not provided",
         "Web",
         "2023-01-01",
         "Closed with non-monetary relief",
         "Yes",
         null,
         "6382439"
        ],
        [
         "4",
         "2023-01-01",
         "Credit reporting, credit repair services, or other personal consumer reports",
         "Credit reporting",
         "Improper use of your report",
         "Reporting company used your report improperly",
         "XXXX is in violation of The XXXX XXXX that requires financial institutions or companies that offer consumers financial products or services like loans, financial or investment advice, or insurance, need to explain their information-sharing practices to their customers and to safeguard sensitive nonpublic information data. XXXX committed identity theft as I did not receive on OPT OUT notice before submitting my nonpublic personal information to a third-party affiliate Experian. XXXX had a responsibility to provide a clear and conspicuous disclosure to me in writing or in electronic form or other form permitted by the Fair Credit Reporting Act.",
         "Company has responded to the consumer and the CFPB and chooses not to provide a public response",
         "Experian Information Solutions Inc.",
         "MO",
         "655XX",
         "Servicemember",
         "Consent provided",
         "Web",
         "2023-01-01",
         "Closed with explanation",
         "Yes",
         null,
         "6383627"
        ]
       ],
       "shape": {
        "columns": 18,
        "rows": 5
       }
      },
      "text/html": [
       "<div>\n",
       "<style scoped>\n",
       "    .dataframe tbody tr th:only-of-type {\n",
       "        vertical-align: middle;\n",
       "    }\n",
       "\n",
       "    .dataframe tbody tr th {\n",
       "        vertical-align: top;\n",
       "    }\n",
       "\n",
       "    .dataframe thead th {\n",
       "        text-align: right;\n",
       "    }\n",
       "</style>\n",
       "<table border=\"1\" class=\"dataframe\">\n",
       "  <thead>\n",
       "    <tr style=\"text-align: right;\">\n",
       "      <th></th>\n",
       "      <th>Date received</th>\n",
       "      <th>Product</th>\n",
       "      <th>Sub-product</th>\n",
       "      <th>Issue</th>\n",
       "      <th>Sub-issue</th>\n",
       "      <th>Consumer complaint narrative</th>\n",
       "      <th>Company public response</th>\n",
       "      <th>Company</th>\n",
       "      <th>State</th>\n",
       "      <th>ZIP code</th>\n",
       "      <th>Tags</th>\n",
       "      <th>Consumer consent provided?</th>\n",
       "      <th>Submitted via</th>\n",
       "      <th>Date sent to company</th>\n",
       "      <th>Company response to consumer</th>\n",
       "      <th>Timely response?</th>\n",
       "      <th>Consumer disputed?</th>\n",
       "      <th>Complaint ID</th>\n",
       "    </tr>\n",
       "  </thead>\n",
       "  <tbody>\n",
       "    <tr>\n",
       "      <th>0</th>\n",
       "      <td>2023-01-01</td>\n",
       "      <td>Credit reporting, credit repair services, or o...</td>\n",
       "      <td>Credit reporting</td>\n",
       "      <td>Improper use of your report</td>\n",
       "      <td>Reporting company used your report improperly</td>\n",
       "      <td>XXXX is in violation of. 15 usc 1681 section 6...</td>\n",
       "      <td>Company has responded to the consumer and the ...</td>\n",
       "      <td>TRANSUNION INTERMEDIATE HOLDINGS, INC.</td>\n",
       "      <td>NY</td>\n",
       "      <td>112XX</td>\n",
       "      <td>NaN</td>\n",
       "      <td>Consent provided</td>\n",
       "      <td>Web</td>\n",
       "      <td>2023-01-01</td>\n",
       "      <td>Closed with non-monetary relief</td>\n",
       "      <td>Yes</td>\n",
       "      <td>NaN</td>\n",
       "      <td>6384775</td>\n",
       "    </tr>\n",
       "    <tr>\n",
       "      <th>1</th>\n",
       "      <td>2023-01-01</td>\n",
       "      <td>Credit reporting, credit repair services, or o...</td>\n",
       "      <td>Credit reporting</td>\n",
       "      <td>Improper use of your report</td>\n",
       "      <td>Credit inquiries on your report that you don't...</td>\n",
       "      <td>Address 's does not belong to me XXXX XXXX XXX...</td>\n",
       "      <td>Company has responded to the consumer and the ...</td>\n",
       "      <td>Experian Information Solutions Inc.</td>\n",
       "      <td>NC</td>\n",
       "      <td>28262</td>\n",
       "      <td>NaN</td>\n",
       "      <td>Consent provided</td>\n",
       "      <td>Web</td>\n",
       "      <td>2023-01-01</td>\n",
       "      <td>Closed with non-monetary relief</td>\n",
       "      <td>Yes</td>\n",
       "      <td>NaN</td>\n",
       "      <td>6384724</td>\n",
       "    </tr>\n",
       "    <tr>\n",
       "      <th>2</th>\n",
       "      <td>2023-01-01</td>\n",
       "      <td>Credit reporting, credit repair services, or o...</td>\n",
       "      <td>Credit reporting</td>\n",
       "      <td>Problem with a credit reporting company's inve...</td>\n",
       "      <td>Investigation took more than 30 days</td>\n",
       "      <td>The credit reporting agency is reporting infor...</td>\n",
       "      <td>Company has responded to the consumer and the ...</td>\n",
       "      <td>Experian Information Solutions Inc.</td>\n",
       "      <td>OH</td>\n",
       "      <td>431XX</td>\n",
       "      <td>NaN</td>\n",
       "      <td>Consent provided</td>\n",
       "      <td>Web</td>\n",
       "      <td>2023-01-01</td>\n",
       "      <td>Closed with non-monetary relief</td>\n",
       "      <td>Yes</td>\n",
       "      <td>NaN</td>\n",
       "      <td>6384896</td>\n",
       "    </tr>\n",
       "    <tr>\n",
       "      <th>3</th>\n",
       "      <td>2023-01-01</td>\n",
       "      <td>Credit reporting, credit repair services, or o...</td>\n",
       "      <td>Credit reporting</td>\n",
       "      <td>Improper use of your report</td>\n",
       "      <td>Reporting company used your report improperly</td>\n",
       "      <td>NaN</td>\n",
       "      <td>Company has responded to the consumer and the ...</td>\n",
       "      <td>TRANSUNION INTERMEDIATE HOLDINGS, INC.</td>\n",
       "      <td>MO</td>\n",
       "      <td>63366</td>\n",
       "      <td>NaN</td>\n",
       "      <td>Consent not provided</td>\n",
       "      <td>Web</td>\n",
       "      <td>2023-01-01</td>\n",
       "      <td>Closed with non-monetary relief</td>\n",
       "      <td>Yes</td>\n",
       "      <td>NaN</td>\n",
       "      <td>6382439</td>\n",
       "    </tr>\n",
       "    <tr>\n",
       "      <th>4</th>\n",
       "      <td>2023-01-01</td>\n",
       "      <td>Credit reporting, credit repair services, or o...</td>\n",
       "      <td>Credit reporting</td>\n",
       "      <td>Improper use of your report</td>\n",
       "      <td>Reporting company used your report improperly</td>\n",
       "      <td>XXXX is in violation of The XXXX XXXX that req...</td>\n",
       "      <td>Company has responded to the consumer and the ...</td>\n",
       "      <td>Experian Information Solutions Inc.</td>\n",
       "      <td>MO</td>\n",
       "      <td>655XX</td>\n",
       "      <td>Servicemember</td>\n",
       "      <td>Consent provided</td>\n",
       "      <td>Web</td>\n",
       "      <td>2023-01-01</td>\n",
       "      <td>Closed with explanation</td>\n",
       "      <td>Yes</td>\n",
       "      <td>NaN</td>\n",
       "      <td>6383627</td>\n",
       "    </tr>\n",
       "  </tbody>\n",
       "</table>\n",
       "</div>"
      ],
      "text/plain": [
       "  Date received                                            Product  \\\n",
       "0    2023-01-01  Credit reporting, credit repair services, or o...   \n",
       "1    2023-01-01  Credit reporting, credit repair services, or o...   \n",
       "2    2023-01-01  Credit reporting, credit repair services, or o...   \n",
       "3    2023-01-01  Credit reporting, credit repair services, or o...   \n",
       "4    2023-01-01  Credit reporting, credit repair services, or o...   \n",
       "\n",
       "        Sub-product                                              Issue  \\\n",
       "0  Credit reporting                        Improper use of your report   \n",
       "1  Credit reporting                        Improper use of your report   \n",
       "2  Credit reporting  Problem with a credit reporting company's inve...   \n",
       "3  Credit reporting                        Improper use of your report   \n",
       "4  Credit reporting                        Improper use of your report   \n",
       "\n",
       "                                           Sub-issue  \\\n",
       "0      Reporting company used your report improperly   \n",
       "1  Credit inquiries on your report that you don't...   \n",
       "2               Investigation took more than 30 days   \n",
       "3      Reporting company used your report improperly   \n",
       "4      Reporting company used your report improperly   \n",
       "\n",
       "                        Consumer complaint narrative  \\\n",
       "0  XXXX is in violation of. 15 usc 1681 section 6...   \n",
       "1  Address 's does not belong to me XXXX XXXX XXX...   \n",
       "2  The credit reporting agency is reporting infor...   \n",
       "3                                                NaN   \n",
       "4  XXXX is in violation of The XXXX XXXX that req...   \n",
       "\n",
       "                             Company public response  \\\n",
       "0  Company has responded to the consumer and the ...   \n",
       "1  Company has responded to the consumer and the ...   \n",
       "2  Company has responded to the consumer and the ...   \n",
       "3  Company has responded to the consumer and the ...   \n",
       "4  Company has responded to the consumer and the ...   \n",
       "\n",
       "                                  Company State ZIP code           Tags  \\\n",
       "0  TRANSUNION INTERMEDIATE HOLDINGS, INC.    NY    112XX            NaN   \n",
       "1     Experian Information Solutions Inc.    NC    28262            NaN   \n",
       "2     Experian Information Solutions Inc.    OH    431XX            NaN   \n",
       "3  TRANSUNION INTERMEDIATE HOLDINGS, INC.    MO    63366            NaN   \n",
       "4     Experian Information Solutions Inc.    MO    655XX  Servicemember   \n",
       "\n",
       "  Consumer consent provided? Submitted via Date sent to company  \\\n",
       "0           Consent provided           Web           2023-01-01   \n",
       "1           Consent provided           Web           2023-01-01   \n",
       "2           Consent provided           Web           2023-01-01   \n",
       "3       Consent not provided           Web           2023-01-01   \n",
       "4           Consent provided           Web           2023-01-01   \n",
       "\n",
       "      Company response to consumer Timely response?  Consumer disputed?  \\\n",
       "0  Closed with non-monetary relief              Yes                 NaN   \n",
       "1  Closed with non-monetary relief              Yes                 NaN   \n",
       "2  Closed with non-monetary relief              Yes                 NaN   \n",
       "3  Closed with non-monetary relief              Yes                 NaN   \n",
       "4          Closed with explanation              Yes                 NaN   \n",
       "\n",
       "   Complaint ID  \n",
       "0       6384775  \n",
       "1       6384724  \n",
       "2       6384896  \n",
       "3       6382439  \n",
       "4       6383627  "
      ]
     },
     "execution_count": 3,
     "metadata": {},
     "output_type": "execute_result"
    }
   ],
   "source": [
    "sample_df.head()"
   ]
  },
  {
   "cell_type": "code",
   "execution_count": 4,
   "id": "5cdf5071",
   "metadata": {},
   "outputs": [
    {
     "data": {
      "text/plain": [
       "(399046, 18)"
      ]
     },
     "execution_count": 4,
     "metadata": {},
     "output_type": "execute_result"
    }
   ],
   "source": [
    "sample_df.shape"
   ]
  },
  {
   "cell_type": "code",
   "execution_count": 5,
   "id": "87e567af",
   "metadata": {},
   "outputs": [
    {
     "name": "stdout",
     "output_type": "stream",
     "text": [
      "<class 'pandas.core.frame.DataFrame'>\n",
      "RangeIndex: 399046 entries, 0 to 399045\n",
      "Data columns (total 18 columns):\n",
      " #   Column                        Non-Null Count   Dtype  \n",
      "---  ------                        --------------   -----  \n",
      " 0   date_received                 399046 non-null  object \n",
      " 1   product                       399046 non-null  object \n",
      " 2   subproduct                    399045 non-null  object \n",
      " 3   issue                         399045 non-null  object \n",
      " 4   subissue                      385096 non-null  object \n",
      " 5   consumer_complaint_narrative  239524 non-null  object \n",
      " 6   company_public_response       226285 non-null  object \n",
      " 7   company                       399046 non-null  object \n",
      " 8   state                         397871 non-null  object \n",
      " 9   zip_code                      399040 non-null  object \n",
      " 10  tags                          24390 non-null   object \n",
      " 11  consumer_consent_provided     381808 non-null  object \n",
      " 12  submitted_via                 399046 non-null  object \n",
      " 13  date_sent_to_company          399046 non-null  object \n",
      " 14  company_response_to_consumer  399044 non-null  object \n",
      " 15  timely_response               399046 non-null  object \n",
      " 16  consumer_disputed             0 non-null       float64\n",
      " 17  complaint_id                  399046 non-null  int64  \n",
      "dtypes: float64(1), int64(1), object(16)\n",
      "memory usage: 54.8+ MB\n"
     ]
    }
   ],
   "source": [
    "# Formating Columns Name\n",
    "sample_df.columns = (\n",
    "    sample_df.columns\n",
    "    .str.strip()\n",
    "    .str.lower()\n",
    "    .str.replace(r'\\s+', '_', regex=True)\n",
    "    .str.replace(r'[^\\w]', '', regex=True)\n",
    ")\n",
    "\n",
    "sample_df.info()"
   ]
  },
  {
   "cell_type": "code",
   "execution_count": 6,
   "id": "8d756491",
   "metadata": {},
   "outputs": [
    {
     "data": {
      "application/vnd.microsoft.datawrangler.viewer.v0+json": {
       "columns": [
        {
         "name": "index",
         "rawType": "int64",
         "type": "integer"
        },
        {
         "name": "date_received",
         "rawType": "datetime64[ns]",
         "type": "datetime"
        },
        {
         "name": "product",
         "rawType": "object",
         "type": "string"
        },
        {
         "name": "subproduct",
         "rawType": "object",
         "type": "string"
        },
        {
         "name": "issue",
         "rawType": "object",
         "type": "string"
        },
        {
         "name": "subissue",
         "rawType": "object",
         "type": "string"
        },
        {
         "name": "consumer_complaint_narrative",
         "rawType": "object",
         "type": "unknown"
        },
        {
         "name": "company_public_response",
         "rawType": "object",
         "type": "string"
        },
        {
         "name": "company",
         "rawType": "object",
         "type": "string"
        },
        {
         "name": "state",
         "rawType": "object",
         "type": "string"
        },
        {
         "name": "zip_code",
         "rawType": "object",
         "type": "string"
        },
        {
         "name": "tags",
         "rawType": "object",
         "type": "unknown"
        },
        {
         "name": "consumer_consent_provided",
         "rawType": "object",
         "type": "string"
        },
        {
         "name": "submitted_via",
         "rawType": "object",
         "type": "string"
        },
        {
         "name": "date_sent_to_company",
         "rawType": "datetime64[ns]",
         "type": "datetime"
        },
        {
         "name": "company_response_to_consumer",
         "rawType": "object",
         "type": "string"
        },
        {
         "name": "timely_response",
         "rawType": "object",
         "type": "string"
        },
        {
         "name": "consumer_disputed",
         "rawType": "float64",
         "type": "float"
        },
        {
         "name": "complaint_id",
         "rawType": "int64",
         "type": "integer"
        },
        {
         "name": "date_received_day",
         "rawType": "int32",
         "type": "integer"
        },
        {
         "name": "date_received_month",
         "rawType": "int32",
         "type": "integer"
        },
        {
         "name": "date_received_year",
         "rawType": "int32",
         "type": "integer"
        },
        {
         "name": "date_sent_to_company_day",
         "rawType": "int32",
         "type": "integer"
        },
        {
         "name": "date_sent_to_company_month",
         "rawType": "int32",
         "type": "integer"
        },
        {
         "name": "date_sent_to_company_year",
         "rawType": "int32",
         "type": "integer"
        },
        {
         "name": "processing_day",
         "rawType": "int64",
         "type": "integer"
        }
       ],
       "ref": "0b59bd29-66bb-4c6b-a624-1ac8e5a38313",
       "rows": [
        [
         "0",
         "2023-01-01 00:00:00",
         "Credit reporting, credit repair services, or other personal consumer reports",
         "Credit reporting",
         "Improper use of your report",
         "Reporting company used your report improperly",
         "XXXX is in violation of. 15 usc 1681 section 602 A, states i have the right to privacy.604 A section 2 also states a consumer reporting agency ( XXXX  ) can not furnish a consumer/credit report without my written instructions.I gave no such instructions to experian to furnish my information to XXXX XXXX which appears on my credit report.Would like ths account deleted from account which is also in violation of 15 usc 1692 c and b.there was no prior consent to furnish my information to no one!!! also submitted dispute on XXXX 0n XXXX website and system is saying already in dispute.not me!!!!!",
         "Company has responded to the consumer and the CFPB and chooses not to provide a public response",
         "TRANSUNION INTERMEDIATE HOLDINGS, INC.",
         "NY",
         "112XX",
         null,
         "Consent provided",
         "Web",
         "2023-01-01 00:00:00",
         "Closed with non-monetary relief",
         "Yes",
         null,
         "6384775",
         "1",
         "1",
         "2023",
         "1",
         "1",
         "2023",
         "0"
        ],
        [
         "1",
         "2023-01-01 00:00:00",
         "Credit reporting, credit repair services, or other personal consumer reports",
         "Credit reporting",
         "Improper use of your report",
         "Credit inquiries on your report that you don't recognize",
         "Address 's does not belong to me XXXX XXXX XXXX XXXX XXXX XXXX XXXX XXXX XXXX XXXX XXXX XXXX XXXX XXXX XXXX XXXX XXXX XXXX XXXX XXXX XXXX XXXX XXXX XXXX XXXX XXXX XXXX XXXX XXXX XXXX XXXX XXXX XXXX XXXX XXXX XXXX XXXX XXXX XXXX XXXX XXXX XXXX XXXX XXXX XXXX XXXX XXXX XXXX XXXX XXXX XXXX XXXX XXXX XXXX XXXX XXXX XXXX XXXX XXXX XXXX XXXX XXXX XXXX XXXX XXXX XXXX XXXX XXXX XXXX XXXX XXXX XXXX XXXX XXXX XXXX XXXX XXXX XXXX XXXX XXXX XXXX XXXX XXXX XXXX XXXX XXXX XXXX XXXX XXXX XXXX XXXX XXXX XXXX XXXX XXXX XXXX XXXX XXXX XXXX XXXX XXXX XXXX XXXX XXXX XXXX XXXX XXXX XXXX XXXX XXXX XXXX XXXX XXXX XXXX XXXX XXXX XXXX XXXX XXXX XXXX XXXX XXXX XXXX XXXX XXXX Inquiries do not belong to me Dispute this XXXX XXXX XXXX XXXX XXXX XXXX XXXX XXXX XXXX XXXX XXXX XXXX XXXX XXXX XXXX XXXX XXXX XXXX XXXX XXXX XXXX XXXX XXXX XXXX XXXX XXXX XXXX XXXX XXXX XXXX XXXX XXXX XXXX XXXX XXXX XXXX XXXX XXXX XXXX XXXX XXXX XXXX XXXX XXXX XXXX XXXX XXXX XXXX XXXX XXXX XXXX XXXX XXXX XXXX XXXX XXXX XXXX XXXX XXXX XXXX XXXX XXXX XXXX XXXX XXXX XXXX XXXX XXXX XXXX XXXX XXXX XXXX XXXX XXXX XXXX XXXX XXXX XXXX XXXX XXXX XXXX XXXX XXXX XXXX XXXX XXXX XXXX XXXX XXXX XXXX XXXX XXXX XXXX XXXX XXXX XXXX",
         "Company has responded to the consumer and the CFPB and chooses not to provide a public response",
         "Experian Information Solutions Inc.",
         "NC",
         "28262",
         null,
         "Consent provided",
         "Web",
         "2023-01-01 00:00:00",
         "Closed with non-monetary relief",
         "Yes",
         null,
         "6384724",
         "1",
         "1",
         "2023",
         "1",
         "1",
         "2023",
         "0"
        ],
        [
         "2",
         "2023-01-01 00:00:00",
         "Credit reporting, credit repair services, or other personal consumer reports",
         "Credit reporting",
         "Problem with a credit reporting company's investigation into an existing problem",
         "Investigation took more than 30 days",
         "The credit reporting agency is reporting information that is inaccurate. I notified them of these inaccuracies in XXXX and they have yet to respond and it has been over 30 days.",
         "Company has responded to the consumer and the CFPB and chooses not to provide a public response",
         "Experian Information Solutions Inc.",
         "OH",
         "431XX",
         null,
         "Consent provided",
         "Web",
         "2023-01-01 00:00:00",
         "Closed with non-monetary relief",
         "Yes",
         null,
         "6384896",
         "1",
         "1",
         "2023",
         "1",
         "1",
         "2023",
         "0"
        ],
        [
         "3",
         "2023-01-01 00:00:00",
         "Credit reporting, credit repair services, or other personal consumer reports",
         "Credit reporting",
         "Improper use of your report",
         "Reporting company used your report improperly",
         null,
         "Company has responded to the consumer and the CFPB and chooses not to provide a public response",
         "TRANSUNION INTERMEDIATE HOLDINGS, INC.",
         "MO",
         "63366",
         null,
         "Consent not provided",
         "Web",
         "2023-01-01 00:00:00",
         "Closed with non-monetary relief",
         "Yes",
         null,
         "6382439",
         "1",
         "1",
         "2023",
         "1",
         "1",
         "2023",
         "0"
        ],
        [
         "4",
         "2023-01-01 00:00:00",
         "Credit reporting, credit repair services, or other personal consumer reports",
         "Credit reporting",
         "Improper use of your report",
         "Reporting company used your report improperly",
         "XXXX is in violation of The XXXX XXXX that requires financial institutions or companies that offer consumers financial products or services like loans, financial or investment advice, or insurance, need to explain their information-sharing practices to their customers and to safeguard sensitive nonpublic information data. XXXX committed identity theft as I did not receive on OPT OUT notice before submitting my nonpublic personal information to a third-party affiliate Experian. XXXX had a responsibility to provide a clear and conspicuous disclosure to me in writing or in electronic form or other form permitted by the Fair Credit Reporting Act.",
         "Company has responded to the consumer and the CFPB and chooses not to provide a public response",
         "Experian Information Solutions Inc.",
         "MO",
         "655XX",
         "Servicemember",
         "Consent provided",
         "Web",
         "2023-01-01 00:00:00",
         "Closed with explanation",
         "Yes",
         null,
         "6383627",
         "1",
         "1",
         "2023",
         "1",
         "1",
         "2023",
         "0"
        ]
       ],
       "shape": {
        "columns": 25,
        "rows": 5
       }
      },
      "text/html": [
       "<div>\n",
       "<style scoped>\n",
       "    .dataframe tbody tr th:only-of-type {\n",
       "        vertical-align: middle;\n",
       "    }\n",
       "\n",
       "    .dataframe tbody tr th {\n",
       "        vertical-align: top;\n",
       "    }\n",
       "\n",
       "    .dataframe thead th {\n",
       "        text-align: right;\n",
       "    }\n",
       "</style>\n",
       "<table border=\"1\" class=\"dataframe\">\n",
       "  <thead>\n",
       "    <tr style=\"text-align: right;\">\n",
       "      <th></th>\n",
       "      <th>date_received</th>\n",
       "      <th>product</th>\n",
       "      <th>subproduct</th>\n",
       "      <th>issue</th>\n",
       "      <th>subissue</th>\n",
       "      <th>consumer_complaint_narrative</th>\n",
       "      <th>company_public_response</th>\n",
       "      <th>company</th>\n",
       "      <th>state</th>\n",
       "      <th>zip_code</th>\n",
       "      <th>...</th>\n",
       "      <th>timely_response</th>\n",
       "      <th>consumer_disputed</th>\n",
       "      <th>complaint_id</th>\n",
       "      <th>date_received_day</th>\n",
       "      <th>date_received_month</th>\n",
       "      <th>date_received_year</th>\n",
       "      <th>date_sent_to_company_day</th>\n",
       "      <th>date_sent_to_company_month</th>\n",
       "      <th>date_sent_to_company_year</th>\n",
       "      <th>processing_day</th>\n",
       "    </tr>\n",
       "  </thead>\n",
       "  <tbody>\n",
       "    <tr>\n",
       "      <th>0</th>\n",
       "      <td>2023-01-01</td>\n",
       "      <td>Credit reporting, credit repair services, or o...</td>\n",
       "      <td>Credit reporting</td>\n",
       "      <td>Improper use of your report</td>\n",
       "      <td>Reporting company used your report improperly</td>\n",
       "      <td>XXXX is in violation of. 15 usc 1681 section 6...</td>\n",
       "      <td>Company has responded to the consumer and the ...</td>\n",
       "      <td>TRANSUNION INTERMEDIATE HOLDINGS, INC.</td>\n",
       "      <td>NY</td>\n",
       "      <td>112XX</td>\n",
       "      <td>...</td>\n",
       "      <td>Yes</td>\n",
       "      <td>NaN</td>\n",
       "      <td>6384775</td>\n",
       "      <td>1</td>\n",
       "      <td>1</td>\n",
       "      <td>2023</td>\n",
       "      <td>1</td>\n",
       "      <td>1</td>\n",
       "      <td>2023</td>\n",
       "      <td>0</td>\n",
       "    </tr>\n",
       "    <tr>\n",
       "      <th>1</th>\n",
       "      <td>2023-01-01</td>\n",
       "      <td>Credit reporting, credit repair services, or o...</td>\n",
       "      <td>Credit reporting</td>\n",
       "      <td>Improper use of your report</td>\n",
       "      <td>Credit inquiries on your report that you don't...</td>\n",
       "      <td>Address 's does not belong to me XXXX XXXX XXX...</td>\n",
       "      <td>Company has responded to the consumer and the ...</td>\n",
       "      <td>Experian Information Solutions Inc.</td>\n",
       "      <td>NC</td>\n",
       "      <td>28262</td>\n",
       "      <td>...</td>\n",
       "      <td>Yes</td>\n",
       "      <td>NaN</td>\n",
       "      <td>6384724</td>\n",
       "      <td>1</td>\n",
       "      <td>1</td>\n",
       "      <td>2023</td>\n",
       "      <td>1</td>\n",
       "      <td>1</td>\n",
       "      <td>2023</td>\n",
       "      <td>0</td>\n",
       "    </tr>\n",
       "    <tr>\n",
       "      <th>2</th>\n",
       "      <td>2023-01-01</td>\n",
       "      <td>Credit reporting, credit repair services, or o...</td>\n",
       "      <td>Credit reporting</td>\n",
       "      <td>Problem with a credit reporting company's inve...</td>\n",
       "      <td>Investigation took more than 30 days</td>\n",
       "      <td>The credit reporting agency is reporting infor...</td>\n",
       "      <td>Company has responded to the consumer and the ...</td>\n",
       "      <td>Experian Information Solutions Inc.</td>\n",
       "      <td>OH</td>\n",
       "      <td>431XX</td>\n",
       "      <td>...</td>\n",
       "      <td>Yes</td>\n",
       "      <td>NaN</td>\n",
       "      <td>6384896</td>\n",
       "      <td>1</td>\n",
       "      <td>1</td>\n",
       "      <td>2023</td>\n",
       "      <td>1</td>\n",
       "      <td>1</td>\n",
       "      <td>2023</td>\n",
       "      <td>0</td>\n",
       "    </tr>\n",
       "    <tr>\n",
       "      <th>3</th>\n",
       "      <td>2023-01-01</td>\n",
       "      <td>Credit reporting, credit repair services, or o...</td>\n",
       "      <td>Credit reporting</td>\n",
       "      <td>Improper use of your report</td>\n",
       "      <td>Reporting company used your report improperly</td>\n",
       "      <td>NaN</td>\n",
       "      <td>Company has responded to the consumer and the ...</td>\n",
       "      <td>TRANSUNION INTERMEDIATE HOLDINGS, INC.</td>\n",
       "      <td>MO</td>\n",
       "      <td>63366</td>\n",
       "      <td>...</td>\n",
       "      <td>Yes</td>\n",
       "      <td>NaN</td>\n",
       "      <td>6382439</td>\n",
       "      <td>1</td>\n",
       "      <td>1</td>\n",
       "      <td>2023</td>\n",
       "      <td>1</td>\n",
       "      <td>1</td>\n",
       "      <td>2023</td>\n",
       "      <td>0</td>\n",
       "    </tr>\n",
       "    <tr>\n",
       "      <th>4</th>\n",
       "      <td>2023-01-01</td>\n",
       "      <td>Credit reporting, credit repair services, or o...</td>\n",
       "      <td>Credit reporting</td>\n",
       "      <td>Improper use of your report</td>\n",
       "      <td>Reporting company used your report improperly</td>\n",
       "      <td>XXXX is in violation of The XXXX XXXX that req...</td>\n",
       "      <td>Company has responded to the consumer and the ...</td>\n",
       "      <td>Experian Information Solutions Inc.</td>\n",
       "      <td>MO</td>\n",
       "      <td>655XX</td>\n",
       "      <td>...</td>\n",
       "      <td>Yes</td>\n",
       "      <td>NaN</td>\n",
       "      <td>6383627</td>\n",
       "      <td>1</td>\n",
       "      <td>1</td>\n",
       "      <td>2023</td>\n",
       "      <td>1</td>\n",
       "      <td>1</td>\n",
       "      <td>2023</td>\n",
       "      <td>0</td>\n",
       "    </tr>\n",
       "  </tbody>\n",
       "</table>\n",
       "<p>5 rows × 25 columns</p>\n",
       "</div>"
      ],
      "text/plain": [
       "  date_received                                            product  \\\n",
       "0    2023-01-01  Credit reporting, credit repair services, or o...   \n",
       "1    2023-01-01  Credit reporting, credit repair services, or o...   \n",
       "2    2023-01-01  Credit reporting, credit repair services, or o...   \n",
       "3    2023-01-01  Credit reporting, credit repair services, or o...   \n",
       "4    2023-01-01  Credit reporting, credit repair services, or o...   \n",
       "\n",
       "         subproduct                                              issue  \\\n",
       "0  Credit reporting                        Improper use of your report   \n",
       "1  Credit reporting                        Improper use of your report   \n",
       "2  Credit reporting  Problem with a credit reporting company's inve...   \n",
       "3  Credit reporting                        Improper use of your report   \n",
       "4  Credit reporting                        Improper use of your report   \n",
       "\n",
       "                                            subissue  \\\n",
       "0      Reporting company used your report improperly   \n",
       "1  Credit inquiries on your report that you don't...   \n",
       "2               Investigation took more than 30 days   \n",
       "3      Reporting company used your report improperly   \n",
       "4      Reporting company used your report improperly   \n",
       "\n",
       "                        consumer_complaint_narrative  \\\n",
       "0  XXXX is in violation of. 15 usc 1681 section 6...   \n",
       "1  Address 's does not belong to me XXXX XXXX XXX...   \n",
       "2  The credit reporting agency is reporting infor...   \n",
       "3                                                NaN   \n",
       "4  XXXX is in violation of The XXXX XXXX that req...   \n",
       "\n",
       "                             company_public_response  \\\n",
       "0  Company has responded to the consumer and the ...   \n",
       "1  Company has responded to the consumer and the ...   \n",
       "2  Company has responded to the consumer and the ...   \n",
       "3  Company has responded to the consumer and the ...   \n",
       "4  Company has responded to the consumer and the ...   \n",
       "\n",
       "                                  company state zip_code  ... timely_response  \\\n",
       "0  TRANSUNION INTERMEDIATE HOLDINGS, INC.    NY    112XX  ...             Yes   \n",
       "1     Experian Information Solutions Inc.    NC    28262  ...             Yes   \n",
       "2     Experian Information Solutions Inc.    OH    431XX  ...             Yes   \n",
       "3  TRANSUNION INTERMEDIATE HOLDINGS, INC.    MO    63366  ...             Yes   \n",
       "4     Experian Information Solutions Inc.    MO    655XX  ...             Yes   \n",
       "\n",
       "  consumer_disputed complaint_id date_received_day date_received_month  \\\n",
       "0               NaN      6384775                 1                   1   \n",
       "1               NaN      6384724                 1                   1   \n",
       "2               NaN      6384896                 1                   1   \n",
       "3               NaN      6382439                 1                   1   \n",
       "4               NaN      6383627                 1                   1   \n",
       "\n",
       "  date_received_year  date_sent_to_company_day  date_sent_to_company_month  \\\n",
       "0               2023                         1                           1   \n",
       "1               2023                         1                           1   \n",
       "2               2023                         1                           1   \n",
       "3               2023                         1                           1   \n",
       "4               2023                         1                           1   \n",
       "\n",
       "   date_sent_to_company_year  processing_day  \n",
       "0                       2023               0  \n",
       "1                       2023               0  \n",
       "2                       2023               0  \n",
       "3                       2023               0  \n",
       "4                       2023               0  \n",
       "\n",
       "[5 rows x 25 columns]"
      ]
     },
     "execution_count": 6,
     "metadata": {},
     "output_type": "execute_result"
    }
   ],
   "source": [
    "# Convert date columns to datetime format\n",
    "date_cols = ['date_received', 'date_sent_to_company']\n",
    "sample_df[date_cols] = sample_df[date_cols].apply(pd.to_datetime, errors='coerce')\n",
    "\n",
    "# Extract day, month, and year components from each date column\n",
    "for col in date_cols:\n",
    "    sample_df[f'{col}_day'] = sample_df[col].dt.day\n",
    "    sample_df[f'{col}_month'] = sample_df[col].dt.month\n",
    "    sample_df[f'{col}_year'] = sample_df[col].dt.year\n",
    "\n",
    "# Calculate the number of days taken to forward the complaint to the company\n",
    "# (difference between 'date_sent_to_company' and 'date_received')\n",
    "sample_df['processing_day'] = (sample_df['date_sent_to_company'] - sample_df['date_received']).dt.days\n",
    "\n",
    "# Display the first few rows of the updated DataFrame\n",
    "sample_df.head()"
   ]
  },
  {
   "cell_type": "markdown",
   "id": "bb1b6181",
   "metadata": {},
   "source": [
    "## Product Column"
   ]
  },
  {
   "cell_type": "code",
   "execution_count": 7,
   "id": "c53b8f30",
   "metadata": {},
   "outputs": [
    {
     "data": {
      "text/plain": [
       "['Credit reporting, credit repair services, or other personal consumer reports',\n",
       " 'Vehicle loan or lease',\n",
       " 'Credit card or prepaid card',\n",
       " 'Student loan',\n",
       " 'Debt collection',\n",
       " 'Checking or savings account',\n",
       " 'Money transfer, virtual currency, or money service',\n",
       " 'Mortgage',\n",
       " 'Payday loan, title loan, or personal loan',\n",
       " 'Credit reporting or other personal consumer reports',\n",
       " 'Credit card',\n",
       " 'Prepaid card',\n",
       " 'Payday loan, title loan, personal loan, or advance loan',\n",
       " 'Debt or credit management']"
      ]
     },
     "execution_count": 7,
     "metadata": {},
     "output_type": "execute_result"
    }
   ],
   "source": [
    "list(sample_df['product'].unique())"
   ]
  },
  {
   "cell_type": "markdown",
   "id": "9a89547c",
   "metadata": {},
   "source": [
    "**Insight from unique values in the product column**\n",
    "\n",
    "1. Some products are actually the same but have different phrasing → category normalization is necessary to ensure consistency and avoid bias in calculations or models.\n",
    "\n",
    "2. Categories that can be combined into **Credit reporting**\n",
    "- 'Credit reporting, credit repair services, or other personal consumer reports'\n",
    "- 'Credit reporting or other personal consumer reports'\n",
    "\n",
    "    (Both have the same core: credit reporting services and consumer reports.)\n",
    "\n",
    "3. Categories that can be combined into **Credit card / Prepaid card**\n",
    "- 'Credit card or prepaid card'\n",
    "- 'Credit card'\n",
    "- 'Prepaid card'\n",
    "\n",
    "    (All three relate to credit card or prepaid card services, the only difference being the type of card.)\n",
    "\n",
    "3. Categories that can be combined into **Payday/Title/Personal loan**\n",
    "- 'Payday loan, title loan, or personal loan'\n",
    "- 'Payday loan, title loan, personal loan, or advance loan'\n",
    "\n",
    "    (Both cover payday, title, personal, and advance loans — essentially the same thing.)"
   ]
  },
  {
   "cell_type": "code",
   "execution_count": 8,
   "id": "793ed1e9",
   "metadata": {},
   "outputs": [],
   "source": [
    "mapping = {\n",
    "    'Credit reporting, credit repair services, or other personal consumer reports': 'Credit reporting',\n",
    "    'Credit reporting or other personal consumer reports': 'Credit reporting',\n",
    "    'Credit card or prepaid card': 'Credit card / Prepaid card',\n",
    "    'Credit card': 'Credit card / Prepaid card',\n",
    "    'Prepaid card': 'Credit card / Prepaid card',\n",
    "    'Payday loan, title loan, or personal loan': 'Payday/Title/Personal loan',\n",
    "    'Payday loan, title loan, personal loan, or advance loan': 'Payday/Title/Personal loan'\n",
    "}\n",
    "\n",
    "sample_df['product_clean'] = sample_df['product'].replace(mapping)"
   ]
  },
  {
   "cell_type": "code",
   "execution_count": 9,
   "id": "59968462",
   "metadata": {},
   "outputs": [
    {
     "data": {
      "application/vnd.microsoft.datawrangler.viewer.v0+json": {
       "columns": [
        {
         "name": "product_clean",
         "rawType": "object",
         "type": "string"
        },
        {
         "name": "count",
         "rawType": "int64",
         "type": "integer"
        },
        {
         "name": "percentage",
         "rawType": "float64",
         "type": "float"
        }
       ],
       "ref": "4192803b-1005-4607-85cf-cc0fbd73e309",
       "rows": [
        [
         "Credit reporting",
         "320496",
         "80.31555259293415"
        ],
        [
         "Debt collection",
         "25599",
         "6.415049893997184"
        ],
        [
         "Credit card / Prepaid card",
         "16502",
         "4.135362840374293"
        ],
        [
         "Checking or savings account",
         "13762",
         "3.448725209624955"
        ],
        [
         "Money transfer, virtual currency, or money service",
         "8038",
         "2.0143041153150265"
        ],
        [
         "Mortgage",
         "5551",
         "1.3910676964560478"
        ],
        [
         "Student loan",
         "3333",
         "0.835242052294723"
        ],
        [
         "Vehicle loan or lease",
         "3297",
         "0.8262205359783084"
        ],
        [
         "Payday/Title/Personal loan",
         "2093",
         "0.5245009347293295"
        ],
        [
         "Debt or credit management",
         "375",
         "0.09397412829598592"
        ]
       ],
       "shape": {
        "columns": 2,
        "rows": 10
       }
      },
      "text/html": [
       "<div>\n",
       "<style scoped>\n",
       "    .dataframe tbody tr th:only-of-type {\n",
       "        vertical-align: middle;\n",
       "    }\n",
       "\n",
       "    .dataframe tbody tr th {\n",
       "        vertical-align: top;\n",
       "    }\n",
       "\n",
       "    .dataframe thead th {\n",
       "        text-align: right;\n",
       "    }\n",
       "</style>\n",
       "<table border=\"1\" class=\"dataframe\">\n",
       "  <thead>\n",
       "    <tr style=\"text-align: right;\">\n",
       "      <th></th>\n",
       "      <th>count</th>\n",
       "      <th>percentage</th>\n",
       "    </tr>\n",
       "    <tr>\n",
       "      <th>product_clean</th>\n",
       "      <th></th>\n",
       "      <th></th>\n",
       "    </tr>\n",
       "  </thead>\n",
       "  <tbody>\n",
       "    <tr>\n",
       "      <th>Credit reporting</th>\n",
       "      <td>320496</td>\n",
       "      <td>80.315553</td>\n",
       "    </tr>\n",
       "    <tr>\n",
       "      <th>Debt collection</th>\n",
       "      <td>25599</td>\n",
       "      <td>6.415050</td>\n",
       "    </tr>\n",
       "    <tr>\n",
       "      <th>Credit card / Prepaid card</th>\n",
       "      <td>16502</td>\n",
       "      <td>4.135363</td>\n",
       "    </tr>\n",
       "    <tr>\n",
       "      <th>Checking or savings account</th>\n",
       "      <td>13762</td>\n",
       "      <td>3.448725</td>\n",
       "    </tr>\n",
       "    <tr>\n",
       "      <th>Money transfer, virtual currency, or money service</th>\n",
       "      <td>8038</td>\n",
       "      <td>2.014304</td>\n",
       "    </tr>\n",
       "    <tr>\n",
       "      <th>Mortgage</th>\n",
       "      <td>5551</td>\n",
       "      <td>1.391068</td>\n",
       "    </tr>\n",
       "    <tr>\n",
       "      <th>Student loan</th>\n",
       "      <td>3333</td>\n",
       "      <td>0.835242</td>\n",
       "    </tr>\n",
       "    <tr>\n",
       "      <th>Vehicle loan or lease</th>\n",
       "      <td>3297</td>\n",
       "      <td>0.826221</td>\n",
       "    </tr>\n",
       "    <tr>\n",
       "      <th>Payday/Title/Personal loan</th>\n",
       "      <td>2093</td>\n",
       "      <td>0.524501</td>\n",
       "    </tr>\n",
       "    <tr>\n",
       "      <th>Debt or credit management</th>\n",
       "      <td>375</td>\n",
       "      <td>0.093974</td>\n",
       "    </tr>\n",
       "  </tbody>\n",
       "</table>\n",
       "</div>"
      ],
      "text/plain": [
       "                                                     count  percentage\n",
       "product_clean                                                         \n",
       "Credit reporting                                    320496   80.315553\n",
       "Debt collection                                      25599    6.415050\n",
       "Credit card / Prepaid card                           16502    4.135363\n",
       "Checking or savings account                          13762    3.448725\n",
       "Money transfer, virtual currency, or money service    8038    2.014304\n",
       "Mortgage                                              5551    1.391068\n",
       "Student loan                                          3333    0.835242\n",
       "Vehicle loan or lease                                 3297    0.826221\n",
       "Payday/Title/Personal loan                            2093    0.524501\n",
       "Debt or credit management                              375    0.093974"
      ]
     },
     "execution_count": 9,
     "metadata": {},
     "output_type": "execute_result"
    }
   ],
   "source": [
    "# Count the number of data per category\n",
    "count_per_category = sample_df['product_clean'].value_counts()\n",
    "\n",
    "# Calculate the percentage per category\n",
    "percentage_per_category = sample_df['product_clean'].value_counts(normalize=True) * 100\n",
    "\n",
    "# Combine into one table\n",
    "summary = pd.DataFrame({\n",
    "    'count': count_per_category,\n",
    "    'percentage': percentage_per_category\n",
    "})\n",
    "\n",
    "summary"
   ]
  },
  {
   "cell_type": "markdown",
   "id": "9e61fc33",
   "metadata": {},
   "source": [
    "**Insight from unique values in the product_clean column**\n",
    "\n",
    "1. Categories with a proportion of <1% should be combined to be more generic and reduce class imbalance.\n",
    "2. Debt collection and Debt or credit management are combined into a single category called Debt-related because they share similar topics.\n",
    "3. Student loans, Vehicle loans or leases, and Payday/Title/Personal loans are combined into the Other category because they are small in number and lack strong ties to other major categories."
   ]
  },
  {
   "cell_type": "code",
   "execution_count": 10,
   "id": "92012b35",
   "metadata": {},
   "outputs": [
    {
     "data": {
      "application/vnd.microsoft.datawrangler.viewer.v0+json": {
       "columns": [
        {
         "name": "product_group",
         "rawType": "object",
         "type": "string"
        },
        {
         "name": "count",
         "rawType": "int64",
         "type": "integer"
        },
        {
         "name": "percentage",
         "rawType": "float64",
         "type": "float"
        }
       ],
       "ref": "4679f5e1-6193-4a19-8217-d016d500fb7e",
       "rows": [
        [
         "Credit reporting",
         "320496",
         "80.31555259293415"
        ],
        [
         "Debt related",
         "25974",
         "6.509024022293169"
        ],
        [
         "Credit/Prepaid card",
         "16502",
         "4.135362840374293"
        ],
        [
         "Checking/Savings account",
         "13762",
         "3.448725209624955"
        ],
        [
         "Other",
         "8723",
         "2.1859635230023606"
        ],
        [
         "Money services",
         "8038",
         "2.0143041153150265"
        ],
        [
         "Mortgage",
         "5551",
         "1.3910676964560478"
        ]
       ],
       "shape": {
        "columns": 2,
        "rows": 7
       }
      },
      "text/html": [
       "<div>\n",
       "<style scoped>\n",
       "    .dataframe tbody tr th:only-of-type {\n",
       "        vertical-align: middle;\n",
       "    }\n",
       "\n",
       "    .dataframe tbody tr th {\n",
       "        vertical-align: top;\n",
       "    }\n",
       "\n",
       "    .dataframe thead th {\n",
       "        text-align: right;\n",
       "    }\n",
       "</style>\n",
       "<table border=\"1\" class=\"dataframe\">\n",
       "  <thead>\n",
       "    <tr style=\"text-align: right;\">\n",
       "      <th></th>\n",
       "      <th>count</th>\n",
       "      <th>percentage</th>\n",
       "    </tr>\n",
       "    <tr>\n",
       "      <th>product_group</th>\n",
       "      <th></th>\n",
       "      <th></th>\n",
       "    </tr>\n",
       "  </thead>\n",
       "  <tbody>\n",
       "    <tr>\n",
       "      <th>Credit reporting</th>\n",
       "      <td>320496</td>\n",
       "      <td>80.315553</td>\n",
       "    </tr>\n",
       "    <tr>\n",
       "      <th>Debt related</th>\n",
       "      <td>25974</td>\n",
       "      <td>6.509024</td>\n",
       "    </tr>\n",
       "    <tr>\n",
       "      <th>Credit/Prepaid card</th>\n",
       "      <td>16502</td>\n",
       "      <td>4.135363</td>\n",
       "    </tr>\n",
       "    <tr>\n",
       "      <th>Checking/Savings account</th>\n",
       "      <td>13762</td>\n",
       "      <td>3.448725</td>\n",
       "    </tr>\n",
       "    <tr>\n",
       "      <th>Other</th>\n",
       "      <td>8723</td>\n",
       "      <td>2.185964</td>\n",
       "    </tr>\n",
       "    <tr>\n",
       "      <th>Money services</th>\n",
       "      <td>8038</td>\n",
       "      <td>2.014304</td>\n",
       "    </tr>\n",
       "    <tr>\n",
       "      <th>Mortgage</th>\n",
       "      <td>5551</td>\n",
       "      <td>1.391068</td>\n",
       "    </tr>\n",
       "  </tbody>\n",
       "</table>\n",
       "</div>"
      ],
      "text/plain": [
       "                           count  percentage\n",
       "product_group                               \n",
       "Credit reporting          320496   80.315553\n",
       "Debt related               25974    6.509024\n",
       "Credit/Prepaid card        16502    4.135363\n",
       "Checking/Savings account   13762    3.448725\n",
       "Other                       8723    2.185964\n",
       "Money services              8038    2.014304\n",
       "Mortgage                    5551    1.391068"
      ]
     },
     "execution_count": 10,
     "metadata": {},
     "output_type": "execute_result"
    }
   ],
   "source": [
    "def group_products(product):\n",
    "    if product == 'Credit reporting':\n",
    "        return 'Credit reporting'\n",
    "    elif product == 'Credit card / Prepaid card':\n",
    "        return 'Credit/Prepaid card'\n",
    "    elif product in ['Debt collection', 'Debt or credit management']:\n",
    "        return 'Debt related'\n",
    "    elif product == 'Checking or savings account':\n",
    "        return 'Checking/Savings account'\n",
    "    elif product == 'Money transfer, virtual currency, or money service':\n",
    "        return 'Money services'\n",
    "    elif product == 'Mortgage':\n",
    "        return 'Mortgage'\n",
    "    else:\n",
    "        return 'Other'  # Student loan, Vehicle loan/lease, Payday/Title/Personal loan  \n",
    "\n",
    "sample_df['product_group'] = sample_df['product_clean'].apply(group_products)\n",
    "\n",
    "# Count the number of data per category\n",
    "count_per_category = sample_df['product_group'].value_counts()\n",
    "\n",
    "# Calculate the percentage per category\n",
    "percentage_per_category = sample_df['product_group'].value_counts(normalize=True) * 100\n",
    "\n",
    "# Combine into one table\n",
    "summary = pd.DataFrame({\n",
    "    'count': count_per_category,\n",
    "    'percentage': percentage_per_category\n",
    "})\n",
    "\n",
    "summary"
   ]
  },
  {
   "cell_type": "markdown",
   "id": "799d1e67",
   "metadata": {},
   "source": [
    "## State Column"
   ]
  },
  {
   "cell_type": "code",
   "execution_count": 11,
   "id": "0d5e2fb0",
   "metadata": {},
   "outputs": [
    {
     "data": {
      "application/vnd.microsoft.datawrangler.viewer.v0+json": {
       "columns": [
        {
         "name": "index",
         "rawType": "int64",
         "type": "integer"
        },
        {
         "name": "State",
         "rawType": "object",
         "type": "unknown"
        },
        {
         "name": "Count",
         "rawType": "int64",
         "type": "integer"
        },
        {
         "name": "Percentage",
         "rawType": "float64",
         "type": "float"
        }
       ],
       "ref": "8128531b-250e-4cac-b967-72a2b09816c6",
       "rows": [
        [
         "0",
         "FL",
         "53300",
         "13.36"
        ],
        [
         "1",
         "TX",
         "51771",
         "12.97"
        ],
        [
         "2",
         "CA",
         "39686",
         "9.95"
        ],
        [
         "3",
         "GA",
         "30413",
         "7.62"
        ],
        [
         "4",
         "NY",
         "24667",
         "6.18"
        ],
        [
         "5",
         "IL",
         "19365",
         "4.85"
        ],
        [
         "6",
         "PA",
         "17352",
         "4.35"
        ],
        [
         "7",
         "NC",
         "14088",
         "3.53"
        ],
        [
         "8",
         "NJ",
         "13270",
         "3.33"
        ],
        [
         "9",
         "MD",
         "9988",
         "2.5"
        ],
        [
         "10",
         "MI",
         "9294",
         "2.33"
        ],
        [
         "11",
         "VA",
         "8709",
         "2.18"
        ],
        [
         "12",
         "OH",
         "8682",
         "2.18"
        ],
        [
         "13",
         "LA",
         "8361",
         "2.1"
        ],
        [
         "14",
         "SC",
         "8304",
         "2.08"
        ],
        [
         "15",
         "AL",
         "7308",
         "1.83"
        ],
        [
         "16",
         "AZ",
         "6821",
         "1.71"
        ],
        [
         "17",
         "TN",
         "6308",
         "1.58"
        ],
        [
         "18",
         "NV",
         "5881",
         "1.47"
        ],
        [
         "19",
         "IN",
         "5138",
         "1.29"
        ],
        [
         "20",
         "MO",
         "5033",
         "1.26"
        ],
        [
         "21",
         "MA",
         "4878",
         "1.22"
        ],
        [
         "22",
         "MS",
         "4288",
         "1.07"
        ],
        [
         "23",
         "CT",
         "3007",
         "0.75"
        ],
        [
         "24",
         "WA",
         "3002",
         "0.75"
        ],
        [
         "25",
         "WI",
         "2713",
         "0.68"
        ],
        [
         "26",
         "CO",
         "2627",
         "0.66"
        ],
        [
         "27",
         "AR",
         "2322",
         "0.58"
        ],
        [
         "28",
         "MN",
         "2300",
         "0.58"
        ],
        [
         "29",
         "DE",
         "1931",
         "0.48"
        ],
        [
         "30",
         "KY",
         "1925",
         "0.48"
        ],
        [
         "31",
         "OK",
         "1814",
         "0.45"
        ],
        [
         "32",
         "DC",
         "1517",
         "0.38"
        ],
        [
         "33",
         "OR",
         "1279",
         "0.32"
        ],
        [
         "34",
         "UT",
         "1187",
         "0.3"
        ],
        [
         "35",
         null,
         "1175",
         "0.29"
        ],
        [
         "36",
         "PR",
         "1050",
         "0.26"
        ],
        [
         "37",
         "KS",
         "982",
         "0.25"
        ],
        [
         "38",
         "NE",
         "966",
         "0.24"
        ],
        [
         "39",
         "IA",
         "923",
         "0.23"
        ],
        [
         "40",
         "NM",
         "869",
         "0.22"
        ],
        [
         "41",
         "RI",
         "759",
         "0.19"
        ],
        [
         "42",
         "HI",
         "649",
         "0.16"
        ],
        [
         "43",
         "WV",
         "512",
         "0.13"
        ],
        [
         "44",
         "ID",
         "462",
         "0.12"
        ],
        [
         "45",
         "NH",
         "447",
         "0.11"
        ],
        [
         "46",
         "ME",
         "284",
         "0.07"
        ],
        [
         "47",
         "ND",
         "251",
         "0.06"
        ],
        [
         "48",
         "MT",
         "213",
         "0.05"
        ],
        [
         "49",
         "AK",
         "205",
         "0.05"
        ]
       ],
       "shape": {
        "columns": 3,
        "rows": 61
       }
      },
      "text/html": [
       "<div>\n",
       "<style scoped>\n",
       "    .dataframe tbody tr th:only-of-type {\n",
       "        vertical-align: middle;\n",
       "    }\n",
       "\n",
       "    .dataframe tbody tr th {\n",
       "        vertical-align: top;\n",
       "    }\n",
       "\n",
       "    .dataframe thead th {\n",
       "        text-align: right;\n",
       "    }\n",
       "</style>\n",
       "<table border=\"1\" class=\"dataframe\">\n",
       "  <thead>\n",
       "    <tr style=\"text-align: right;\">\n",
       "      <th></th>\n",
       "      <th>State</th>\n",
       "      <th>Count</th>\n",
       "      <th>Percentage</th>\n",
       "    </tr>\n",
       "  </thead>\n",
       "  <tbody>\n",
       "    <tr>\n",
       "      <th>0</th>\n",
       "      <td>FL</td>\n",
       "      <td>53300</td>\n",
       "      <td>13.36</td>\n",
       "    </tr>\n",
       "    <tr>\n",
       "      <th>1</th>\n",
       "      <td>TX</td>\n",
       "      <td>51771</td>\n",
       "      <td>12.97</td>\n",
       "    </tr>\n",
       "    <tr>\n",
       "      <th>2</th>\n",
       "      <td>CA</td>\n",
       "      <td>39686</td>\n",
       "      <td>9.95</td>\n",
       "    </tr>\n",
       "    <tr>\n",
       "      <th>3</th>\n",
       "      <td>GA</td>\n",
       "      <td>30413</td>\n",
       "      <td>7.62</td>\n",
       "    </tr>\n",
       "    <tr>\n",
       "      <th>4</th>\n",
       "      <td>NY</td>\n",
       "      <td>24667</td>\n",
       "      <td>6.18</td>\n",
       "    </tr>\n",
       "    <tr>\n",
       "      <th>...</th>\n",
       "      <td>...</td>\n",
       "      <td>...</td>\n",
       "      <td>...</td>\n",
       "    </tr>\n",
       "    <tr>\n",
       "      <th>56</th>\n",
       "      <td>AP</td>\n",
       "      <td>28</td>\n",
       "      <td>0.01</td>\n",
       "    </tr>\n",
       "    <tr>\n",
       "      <th>57</th>\n",
       "      <td>GU</td>\n",
       "      <td>15</td>\n",
       "      <td>0.00</td>\n",
       "    </tr>\n",
       "    <tr>\n",
       "      <th>58</th>\n",
       "      <td>MP</td>\n",
       "      <td>4</td>\n",
       "      <td>0.00</td>\n",
       "    </tr>\n",
       "    <tr>\n",
       "      <th>59</th>\n",
       "      <td>AA</td>\n",
       "      <td>4</td>\n",
       "      <td>0.00</td>\n",
       "    </tr>\n",
       "    <tr>\n",
       "      <th>60</th>\n",
       "      <td>AS</td>\n",
       "      <td>1</td>\n",
       "      <td>0.00</td>\n",
       "    </tr>\n",
       "  </tbody>\n",
       "</table>\n",
       "<p>61 rows × 3 columns</p>\n",
       "</div>"
      ],
      "text/plain": [
       "   State  Count  Percentage\n",
       "0     FL  53300       13.36\n",
       "1     TX  51771       12.97\n",
       "2     CA  39686        9.95\n",
       "3     GA  30413        7.62\n",
       "4     NY  24667        6.18\n",
       "..   ...    ...         ...\n",
       "56    AP     28        0.01\n",
       "57    GU     15        0.00\n",
       "58    MP      4        0.00\n",
       "59    AA      4        0.00\n",
       "60    AS      1        0.00\n",
       "\n",
       "[61 rows x 3 columns]"
      ]
     },
     "metadata": {},
     "output_type": "display_data"
    },
    {
     "name": "stdout",
     "output_type": "stream",
     "text": [
      "Unique state values:\n",
      "['FL', 'TX', 'CA', 'GA', 'NY', 'IL', 'PA', 'NC', 'NJ', 'MD', 'MI', 'VA', 'OH', 'LA', 'SC', 'AL', 'AZ', 'TN', 'NV', 'IN', 'MO', 'MA', 'MS', 'CT', 'WA', 'WI', 'CO', 'AR', 'MN', 'DE', 'KY', 'OK', 'DC', 'OR', 'UT', nan, 'PR', 'KS', 'NE', 'IA', 'NM', 'RI', 'HI', 'WV', 'ID', 'NH', 'ME', 'ND', 'MT', 'AK', 'WY', 'SD', 'VT', 'VI', 'AE', 'UNITED STATES MINOR OUTLYING ISLANDS', 'AP', 'GU', 'MP', 'AA', 'AS']\n"
     ]
    }
   ],
   "source": [
    "# Create a DataFrame from value_counts\n",
    "state_counts = (\n",
    "    sample_df['state']\n",
    "    .value_counts(dropna=False)\n",
    "    .reset_index()\n",
    ")\n",
    "\n",
    "# Change the column name\n",
    "state_counts.columns = ['State', 'Count']\n",
    "\n",
    "# Add percentage column\n",
    "state_counts['Percentage'] = (state_counts['Count'] / len(sample_df) * 100).round(2)\n",
    "\n",
    "# Display unique list in one column and their count\n",
    "display(state_counts)\n",
    "\n",
    "# Display unique list\n",
    "print(\"Unique state values:\")\n",
    "print(state_counts['State'].tolist())"
   ]
  },
  {
   "cell_type": "markdown",
   "id": "13038798",
   "metadata": {},
   "source": [
    "**Insights from state Column Unique Values**\n",
    "\n",
    "Based on the unique values in the state column, several data quality issues were identified that led to the decision to normalize this column:\n",
    "\n",
    "1. **Mixed formats** – Most values are already in US two-letter state codes (e.g., NY, CA), but there are exceptions such as \"UNITED STATES MINOR OUTLYING ISLANDS\" which uses a full name.\n",
    "2. **Missing values** – Some entries are NaN and need to be handled consistently.\n",
    "3. **Non-mainland US territories** – Values like PR (Puerto Rico), GU (Guam), VI (Virgin Islands), MP (Northern Mariana Islands), and AS (American Samoa) are US territories, not states.\n",
    "4. **Military postal codes** – Values like AE, AP, and AA indicate military addresses rather than standard US states.\n",
    "5. **Potential redundancy with ZIP code** – Since ZIP codes inherently contain location information, state should still be standardized to avoid mismatches when combining with ZIP codes.\n",
    "6. **Inconsistent representation** – Some values represent the same location in different formats (e.g., \"UNITED STATES MINOR OUTLYING ISLANDS\" vs UM).\n",
    "\n",
    "---\n",
    "\n",
    "**State Column Normalization Process**\n",
    "\n",
    "The normalization process applied to the state column included the following steps:\n",
    "\n",
    "1. **Uppercasing and trimming whitespace**  \n",
    "   Ensure all values are in uppercase and free from leading/trailing spaces for consistency.\n",
    "\n",
    "2. **Mapping full names to official codes**  \n",
    "   Convert \"UNITED STATES MINOR OUTLYING ISLANDS\" to its ISO 3166-2 code \"UM\".\n",
    "\n",
    "3. **Handling missing values**  \n",
    "   Replace NaN with \"Unknown\" to maintain a consistent placeholder for missing data.\n",
    "\n",
    "4. **Classifying state types**  \n",
    "   - \"State\" → Standard US states and District of Columbia.  \n",
    "   - \"Territory\" → US territories such as PR, GU, VI, MP, AS, and UM.  \n",
    "   - \"Military\" → Military postal codes AE, AP, and AA.  \n",
    "   - \"Unknown\" → Missing or unrecognized entries.\n",
    "\n",
    "5. **Adding regional grouping** (optional)  \n",
    "   Assign each state to one of the US Census Bureau regions:\n",
    "   - **Northeast**: CT, ME, MA, NH, RI, VT, NJ, NY, PA  \n",
    "   - **Midwest**: IL, IN, MI, OH, WI, IA, KS, MN, MO, NE, ND, SD  \n",
    "   - **South**: DE, FL, GA, MD, NC, SC, VA, DC, WV, AL, KY, MS, TN, AR, LA, OK, TX  \n",
    "   - **West**: AZ, CO, ID, MT, NV, NM, UT, WY, AK, CA, HI, OR, WA  \n",
    "   - **Territory**: PR, GU, VI, MP, AS, UM  \n",
    "   - **Military**: AE, AP, AA  \n",
    "   - **Unknown**: Missing values\n",
    "\n",
    "By applying this normalization, the state column becomes consistent, analysis-ready, and suitable for grouping, visualization, and feature engineering.\n"
   ]
  },
  {
   "cell_type": "code",
   "execution_count": 12,
   "id": "67944fca",
   "metadata": {},
   "outputs": [],
   "source": [
    "states = [\n",
    "    'NY','NC','OH','MO','MA','VA','TX','GA','TN','CA','FL','PA','MS','IN','LA','NV','MD','MI','WI',\n",
    "    'AZ','IL','AL','CO','NJ','WA','MN','DC','CT','AR','PR','SC','UT','NM','DE','KY','OR','RI','KS',\n",
    "    'OK','ID','NE','WY','WV','ME','NH','MT',np.nan,'HI','VT','AK','ND','IA','UNITED STATES MINOR OUTLYING ISLANDS',\n",
    "    'SD','AE','MP','GU','AP','VI','AA','AS'\n",
    "]\n",
    "\n",
    "# Mapping long name → code\n",
    "name_to_code = {\n",
    "    'UNITED STATES MINOR OUTLYING ISLANDS': 'UM'\n",
    "}\n",
    "\n",
    "# Special categories\n",
    "territories = ['PR', 'GU', 'VI', 'MP', 'AS', 'UM']\n",
    "military = ['AE', 'AP', 'AA']\n",
    "\n",
    "# Region US Census Bureau\n",
    "northeast = ['CT', 'ME', 'MA', 'NH', 'RI', 'VT', 'NJ', 'NY', 'PA']\n",
    "midwest = ['IL', 'IN', 'MI', 'OH', 'WI', 'IA', 'KS', 'MN', 'MO', 'NE', 'ND', 'SD']\n",
    "south = ['DE', 'FL', 'GA', 'MD', 'NC', 'SC', 'VA', 'DC', 'WV', 'AL', 'KY', 'MS', 'TN', 'AR', 'LA', 'OK', 'TX']\n",
    "west = ['AZ', 'CO', 'ID', 'MT', 'NV', 'NM', 'UT', 'WY', 'AK', 'CA', 'HI', 'OR', 'WA']\n",
    "\n",
    "# Mapping function\n",
    "def normalize_state(val):\n",
    "    if pd.isna(val):\n",
    "        return 'Unknown'\n",
    "    val = val.strip().upper()\n",
    "    if val in name_to_code:\n",
    "        return name_to_code[val]\n",
    "    return val\n",
    "\n",
    "def map_group(code):\n",
    "    if code == 'Unknown':\n",
    "        return 'Unknown'\n",
    "    elif code in territories:\n",
    "        return 'Territory'\n",
    "    elif code in military:\n",
    "        return 'Military'\n",
    "    else:\n",
    "        return 'State'\n",
    "\n",
    "def map_region(code):\n",
    "    if code in northeast: return 'Northeast'\n",
    "    elif code in midwest: return 'Midwest'\n",
    "    elif code in south: return 'South'\n",
    "    elif code in west: return 'West'\n",
    "    elif code in territories: return 'Territory'\n",
    "    elif code in military: return 'Military'\n",
    "    elif code == 'Unknown': return 'Unknown'\n",
    "    else: return 'Other'\n",
    "\n",
    "# Apply mapping\n",
    "sample_df['state_clean'] = sample_df['state'].apply(normalize_state)\n",
    "sample_df['state_group'] = sample_df['state_clean'].apply(map_group)\n",
    "sample_df['region'] = sample_df['state_clean'].apply(map_region)"
   ]
  },
  {
   "cell_type": "code",
   "execution_count": 13,
   "id": "e4db0bef",
   "metadata": {},
   "outputs": [
    {
     "data": {
      "application/vnd.microsoft.datawrangler.viewer.v0+json": {
       "columns": [
        {
         "name": "index",
         "rawType": "int64",
         "type": "integer"
        },
        {
         "name": "state",
         "rawType": "object",
         "type": "string"
        },
        {
         "name": "state_clean",
         "rawType": "object",
         "type": "string"
        },
        {
         "name": "state_group",
         "rawType": "object",
         "type": "string"
        },
        {
         "name": "region",
         "rawType": "object",
         "type": "string"
        }
       ],
       "ref": "9326fbc3-4a50-4675-8ccc-e4d70814438a",
       "rows": [
        [
         "0",
         "NY",
         "NY",
         "State",
         "Northeast"
        ],
        [
         "1",
         "NC",
         "NC",
         "State",
         "South"
        ],
        [
         "2",
         "OH",
         "OH",
         "State",
         "Midwest"
        ],
        [
         "3",
         "MO",
         "MO",
         "State",
         "Midwest"
        ],
        [
         "4",
         "MO",
         "MO",
         "State",
         "Midwest"
        ]
       ],
       "shape": {
        "columns": 4,
        "rows": 5
       }
      },
      "text/html": [
       "<div>\n",
       "<style scoped>\n",
       "    .dataframe tbody tr th:only-of-type {\n",
       "        vertical-align: middle;\n",
       "    }\n",
       "\n",
       "    .dataframe tbody tr th {\n",
       "        vertical-align: top;\n",
       "    }\n",
       "\n",
       "    .dataframe thead th {\n",
       "        text-align: right;\n",
       "    }\n",
       "</style>\n",
       "<table border=\"1\" class=\"dataframe\">\n",
       "  <thead>\n",
       "    <tr style=\"text-align: right;\">\n",
       "      <th></th>\n",
       "      <th>state</th>\n",
       "      <th>state_clean</th>\n",
       "      <th>state_group</th>\n",
       "      <th>region</th>\n",
       "    </tr>\n",
       "  </thead>\n",
       "  <tbody>\n",
       "    <tr>\n",
       "      <th>0</th>\n",
       "      <td>NY</td>\n",
       "      <td>NY</td>\n",
       "      <td>State</td>\n",
       "      <td>Northeast</td>\n",
       "    </tr>\n",
       "    <tr>\n",
       "      <th>1</th>\n",
       "      <td>NC</td>\n",
       "      <td>NC</td>\n",
       "      <td>State</td>\n",
       "      <td>South</td>\n",
       "    </tr>\n",
       "    <tr>\n",
       "      <th>2</th>\n",
       "      <td>OH</td>\n",
       "      <td>OH</td>\n",
       "      <td>State</td>\n",
       "      <td>Midwest</td>\n",
       "    </tr>\n",
       "    <tr>\n",
       "      <th>3</th>\n",
       "      <td>MO</td>\n",
       "      <td>MO</td>\n",
       "      <td>State</td>\n",
       "      <td>Midwest</td>\n",
       "    </tr>\n",
       "    <tr>\n",
       "      <th>4</th>\n",
       "      <td>MO</td>\n",
       "      <td>MO</td>\n",
       "      <td>State</td>\n",
       "      <td>Midwest</td>\n",
       "    </tr>\n",
       "  </tbody>\n",
       "</table>\n",
       "</div>"
      ],
      "text/plain": [
       "  state state_clean state_group     region\n",
       "0    NY          NY       State  Northeast\n",
       "1    NC          NC       State      South\n",
       "2    OH          OH       State    Midwest\n",
       "3    MO          MO       State    Midwest\n",
       "4    MO          MO       State    Midwest"
      ]
     },
     "execution_count": 13,
     "metadata": {},
     "output_type": "execute_result"
    }
   ],
   "source": [
    "sample_df[['state', 'state_clean', 'state_group', 'region']].head()"
   ]
  },
  {
   "cell_type": "markdown",
   "id": "0d0c2ff1",
   "metadata": {},
   "source": [
    "## Analysis of the time the complaint was received by the CFPB and the time the complaint was sent to the company"
   ]
  },
  {
   "cell_type": "code",
   "execution_count": 15,
   "id": "6cc92060",
   "metadata": {},
   "outputs": [
    {
     "data": {
      "image/png": "[encoded data removed]",
      "text/plain": [
       "<Figure size 1200x500 with 1 Axes>"
      ]
     },
     "metadata": {},
     "output_type": "display_data"
    }
   ],
   "source": [
    "# Number of complaints per month/year for date_received\n",
    "complaints_received = sample_df.groupby(sample_df['date_received'].dt.to_period('M')).size()\n",
    "\n",
    "# Number of complaints per month/year for date_sent_to_company\n",
    "complaints_sent = sample_df.groupby(sample_df['date_sent_to_company'].dt.to_period('M')).size()\n",
    "\n",
    "# Compare the trends of both in one chart\n",
    "trend_df = pd.DataFrame({\n",
    "    'Received': complaints_received,\n",
    "    'Sent to Company': complaints_sent\n",
    "})\n",
    "\n",
    "trend_df.plot(kind='line', marker='o', figsize=(12, 5))\n",
    "plt.title('Complaints Trend: Received vs Sent to Company')\n",
    "plt.xlabel('Month-Year')\n",
    "plt.ylabel('Number of Complaints')\n",
    "plt.legend()\n",
    "plt.grid(True)\n",
    "plt.show()"
   ]
  },
  {
   "cell_type": "code",
   "execution_count": 16,
   "id": "24dba9ee",
   "metadata": {},
   "outputs": [
    {
     "data": {
      "image/png": "[encoded data removed]",
      "text/plain": [
       "<Figure size 1200x500 with 1 Axes>"
      ]
     },
     "metadata": {},
     "output_type": "display_data"
    }
   ],
   "source": [
    "# Average trend of processing_days per month/year\n",
    "\n",
    "avg_processing = sample_df.groupby(sample_df['date_received'].dt.to_period('M'))['processing_day'].mean()\n",
    "\n",
    "avg_processing.plot(kind='line', marker='o', figsize=(12, 5), color='green')\n",
    "plt.title('Average Processing Days per Month')\n",
    "plt.xlabel('Month-Year')\n",
    "plt.ylabel('Average Processing Days')\n",
    "plt.grid(True)\n",
    "plt.show()"
   ]
  }
 ],
 "metadata": {
  "kernelspec": {
   "display_name": "pengolahan_citra",
   "language": "python",
   "name": "python3"
  },
  "language_info": {
   "codemirror_mode": {
    "name": "ipython",
    "version": 3
   },
   "file_extension": ".py",
   "mimetype": "text/x-python",
   "name": "python",
   "nbconvert_exporter": "python",
   "pygments_lexer": "ipython3",
   "version": "3.12.4"
  }
 },
 "nbformat": 4,
 "nbformat_minor": 5
}
