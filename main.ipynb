{
 "cells": [
  {
   "cell_type": "markdown",
   "id": "5e1c2643",
   "metadata": {},
   "source": [
    "# Import Libraries"
   ]
  },
  {
   "cell_type": "code",
   "execution_count": 13,
   "id": "7b13df55",
   "metadata": {},
   "outputs": [
    {
     "name": "stderr",
     "output_type": "stream",
     "text": [
      "[nltk_data] Downloading package stopwords to C:\\Users\\M S\n",
      "[nltk_data]     I\\AppData\\Roaming\\nltk_data...\n",
      "[nltk_data]   Package stopwords is already up-to-date!\n"
     ]
    }
   ],
   "source": [
    "import re\n",
    "import glob\n",
    "import json\n",
    "import string\n",
    "import warnings\n",
    "\n",
    "import numpy as np\n",
    "import pandas as pd\n",
    "import matplotlib.pyplot as plt\n",
    "import seaborn as sns\n",
    "\n",
    "from sklearn.feature_extraction.text import TfidfVectorizer\n",
    "from sklearn.cluster import KMeans\n",
    "from sklearn.decomposition import PCA\n",
    "from sklearn.metrics import adjusted_rand_score\n",
    "\n",
    "import nltk\n",
    "from nltk.corpus import stopwords\n",
    "nltk.download('stopwords')\n",
    "\n",
    "import gensim\n",
    "import gensim.corpora as corpora\n",
    "from gensim.utils import simple_preprocess\n",
    "from gensim.models import LdaModel, CoherenceModel, TfidfModel\n",
    "\n",
    "import spacy\n",
    "\n",
    "import pyLDAvis\n",
    "import pyLDAvis.gensim_models\n",
    "\n",
    "warnings.filterwarnings(\"ignore\", category=DeprecationWarning)"
   ]
  },
  {
   "cell_type": "markdown",
   "id": "e7252d63",
   "metadata": {},
   "source": [
    "# Tools"
   ]
  },
  {
   "cell_type": "code",
   "execution_count": 39,
   "id": "917d6f33",
   "metadata": {},
   "outputs": [],
   "source": [
    "def summarize_categories(df, column):\n",
    "    \"\"\"\n",
    "    Summarize the product categories in a DataFrame.\n",
    "\n",
    "    Parameters\n",
    "    ----------\n",
    "    df : pd.DataFrame\n",
    "        The DataFrame containing the product category column.\n",
    "    column : str, optional\n",
    "        The name of the column to summarize (default is 'product_clean').\n",
    "\n",
    "    Returns\n",
    "    -------\n",
    "    pd.DataFrame\n",
    "        A DataFrame with the count and percentage of each product category.\n",
    "    \"\"\"\n",
    "    count_per_category = df[column].value_counts()\n",
    "    percentage_per_category = df[column].value_counts(normalize=True) * 100\n",
    "    summary = pd.DataFrame({\n",
    "        'count': count_per_category,\n",
    "        'percentage': percentage_per_category\n",
    "    })\n",
    "    return summary"
   ]
  },
  {
   "cell_type": "markdown",
   "id": "d04be683",
   "metadata": {},
   "source": [
    "# Load Data"
   ]
  },
  {
   "cell_type": "code",
   "execution_count": null,
   "id": "399c5e13",
   "metadata": {},
   "outputs": [
    {
     "data": {
      "text/plain": [
       "(399046, 18)"
      ]
     },
     "execution_count": 14,
     "metadata": {},
     "output_type": "execute_result"
    }
   ],
   "source": [
    "sample_df = pd.read_csv('./data.csv')\n",
    "sample_df.shape"
   ]
  },
  {
   "cell_type": "markdown",
   "id": "fdfdd7ad",
   "metadata": {},
   "source": [
    "## Initial Preprocessing"
   ]
  },
  {
   "cell_type": "markdown",
   "id": "bf6c8d1f",
   "metadata": {},
   "source": [
    "Clean Column Nemes"
   ]
  },
  {
   "cell_type": "code",
   "execution_count": 15,
   "id": "32cc83a1",
   "metadata": {},
   "outputs": [
    {
     "name": "stdout",
     "output_type": "stream",
     "text": [
      "<class 'pandas.core.frame.DataFrame'>\n",
      "RangeIndex: 399046 entries, 0 to 399045\n",
      "Data columns (total 18 columns):\n",
      " #   Column                        Non-Null Count   Dtype  \n",
      "---  ------                        --------------   -----  \n",
      " 0   date_received                 399046 non-null  object \n",
      " 1   product                       399046 non-null  object \n",
      " 2   subproduct                    399045 non-null  object \n",
      " 3   issue                         399045 non-null  object \n",
      " 4   subissue                      385096 non-null  object \n",
      " 5   consumer_complaint_narrative  239524 non-null  object \n",
      " 6   company_public_response       226285 non-null  object \n",
      " 7   company                       399046 non-null  object \n",
      " 8   state                         397871 non-null  object \n",
      " 9   zip_code                      399040 non-null  object \n",
      " 10  tags                          24390 non-null   object \n",
      " 11  consumer_consent_provided     381808 non-null  object \n",
      " 12  submitted_via                 399046 non-null  object \n",
      " 13  date_sent_to_company          399046 non-null  object \n",
      " 14  company_response_to_consumer  399044 non-null  object \n",
      " 15  timely_response               399046 non-null  object \n",
      " 16  consumer_disputed             0 non-null       float64\n",
      " 17  complaint_id                  399046 non-null  int64  \n",
      "dtypes: float64(1), int64(1), object(16)\n",
      "memory usage: 54.8+ MB\n"
     ]
    }
   ],
   "source": [
    "# Clean column names\n",
    "# Remove leading/trailing whitespace, convert to lowercase, replace spaces with underscores, and remove non-word characters\n",
    "sample_df.columns = (\n",
    "    sample_df.columns\n",
    "    .str.strip()\n",
    "    .str.lower()\n",
    "    .str.replace(r'\\s+', '_', regex=True)\n",
    "    .str.replace(r'[^\\w]', '', regex=True)\n",
    ")\n",
    "\n",
    "# Display DataFrame information\n",
    "sample_df.info()"
   ]
  },
  {
   "cell_type": "markdown",
   "id": "8fb255e9",
   "metadata": {},
   "source": [
    "Convert 'date' Columns to Datetime Format"
   ]
  },
  {
   "cell_type": "code",
   "execution_count": 16,
   "id": "de2802ce",
   "metadata": {},
   "outputs": [
    {
     "data": {
      "application/vnd.microsoft.datawrangler.viewer.v0+json": {
       "columns": [
        {
         "name": "index",
         "rawType": "int64",
         "type": "integer"
        },
        {
         "name": "date_received",
         "rawType": "datetime64[ns]",
         "type": "datetime"
        },
        {
         "name": "product",
         "rawType": "object",
         "type": "string"
        },
        {
         "name": "subproduct",
         "rawType": "object",
         "type": "string"
        },
        {
         "name": "issue",
         "rawType": "object",
         "type": "string"
        },
        {
         "name": "subissue",
         "rawType": "object",
         "type": "string"
        },
        {
         "name": "consumer_complaint_narrative",
         "rawType": "object",
         "type": "unknown"
        },
        {
         "name": "company_public_response",
         "rawType": "object",
         "type": "string"
        },
        {
         "name": "company",
         "rawType": "object",
         "type": "string"
        },
        {
         "name": "state",
         "rawType": "object",
         "type": "string"
        },
        {
         "name": "zip_code",
         "rawType": "object",
         "type": "string"
        },
        {
         "name": "tags",
         "rawType": "object",
         "type": "unknown"
        },
        {
         "name": "consumer_consent_provided",
         "rawType": "object",
         "type": "string"
        },
        {
         "name": "submitted_via",
         "rawType": "object",
         "type": "string"
        },
        {
         "name": "date_sent_to_company",
         "rawType": "datetime64[ns]",
         "type": "datetime"
        },
        {
         "name": "company_response_to_consumer",
         "rawType": "object",
         "type": "string"
        },
        {
         "name": "timely_response",
         "rawType": "object",
         "type": "string"
        },
        {
         "name": "consumer_disputed",
         "rawType": "float64",
         "type": "float"
        },
        {
         "name": "complaint_id",
         "rawType": "int64",
         "type": "integer"
        },
        {
         "name": "date_received_day",
         "rawType": "int32",
         "type": "integer"
        },
        {
         "name": "date_received_month",
         "rawType": "int32",
         "type": "integer"
        },
        {
         "name": "date_received_year",
         "rawType": "int32",
         "type": "integer"
        },
        {
         "name": "date_sent_to_company_day",
         "rawType": "int32",
         "type": "integer"
        },
        {
         "name": "date_sent_to_company_month",
         "rawType": "int32",
         "type": "integer"
        },
        {
         "name": "date_sent_to_company_year",
         "rawType": "int32",
         "type": "integer"
        },
        {
         "name": "processing_day",
         "rawType": "int64",
         "type": "integer"
        }
       ],
       "ref": "1afd40e6-c431-4af2-bd6a-182dfd334876",
       "rows": [
        [
         "0",
         "2023-01-01 00:00:00",
         "Credit reporting, credit repair services, or other personal consumer reports",
         "Credit reporting",
         "Improper use of your report",
         "Reporting company used your report improperly",
         "XXXX is in violation of. 15 usc 1681 section 602 A, states i have the right to privacy.604 A section 2 also states a consumer reporting agency ( XXXX  ) can not furnish a consumer/credit report without my written instructions.I gave no such instructions to experian to furnish my information to XXXX XXXX which appears on my credit report.Would like ths account deleted from account which is also in violation of 15 usc 1692 c and b.there was no prior consent to furnish my information to no one!!! also submitted dispute on XXXX 0n XXXX website and system is saying already in dispute.not me!!!!!",
         "Company has responded to the consumer and the CFPB and chooses not to provide a public response",
         "TRANSUNION INTERMEDIATE HOLDINGS, INC.",
         "NY",
         "112XX",
         null,
         "Consent provided",
         "Web",
         "2023-01-01 00:00:00",
         "Closed with non-monetary relief",
         "Yes",
         null,
         "6384775",
         "1",
         "1",
         "2023",
         "1",
         "1",
         "2023",
         "0"
        ],
        [
         "1",
         "2023-01-01 00:00:00",
         "Credit reporting, credit repair services, or other personal consumer reports",
         "Credit reporting",
         "Improper use of your report",
         "Credit inquiries on your report that you don't recognize",
         "Address 's does not belong to me XXXX XXXX XXXX XXXX XXXX XXXX XXXX XXXX XXXX XXXX XXXX XXXX XXXX XXXX XXXX XXXX XXXX XXXX XXXX XXXX XXXX XXXX XXXX XXXX XXXX XXXX XXXX XXXX XXXX XXXX XXXX XXXX XXXX XXXX XXXX XXXX XXXX XXXX XXXX XXXX XXXX XXXX XXXX XXXX XXXX XXXX XXXX XXXX XXXX XXXX XXXX XXXX XXXX XXXX XXXX XXXX XXXX XXXX XXXX XXXX XXXX XXXX XXXX XXXX XXXX XXXX XXXX XXXX XXXX XXXX XXXX XXXX XXXX XXXX XXXX XXXX XXXX XXXX XXXX XXXX XXXX XXXX XXXX XXXX XXXX XXXX XXXX XXXX XXXX XXXX XXXX XXXX XXXX XXXX XXXX XXXX XXXX XXXX XXXX XXXX XXXX XXXX XXXX XXXX XXXX XXXX XXXX XXXX XXXX XXXX XXXX XXXX XXXX XXXX XXXX XXXX XXXX XXXX XXXX XXXX XXXX XXXX XXXX XXXX XXXX Inquiries do not belong to me Dispute this XXXX XXXX XXXX XXXX XXXX XXXX XXXX XXXX XXXX XXXX XXXX XXXX XXXX XXXX XXXX XXXX XXXX XXXX XXXX XXXX XXXX XXXX XXXX XXXX XXXX XXXX XXXX XXXX XXXX XXXX XXXX XXXX XXXX XXXX XXXX XXXX XXXX XXXX XXXX XXXX XXXX XXXX XXXX XXXX XXXX XXXX XXXX XXXX XXXX XXXX XXXX XXXX XXXX XXXX XXXX XXXX XXXX XXXX XXXX XXXX XXXX XXXX XXXX XXXX XXXX XXXX XXXX XXXX XXXX XXXX XXXX XXXX XXXX XXXX XXXX XXXX XXXX XXXX XXXX XXXX XXXX XXXX XXXX XXXX XXXX XXXX XXXX XXXX XXXX XXXX XXXX XXXX XXXX XXXX XXXX XXXX",
         "Company has responded to the consumer and the CFPB and chooses not to provide a public response",
         "Experian Information Solutions Inc.",
         "NC",
         "28262",
         null,
         "Consent provided",
         "Web",
         "2023-01-01 00:00:00",
         "Closed with non-monetary relief",
         "Yes",
         null,
         "6384724",
         "1",
         "1",
         "2023",
         "1",
         "1",
         "2023",
         "0"
        ],
        [
         "2",
         "2023-01-01 00:00:00",
         "Credit reporting, credit repair services, or other personal consumer reports",
         "Credit reporting",
         "Problem with a credit reporting company's investigation into an existing problem",
         "Investigation took more than 30 days",
         "The credit reporting agency is reporting information that is inaccurate. I notified them of these inaccuracies in XXXX and they have yet to respond and it has been over 30 days.",
         "Company has responded to the consumer and the CFPB and chooses not to provide a public response",
         "Experian Information Solutions Inc.",
         "OH",
         "431XX",
         null,
         "Consent provided",
         "Web",
         "2023-01-01 00:00:00",
         "Closed with non-monetary relief",
         "Yes",
         null,
         "6384896",
         "1",
         "1",
         "2023",
         "1",
         "1",
         "2023",
         "0"
        ],
        [
         "3",
         "2023-01-01 00:00:00",
         "Credit reporting, credit repair services, or other personal consumer reports",
         "Credit reporting",
         "Improper use of your report",
         "Reporting company used your report improperly",
         null,
         "Company has responded to the consumer and the CFPB and chooses not to provide a public response",
         "TRANSUNION INTERMEDIATE HOLDINGS, INC.",
         "MO",
         "63366",
         null,
         "Consent not provided",
         "Web",
         "2023-01-01 00:00:00",
         "Closed with non-monetary relief",
         "Yes",
         null,
         "6382439",
         "1",
         "1",
         "2023",
         "1",
         "1",
         "2023",
         "0"
        ],
        [
         "4",
         "2023-01-01 00:00:00",
         "Credit reporting, credit repair services, or other personal consumer reports",
         "Credit reporting",
         "Improper use of your report",
         "Reporting company used your report improperly",
         "XXXX is in violation of The XXXX XXXX that requires financial institutions or companies that offer consumers financial products or services like loans, financial or investment advice, or insurance, need to explain their information-sharing practices to their customers and to safeguard sensitive nonpublic information data. XXXX committed identity theft as I did not receive on OPT OUT notice before submitting my nonpublic personal information to a third-party affiliate Experian. XXXX had a responsibility to provide a clear and conspicuous disclosure to me in writing or in electronic form or other form permitted by the Fair Credit Reporting Act.",
         "Company has responded to the consumer and the CFPB and chooses not to provide a public response",
         "Experian Information Solutions Inc.",
         "MO",
         "655XX",
         "Servicemember",
         "Consent provided",
         "Web",
         "2023-01-01 00:00:00",
         "Closed with explanation",
         "Yes",
         null,
         "6383627",
         "1",
         "1",
         "2023",
         "1",
         "1",
         "2023",
         "0"
        ]
       ],
       "shape": {
        "columns": 25,
        "rows": 5
       }
      },
      "text/html": [
       "<div>\n",
       "<style scoped>\n",
       "    .dataframe tbody tr th:only-of-type {\n",
       "        vertical-align: middle;\n",
       "    }\n",
       "\n",
       "    .dataframe tbody tr th {\n",
       "        vertical-align: top;\n",
       "    }\n",
       "\n",
       "    .dataframe thead th {\n",
       "        text-align: right;\n",
       "    }\n",
       "</style>\n",
       "<table border=\"1\" class=\"dataframe\">\n",
       "  <thead>\n",
       "    <tr style=\"text-align: right;\">\n",
       "      <th></th>\n",
       "      <th>date_received</th>\n",
       "      <th>product</th>\n",
       "      <th>subproduct</th>\n",
       "      <th>issue</th>\n",
       "      <th>subissue</th>\n",
       "      <th>consumer_complaint_narrative</th>\n",
       "      <th>company_public_response</th>\n",
       "      <th>company</th>\n",
       "      <th>state</th>\n",
       "      <th>zip_code</th>\n",
       "      <th>...</th>\n",
       "      <th>timely_response</th>\n",
       "      <th>consumer_disputed</th>\n",
       "      <th>complaint_id</th>\n",
       "      <th>date_received_day</th>\n",
       "      <th>date_received_month</th>\n",
       "      <th>date_received_year</th>\n",
       "      <th>date_sent_to_company_day</th>\n",
       "      <th>date_sent_to_company_month</th>\n",
       "      <th>date_sent_to_company_year</th>\n",
       "      <th>processing_day</th>\n",
       "    </tr>\n",
       "  </thead>\n",
       "  <tbody>\n",
       "    <tr>\n",
       "      <th>0</th>\n",
       "      <td>2023-01-01</td>\n",
       "      <td>Credit reporting, credit repair services, or o...</td>\n",
       "      <td>Credit reporting</td>\n",
       "      <td>Improper use of your report</td>\n",
       "      <td>Reporting company used your report improperly</td>\n",
       "      <td>XXXX is in violation of. 15 usc 1681 section 6...</td>\n",
       "      <td>Company has responded to the consumer and the ...</td>\n",
       "      <td>TRANSUNION INTERMEDIATE HOLDINGS, INC.</td>\n",
       "      <td>NY</td>\n",
       "      <td>112XX</td>\n",
       "      <td>...</td>\n",
       "      <td>Yes</td>\n",
       "      <td>NaN</td>\n",
       "      <td>6384775</td>\n",
       "      <td>1</td>\n",
       "      <td>1</td>\n",
       "      <td>2023</td>\n",
       "      <td>1</td>\n",
       "      <td>1</td>\n",
       "      <td>2023</td>\n",
       "      <td>0</td>\n",
       "    </tr>\n",
       "    <tr>\n",
       "      <th>1</th>\n",
       "      <td>2023-01-01</td>\n",
       "      <td>Credit reporting, credit repair services, or o...</td>\n",
       "      <td>Credit reporting</td>\n",
       "      <td>Improper use of your report</td>\n",
       "      <td>Credit inquiries on your report that you don't...</td>\n",
       "      <td>Address 's does not belong to me XXXX XXXX XXX...</td>\n",
       "      <td>Company has responded to the consumer and the ...</td>\n",
       "      <td>Experian Information Solutions Inc.</td>\n",
       "      <td>NC</td>\n",
       "      <td>28262</td>\n",
       "      <td>...</td>\n",
       "      <td>Yes</td>\n",
       "      <td>NaN</td>\n",
       "      <td>6384724</td>\n",
       "      <td>1</td>\n",
       "      <td>1</td>\n",
       "      <td>2023</td>\n",
       "      <td>1</td>\n",
       "      <td>1</td>\n",
       "      <td>2023</td>\n",
       "      <td>0</td>\n",
       "    </tr>\n",
       "    <tr>\n",
       "      <th>2</th>\n",
       "      <td>2023-01-01</td>\n",
       "      <td>Credit reporting, credit repair services, or o...</td>\n",
       "      <td>Credit reporting</td>\n",
       "      <td>Problem with a credit reporting company's inve...</td>\n",
       "      <td>Investigation took more than 30 days</td>\n",
       "      <td>The credit reporting agency is reporting infor...</td>\n",
       "      <td>Company has responded to the consumer and the ...</td>\n",
       "      <td>Experian Information Solutions Inc.</td>\n",
       "      <td>OH</td>\n",
       "      <td>431XX</td>\n",
       "      <td>...</td>\n",
       "      <td>Yes</td>\n",
       "      <td>NaN</td>\n",
       "      <td>6384896</td>\n",
       "      <td>1</td>\n",
       "      <td>1</td>\n",
       "      <td>2023</td>\n",
       "      <td>1</td>\n",
       "      <td>1</td>\n",
       "      <td>2023</td>\n",
       "      <td>0</td>\n",
       "    </tr>\n",
       "    <tr>\n",
       "      <th>3</th>\n",
       "      <td>2023-01-01</td>\n",
       "      <td>Credit reporting, credit repair services, or o...</td>\n",
       "      <td>Credit reporting</td>\n",
       "      <td>Improper use of your report</td>\n",
       "      <td>Reporting company used your report improperly</td>\n",
       "      <td>NaN</td>\n",
       "      <td>Company has responded to the consumer and the ...</td>\n",
       "      <td>TRANSUNION INTERMEDIATE HOLDINGS, INC.</td>\n",
       "      <td>MO</td>\n",
       "      <td>63366</td>\n",
       "      <td>...</td>\n",
       "      <td>Yes</td>\n",
       "      <td>NaN</td>\n",
       "      <td>6382439</td>\n",
       "      <td>1</td>\n",
       "      <td>1</td>\n",
       "      <td>2023</td>\n",
       "      <td>1</td>\n",
       "      <td>1</td>\n",
       "      <td>2023</td>\n",
       "      <td>0</td>\n",
       "    </tr>\n",
       "    <tr>\n",
       "      <th>4</th>\n",
       "      <td>2023-01-01</td>\n",
       "      <td>Credit reporting, credit repair services, or o...</td>\n",
       "      <td>Credit reporting</td>\n",
       "      <td>Improper use of your report</td>\n",
       "      <td>Reporting company used your report improperly</td>\n",
       "      <td>XXXX is in violation of The XXXX XXXX that req...</td>\n",
       "      <td>Company has responded to the consumer and the ...</td>\n",
       "      <td>Experian Information Solutions Inc.</td>\n",
       "      <td>MO</td>\n",
       "      <td>655XX</td>\n",
       "      <td>...</td>\n",
       "      <td>Yes</td>\n",
       "      <td>NaN</td>\n",
       "      <td>6383627</td>\n",
       "      <td>1</td>\n",
       "      <td>1</td>\n",
       "      <td>2023</td>\n",
       "      <td>1</td>\n",
       "      <td>1</td>\n",
       "      <td>2023</td>\n",
       "      <td>0</td>\n",
       "    </tr>\n",
       "  </tbody>\n",
       "</table>\n",
       "<p>5 rows × 25 columns</p>\n",
       "</div>"
      ],
      "text/plain": [
       "  date_received                                            product  \\\n",
       "0    2023-01-01  Credit reporting, credit repair services, or o...   \n",
       "1    2023-01-01  Credit reporting, credit repair services, or o...   \n",
       "2    2023-01-01  Credit reporting, credit repair services, or o...   \n",
       "3    2023-01-01  Credit reporting, credit repair services, or o...   \n",
       "4    2023-01-01  Credit reporting, credit repair services, or o...   \n",
       "\n",
       "         subproduct                                              issue  \\\n",
       "0  Credit reporting                        Improper use of your report   \n",
       "1  Credit reporting                        Improper use of your report   \n",
       "2  Credit reporting  Problem with a credit reporting company's inve...   \n",
       "3  Credit reporting                        Improper use of your report   \n",
       "4  Credit reporting                        Improper use of your report   \n",
       "\n",
       "                                            subissue  \\\n",
       "0      Reporting company used your report improperly   \n",
       "1  Credit inquiries on your report that you don't...   \n",
       "2               Investigation took more than 30 days   \n",
       "3      Reporting company used your report improperly   \n",
       "4      Reporting company used your report improperly   \n",
       "\n",
       "                        consumer_complaint_narrative  \\\n",
       "0  XXXX is in violation of. 15 usc 1681 section 6...   \n",
       "1  Address 's does not belong to me XXXX XXXX XXX...   \n",
       "2  The credit reporting agency is reporting infor...   \n",
       "3                                                NaN   \n",
       "4  XXXX is in violation of The XXXX XXXX that req...   \n",
       "\n",
       "                             company_public_response  \\\n",
       "0  Company has responded to the consumer and the ...   \n",
       "1  Company has responded to the consumer and the ...   \n",
       "2  Company has responded to the consumer and the ...   \n",
       "3  Company has responded to the consumer and the ...   \n",
       "4  Company has responded to the consumer and the ...   \n",
       "\n",
       "                                  company state zip_code  ... timely_response  \\\n",
       "0  TRANSUNION INTERMEDIATE HOLDINGS, INC.    NY    112XX  ...             Yes   \n",
       "1     Experian Information Solutions Inc.    NC    28262  ...             Yes   \n",
       "2     Experian Information Solutions Inc.    OH    431XX  ...             Yes   \n",
       "3  TRANSUNION INTERMEDIATE HOLDINGS, INC.    MO    63366  ...             Yes   \n",
       "4     Experian Information Solutions Inc.    MO    655XX  ...             Yes   \n",
       "\n",
       "  consumer_disputed complaint_id date_received_day date_received_month  \\\n",
       "0               NaN      6384775                 1                   1   \n",
       "1               NaN      6384724                 1                   1   \n",
       "2               NaN      6384896                 1                   1   \n",
       "3               NaN      6382439                 1                   1   \n",
       "4               NaN      6383627                 1                   1   \n",
       "\n",
       "  date_received_year  date_sent_to_company_day  date_sent_to_company_month  \\\n",
       "0               2023                         1                           1   \n",
       "1               2023                         1                           1   \n",
       "2               2023                         1                           1   \n",
       "3               2023                         1                           1   \n",
       "4               2023                         1                           1   \n",
       "\n",
       "   date_sent_to_company_year  processing_day  \n",
       "0                       2023               0  \n",
       "1                       2023               0  \n",
       "2                       2023               0  \n",
       "3                       2023               0  \n",
       "4                       2023               0  \n",
       "\n",
       "[5 rows x 25 columns]"
      ]
     },
     "execution_count": 16,
     "metadata": {},
     "output_type": "execute_result"
    }
   ],
   "source": [
    "# Convert date columns to datetime format\n",
    "date_cols = ['date_received', 'date_sent_to_company']\n",
    "sample_df[date_cols] = sample_df[date_cols].apply(pd.to_datetime, errors='coerce')\n",
    "\n",
    "# Extract day, month, and year from date columns\n",
    "for col in date_cols:\n",
    "    sample_df[f'{col}_day'] = sample_df[col].dt.day\n",
    "    sample_df[f'{col}_month'] = sample_df[col].dt.month\n",
    "    sample_df[f'{col}_year'] = sample_df[col].dt.year\n",
    "\n",
    "# Calculate the processing day as the difference between date_sent_to_company and date_received\n",
    "sample_df['processing_day'] = (sample_df['date_sent_to_company'] - sample_df['date_received']).dt.days\n",
    "\n",
    "# Display the first few rows of the DataFrame after processing dates\n",
    "sample_df.head()"
   ]
  },
  {
   "cell_type": "markdown",
   "id": "6770b294",
   "metadata": {},
   "source": [
    "# Exploratory Data Analysis (EDA)"
   ]
  },
  {
   "cell_type": "markdown",
   "id": "9dcacbd6",
   "metadata": {},
   "source": [
    "| Column                         | Description                                                                 |\n",
    "|--------------------------------|-----------------------------------------------------------------------------|\n",
    "| Date received                  | The date when the consumer's complaint was received.                        |\n",
    "| Product                        | The specific financial product or service related to the complaint.         |\n",
    "| Sub-product                    | A more detailed sub-category of the product or service.                     |\n",
    "| Issue                          | The main problem described in the consumer's complaint.                     |\n",
    "| Sub-issue                      | Additional details or sub-category related to the main issue.               |\n",
    "| Consumer complaint narrative   | A text description provided by the consumer detailing their complaint.      |\n",
    "| Company public response        | The response or statement issued by the company regarding the complaint.    |\n",
    "| Company                        | The name of the company being complained about.                              |\n",
    "| State                          | The state of residence of the consumer.                                     |\n",
    "| ZIP code                       | The postal code of the consumer's location.                                 |\n",
    "| Tags                           | Additional tags or labels related to the complaint.                         |\n",
    "| Consumer consent provided?     | Indicates whether the consumer consented to publish their complaint.        |\n",
    "| Submitted via                  | The channel or method used to submit the complaint.                         |\n",
    "| Date sent to company           | The date when the complaint was forwarded to the company for response.      |\n",
    "| Company response to consumer   | The response or resolution from the company to the consumer's complaint.    |\n",
    "| Timely response?               | Indicates whether the company responded in a timely manner.                 |\n",
    "| Consumer disputed?             | Indicates whether the consumer disputed the company's response.             |\n",
    "| Complaint ID                   | A unique identifier assigned to each complaint.                             |"
   ]
  },
  {
   "cell_type": "markdown",
   "id": "27290923",
   "metadata": {},
   "source": [
    "## Dataset Overview"
   ]
  },
  {
   "cell_type": "code",
   "execution_count": 17,
   "id": "749fe82e",
   "metadata": {},
   "outputs": [
    {
     "data": {
      "application/vnd.microsoft.datawrangler.viewer.v0+json": {
       "columns": [
        {
         "name": "index",
         "rawType": "int64",
         "type": "integer"
        },
        {
         "name": "date_received",
         "rawType": "datetime64[ns]",
         "type": "datetime"
        },
        {
         "name": "product",
         "rawType": "object",
         "type": "string"
        },
        {
         "name": "subproduct",
         "rawType": "object",
         "type": "string"
        },
        {
         "name": "issue",
         "rawType": "object",
         "type": "string"
        },
        {
         "name": "subissue",
         "rawType": "object",
         "type": "string"
        },
        {
         "name": "consumer_complaint_narrative",
         "rawType": "object",
         "type": "unknown"
        },
        {
         "name": "company_public_response",
         "rawType": "object",
         "type": "string"
        },
        {
         "name": "company",
         "rawType": "object",
         "type": "string"
        },
        {
         "name": "state",
         "rawType": "object",
         "type": "string"
        },
        {
         "name": "zip_code",
         "rawType": "object",
         "type": "string"
        },
        {
         "name": "tags",
         "rawType": "object",
         "type": "unknown"
        },
        {
         "name": "consumer_consent_provided",
         "rawType": "object",
         "type": "string"
        },
        {
         "name": "submitted_via",
         "rawType": "object",
         "type": "string"
        },
        {
         "name": "date_sent_to_company",
         "rawType": "datetime64[ns]",
         "type": "datetime"
        },
        {
         "name": "company_response_to_consumer",
         "rawType": "object",
         "type": "string"
        },
        {
         "name": "timely_response",
         "rawType": "object",
         "type": "string"
        },
        {
         "name": "consumer_disputed",
         "rawType": "float64",
         "type": "float"
        },
        {
         "name": "complaint_id",
         "rawType": "int64",
         "type": "integer"
        },
        {
         "name": "date_received_day",
         "rawType": "int32",
         "type": "integer"
        },
        {
         "name": "date_received_month",
         "rawType": "int32",
         "type": "integer"
        },
        {
         "name": "date_received_year",
         "rawType": "int32",
         "type": "integer"
        },
        {
         "name": "date_sent_to_company_day",
         "rawType": "int32",
         "type": "integer"
        },
        {
         "name": "date_sent_to_company_month",
         "rawType": "int32",
         "type": "integer"
        },
        {
         "name": "date_sent_to_company_year",
         "rawType": "int32",
         "type": "integer"
        },
        {
         "name": "processing_day",
         "rawType": "int64",
         "type": "integer"
        }
       ],
       "ref": "456f16d1-93e9-4d1a-be58-1bcb410bc495",
       "rows": [
        [
         "0",
         "2023-01-01 00:00:00",
         "Credit reporting, credit repair services, or other personal consumer reports",
         "Credit reporting",
         "Improper use of your report",
         "Reporting company used your report improperly",
         "XXXX is in violation of. 15 usc 1681 section 602 A, states i have the right to privacy.604 A section 2 also states a consumer reporting agency ( XXXX  ) can not furnish a consumer/credit report without my written instructions.I gave no such instructions to experian to furnish my information to XXXX XXXX which appears on my credit report.Would like ths account deleted from account which is also in violation of 15 usc 1692 c and b.there was no prior consent to furnish my information to no one!!! also submitted dispute on XXXX 0n XXXX website and system is saying already in dispute.not me!!!!!",
         "Company has responded to the consumer and the CFPB and chooses not to provide a public response",
         "TRANSUNION INTERMEDIATE HOLDINGS, INC.",
         "NY",
         "112XX",
         null,
         "Consent provided",
         "Web",
         "2023-01-01 00:00:00",
         "Closed with non-monetary relief",
         "Yes",
         null,
         "6384775",
         "1",
         "1",
         "2023",
         "1",
         "1",
         "2023",
         "0"
        ],
        [
         "1",
         "2023-01-01 00:00:00",
         "Credit reporting, credit repair services, or other personal consumer reports",
         "Credit reporting",
         "Improper use of your report",
         "Credit inquiries on your report that you don't recognize",
         "Address 's does not belong to me XXXX XXXX XXXX XXXX XXXX XXXX XXXX XXXX XXXX XXXX XXXX XXXX XXXX XXXX XXXX XXXX XXXX XXXX XXXX XXXX XXXX XXXX XXXX XXXX XXXX XXXX XXXX XXXX XXXX XXXX XXXX XXXX XXXX XXXX XXXX XXXX XXXX XXXX XXXX XXXX XXXX XXXX XXXX XXXX XXXX XXXX XXXX XXXX XXXX XXXX XXXX XXXX XXXX XXXX XXXX XXXX XXXX XXXX XXXX XXXX XXXX XXXX XXXX XXXX XXXX XXXX XXXX XXXX XXXX XXXX XXXX XXXX XXXX XXXX XXXX XXXX XXXX XXXX XXXX XXXX XXXX XXXX XXXX XXXX XXXX XXXX XXXX XXXX XXXX XXXX XXXX XXXX XXXX XXXX XXXX XXXX XXXX XXXX XXXX XXXX XXXX XXXX XXXX XXXX XXXX XXXX XXXX XXXX XXXX XXXX XXXX XXXX XXXX XXXX XXXX XXXX XXXX XXXX XXXX XXXX XXXX XXXX XXXX XXXX XXXX Inquiries do not belong to me Dispute this XXXX XXXX XXXX XXXX XXXX XXXX XXXX XXXX XXXX XXXX XXXX XXXX XXXX XXXX XXXX XXXX XXXX XXXX XXXX XXXX XXXX XXXX XXXX XXXX XXXX XXXX XXXX XXXX XXXX XXXX XXXX XXXX XXXX XXXX XXXX XXXX XXXX XXXX XXXX XXXX XXXX XXXX XXXX XXXX XXXX XXXX XXXX XXXX XXXX XXXX XXXX XXXX XXXX XXXX XXXX XXXX XXXX XXXX XXXX XXXX XXXX XXXX XXXX XXXX XXXX XXXX XXXX XXXX XXXX XXXX XXXX XXXX XXXX XXXX XXXX XXXX XXXX XXXX XXXX XXXX XXXX XXXX XXXX XXXX XXXX XXXX XXXX XXXX XXXX XXXX XXXX XXXX XXXX XXXX XXXX XXXX",
         "Company has responded to the consumer and the CFPB and chooses not to provide a public response",
         "Experian Information Solutions Inc.",
         "NC",
         "28262",
         null,
         "Consent provided",
         "Web",
         "2023-01-01 00:00:00",
         "Closed with non-monetary relief",
         "Yes",
         null,
         "6384724",
         "1",
         "1",
         "2023",
         "1",
         "1",
         "2023",
         "0"
        ],
        [
         "2",
         "2023-01-01 00:00:00",
         "Credit reporting, credit repair services, or other personal consumer reports",
         "Credit reporting",
         "Problem with a credit reporting company's investigation into an existing problem",
         "Investigation took more than 30 days",
         "The credit reporting agency is reporting information that is inaccurate. I notified them of these inaccuracies in XXXX and they have yet to respond and it has been over 30 days.",
         "Company has responded to the consumer and the CFPB and chooses not to provide a public response",
         "Experian Information Solutions Inc.",
         "OH",
         "431XX",
         null,
         "Consent provided",
         "Web",
         "2023-01-01 00:00:00",
         "Closed with non-monetary relief",
         "Yes",
         null,
         "6384896",
         "1",
         "1",
         "2023",
         "1",
         "1",
         "2023",
         "0"
        ],
        [
         "3",
         "2023-01-01 00:00:00",
         "Credit reporting, credit repair services, or other personal consumer reports",
         "Credit reporting",
         "Improper use of your report",
         "Reporting company used your report improperly",
         null,
         "Company has responded to the consumer and the CFPB and chooses not to provide a public response",
         "TRANSUNION INTERMEDIATE HOLDINGS, INC.",
         "MO",
         "63366",
         null,
         "Consent not provided",
         "Web",
         "2023-01-01 00:00:00",
         "Closed with non-monetary relief",
         "Yes",
         null,
         "6382439",
         "1",
         "1",
         "2023",
         "1",
         "1",
         "2023",
         "0"
        ],
        [
         "4",
         "2023-01-01 00:00:00",
         "Credit reporting, credit repair services, or other personal consumer reports",
         "Credit reporting",
         "Improper use of your report",
         "Reporting company used your report improperly",
         "XXXX is in violation of The XXXX XXXX that requires financial institutions or companies that offer consumers financial products or services like loans, financial or investment advice, or insurance, need to explain their information-sharing practices to their customers and to safeguard sensitive nonpublic information data. XXXX committed identity theft as I did not receive on OPT OUT notice before submitting my nonpublic personal information to a third-party affiliate Experian. XXXX had a responsibility to provide a clear and conspicuous disclosure to me in writing or in electronic form or other form permitted by the Fair Credit Reporting Act.",
         "Company has responded to the consumer and the CFPB and chooses not to provide a public response",
         "Experian Information Solutions Inc.",
         "MO",
         "655XX",
         "Servicemember",
         "Consent provided",
         "Web",
         "2023-01-01 00:00:00",
         "Closed with explanation",
         "Yes",
         null,
         "6383627",
         "1",
         "1",
         "2023",
         "1",
         "1",
         "2023",
         "0"
        ]
       ],
       "shape": {
        "columns": 25,
        "rows": 5
       }
      },
      "text/html": [
       "<div>\n",
       "<style scoped>\n",
       "    .dataframe tbody tr th:only-of-type {\n",
       "        vertical-align: middle;\n",
       "    }\n",
       "\n",
       "    .dataframe tbody tr th {\n",
       "        vertical-align: top;\n",
       "    }\n",
       "\n",
       "    .dataframe thead th {\n",
       "        text-align: right;\n",
       "    }\n",
       "</style>\n",
       "<table border=\"1\" class=\"dataframe\">\n",
       "  <thead>\n",
       "    <tr style=\"text-align: right;\">\n",
       "      <th></th>\n",
       "      <th>date_received</th>\n",
       "      <th>product</th>\n",
       "      <th>subproduct</th>\n",
       "      <th>issue</th>\n",
       "      <th>subissue</th>\n",
       "      <th>consumer_complaint_narrative</th>\n",
       "      <th>company_public_response</th>\n",
       "      <th>company</th>\n",
       "      <th>state</th>\n",
       "      <th>zip_code</th>\n",
       "      <th>...</th>\n",
       "      <th>timely_response</th>\n",
       "      <th>consumer_disputed</th>\n",
       "      <th>complaint_id</th>\n",
       "      <th>date_received_day</th>\n",
       "      <th>date_received_month</th>\n",
       "      <th>date_received_year</th>\n",
       "      <th>date_sent_to_company_day</th>\n",
       "      <th>date_sent_to_company_month</th>\n",
       "      <th>date_sent_to_company_year</th>\n",
       "      <th>processing_day</th>\n",
       "    </tr>\n",
       "  </thead>\n",
       "  <tbody>\n",
       "    <tr>\n",
       "      <th>0</th>\n",
       "      <td>2023-01-01</td>\n",
       "      <td>Credit reporting, credit repair services, or o...</td>\n",
       "      <td>Credit reporting</td>\n",
       "      <td>Improper use of your report</td>\n",
       "      <td>Reporting company used your report improperly</td>\n",
       "      <td>XXXX is in violation of. 15 usc 1681 section 6...</td>\n",
       "      <td>Company has responded to the consumer and the ...</td>\n",
       "      <td>TRANSUNION INTERMEDIATE HOLDINGS, INC.</td>\n",
       "      <td>NY</td>\n",
       "      <td>112XX</td>\n",
       "      <td>...</td>\n",
       "      <td>Yes</td>\n",
       "      <td>NaN</td>\n",
       "      <td>6384775</td>\n",
       "      <td>1</td>\n",
       "      <td>1</td>\n",
       "      <td>2023</td>\n",
       "      <td>1</td>\n",
       "      <td>1</td>\n",
       "      <td>2023</td>\n",
       "      <td>0</td>\n",
       "    </tr>\n",
       "    <tr>\n",
       "      <th>1</th>\n",
       "      <td>2023-01-01</td>\n",
       "      <td>Credit reporting, credit repair services, or o...</td>\n",
       "      <td>Credit reporting</td>\n",
       "      <td>Improper use of your report</td>\n",
       "      <td>Credit inquiries on your report that you don't...</td>\n",
       "      <td>Address 's does not belong to me XXXX XXXX XXX...</td>\n",
       "      <td>Company has responded to the consumer and the ...</td>\n",
       "      <td>Experian Information Solutions Inc.</td>\n",
       "      <td>NC</td>\n",
       "      <td>28262</td>\n",
       "      <td>...</td>\n",
       "      <td>Yes</td>\n",
       "      <td>NaN</td>\n",
       "      <td>6384724</td>\n",
       "      <td>1</td>\n",
       "      <td>1</td>\n",
       "      <td>2023</td>\n",
       "      <td>1</td>\n",
       "      <td>1</td>\n",
       "      <td>2023</td>\n",
       "      <td>0</td>\n",
       "    </tr>\n",
       "    <tr>\n",
       "      <th>2</th>\n",
       "      <td>2023-01-01</td>\n",
       "      <td>Credit reporting, credit repair services, or o...</td>\n",
       "      <td>Credit reporting</td>\n",
       "      <td>Problem with a credit reporting company's inve...</td>\n",
       "      <td>Investigation took more than 30 days</td>\n",
       "      <td>The credit reporting agency is reporting infor...</td>\n",
       "      <td>Company has responded to the consumer and the ...</td>\n",
       "      <td>Experian Information Solutions Inc.</td>\n",
       "      <td>OH</td>\n",
       "      <td>431XX</td>\n",
       "      <td>...</td>\n",
       "      <td>Yes</td>\n",
       "      <td>NaN</td>\n",
       "      <td>6384896</td>\n",
       "      <td>1</td>\n",
       "      <td>1</td>\n",
       "      <td>2023</td>\n",
       "      <td>1</td>\n",
       "      <td>1</td>\n",
       "      <td>2023</td>\n",
       "      <td>0</td>\n",
       "    </tr>\n",
       "    <tr>\n",
       "      <th>3</th>\n",
       "      <td>2023-01-01</td>\n",
       "      <td>Credit reporting, credit repair services, or o...</td>\n",
       "      <td>Credit reporting</td>\n",
       "      <td>Improper use of your report</td>\n",
       "      <td>Reporting company used your report improperly</td>\n",
       "      <td>NaN</td>\n",
       "      <td>Company has responded to the consumer and the ...</td>\n",
       "      <td>TRANSUNION INTERMEDIATE HOLDINGS, INC.</td>\n",
       "      <td>MO</td>\n",
       "      <td>63366</td>\n",
       "      <td>...</td>\n",
       "      <td>Yes</td>\n",
       "      <td>NaN</td>\n",
       "      <td>6382439</td>\n",
       "      <td>1</td>\n",
       "      <td>1</td>\n",
       "      <td>2023</td>\n",
       "      <td>1</td>\n",
       "      <td>1</td>\n",
       "      <td>2023</td>\n",
       "      <td>0</td>\n",
       "    </tr>\n",
       "    <tr>\n",
       "      <th>4</th>\n",
       "      <td>2023-01-01</td>\n",
       "      <td>Credit reporting, credit repair services, or o...</td>\n",
       "      <td>Credit reporting</td>\n",
       "      <td>Improper use of your report</td>\n",
       "      <td>Reporting company used your report improperly</td>\n",
       "      <td>XXXX is in violation of The XXXX XXXX that req...</td>\n",
       "      <td>Company has responded to the consumer and the ...</td>\n",
       "      <td>Experian Information Solutions Inc.</td>\n",
       "      <td>MO</td>\n",
       "      <td>655XX</td>\n",
       "      <td>...</td>\n",
       "      <td>Yes</td>\n",
       "      <td>NaN</td>\n",
       "      <td>6383627</td>\n",
       "      <td>1</td>\n",
       "      <td>1</td>\n",
       "      <td>2023</td>\n",
       "      <td>1</td>\n",
       "      <td>1</td>\n",
       "      <td>2023</td>\n",
       "      <td>0</td>\n",
       "    </tr>\n",
       "  </tbody>\n",
       "</table>\n",
       "<p>5 rows × 25 columns</p>\n",
       "</div>"
      ],
      "text/plain": [
       "  date_received                                            product  \\\n",
       "0    2023-01-01  Credit reporting, credit repair services, or o...   \n",
       "1    2023-01-01  Credit reporting, credit repair services, or o...   \n",
       "2    2023-01-01  Credit reporting, credit repair services, or o...   \n",
       "3    2023-01-01  Credit reporting, credit repair services, or o...   \n",
       "4    2023-01-01  Credit reporting, credit repair services, or o...   \n",
       "\n",
       "         subproduct                                              issue  \\\n",
       "0  Credit reporting                        Improper use of your report   \n",
       "1  Credit reporting                        Improper use of your report   \n",
       "2  Credit reporting  Problem with a credit reporting company's inve...   \n",
       "3  Credit reporting                        Improper use of your report   \n",
       "4  Credit reporting                        Improper use of your report   \n",
       "\n",
       "                                            subissue  \\\n",
       "0      Reporting company used your report improperly   \n",
       "1  Credit inquiries on your report that you don't...   \n",
       "2               Investigation took more than 30 days   \n",
       "3      Reporting company used your report improperly   \n",
       "4      Reporting company used your report improperly   \n",
       "\n",
       "                        consumer_complaint_narrative  \\\n",
       "0  XXXX is in violation of. 15 usc 1681 section 6...   \n",
       "1  Address 's does not belong to me XXXX XXXX XXX...   \n",
       "2  The credit reporting agency is reporting infor...   \n",
       "3                                                NaN   \n",
       "4  XXXX is in violation of The XXXX XXXX that req...   \n",
       "\n",
       "                             company_public_response  \\\n",
       "0  Company has responded to the consumer and the ...   \n",
       "1  Company has responded to the consumer and the ...   \n",
       "2  Company has responded to the consumer and the ...   \n",
       "3  Company has responded to the consumer and the ...   \n",
       "4  Company has responded to the consumer and the ...   \n",
       "\n",
       "                                  company state zip_code  ... timely_response  \\\n",
       "0  TRANSUNION INTERMEDIATE HOLDINGS, INC.    NY    112XX  ...             Yes   \n",
       "1     Experian Information Solutions Inc.    NC    28262  ...             Yes   \n",
       "2     Experian Information Solutions Inc.    OH    431XX  ...             Yes   \n",
       "3  TRANSUNION INTERMEDIATE HOLDINGS, INC.    MO    63366  ...             Yes   \n",
       "4     Experian Information Solutions Inc.    MO    655XX  ...             Yes   \n",
       "\n",
       "  consumer_disputed complaint_id date_received_day date_received_month  \\\n",
       "0               NaN      6384775                 1                   1   \n",
       "1               NaN      6384724                 1                   1   \n",
       "2               NaN      6384896                 1                   1   \n",
       "3               NaN      6382439                 1                   1   \n",
       "4               NaN      6383627                 1                   1   \n",
       "\n",
       "  date_received_year  date_sent_to_company_day  date_sent_to_company_month  \\\n",
       "0               2023                         1                           1   \n",
       "1               2023                         1                           1   \n",
       "2               2023                         1                           1   \n",
       "3               2023                         1                           1   \n",
       "4               2023                         1                           1   \n",
       "\n",
       "   date_sent_to_company_year  processing_day  \n",
       "0                       2023               0  \n",
       "1                       2023               0  \n",
       "2                       2023               0  \n",
       "3                       2023               0  \n",
       "4                       2023               0  \n",
       "\n",
       "[5 rows x 25 columns]"
      ]
     },
     "execution_count": 17,
     "metadata": {},
     "output_type": "execute_result"
    }
   ],
   "source": [
    "# Display the first few rows of the DataFrame\n",
    "sample_df.head()"
   ]
  },
  {
   "cell_type": "markdown",
   "id": "2727eb63",
   "metadata": {},
   "source": [
    "## Create a Summary DataFrame for Non-null Values"
   ]
  },
  {
   "cell_type": "code",
   "execution_count": 18,
   "id": "1396a529",
   "metadata": {},
   "outputs": [
    {
     "data": {
      "application/vnd.microsoft.datawrangler.viewer.v0+json": {
       "columns": [
        {
         "name": "index",
         "rawType": "int64",
         "type": "integer"
        },
        {
         "name": "feature",
         "rawType": "object",
         "type": "string"
        },
        {
         "name": "total_non_null",
         "rawType": "int64",
         "type": "integer"
        },
        {
         "name": "total_row",
         "rawType": "int64",
         "type": "integer"
        },
        {
         "name": "non_null_percentage",
         "rawType": "float64",
         "type": "float"
        }
       ],
       "ref": "ebb35cff-507c-4386-bc80-b77f61cbce02",
       "rows": [
        [
         "0",
         "consumer_disputed",
         "0",
         "399046",
         "0.0"
        ],
        [
         "1",
         "tags",
         "24390",
         "399046",
         "6.11"
        ],
        [
         "2",
         "company_public_response",
         "226285",
         "399046",
         "56.71"
        ],
        [
         "3",
         "consumer_complaint_narrative",
         "239524",
         "399046",
         "60.02"
        ],
        [
         "4",
         "consumer_consent_provided",
         "381808",
         "399046",
         "95.68"
        ],
        [
         "5",
         "subissue",
         "385096",
         "399046",
         "96.5"
        ],
        [
         "6",
         "state",
         "397871",
         "399046",
         "99.71"
        ],
        [
         "7",
         "date_received",
         "399046",
         "399046",
         "100.0"
        ],
        [
         "8",
         "date_sent_to_company_month",
         "399046",
         "399046",
         "100.0"
        ],
        [
         "9",
         "date_sent_to_company_day",
         "399046",
         "399046",
         "100.0"
        ],
        [
         "10",
         "date_received_year",
         "399046",
         "399046",
         "100.0"
        ],
        [
         "11",
         "date_received_month",
         "399046",
         "399046",
         "100.0"
        ],
        [
         "12",
         "date_received_day",
         "399046",
         "399046",
         "100.0"
        ],
        [
         "13",
         "complaint_id",
         "399046",
         "399046",
         "100.0"
        ],
        [
         "14",
         "timely_response",
         "399046",
         "399046",
         "100.0"
        ],
        [
         "15",
         "submitted_via",
         "399046",
         "399046",
         "100.0"
        ],
        [
         "16",
         "date_sent_to_company",
         "399046",
         "399046",
         "100.0"
        ],
        [
         "17",
         "date_sent_to_company_year",
         "399046",
         "399046",
         "100.0"
        ],
        [
         "18",
         "zip_code",
         "399040",
         "399046",
         "100.0"
        ],
        [
         "19",
         "company",
         "399046",
         "399046",
         "100.0"
        ],
        [
         "20",
         "issue",
         "399045",
         "399046",
         "100.0"
        ],
        [
         "21",
         "subproduct",
         "399045",
         "399046",
         "100.0"
        ],
        [
         "22",
         "product",
         "399046",
         "399046",
         "100.0"
        ],
        [
         "23",
         "company_response_to_consumer",
         "399044",
         "399046",
         "100.0"
        ],
        [
         "24",
         "processing_day",
         "399046",
         "399046",
         "100.0"
        ]
       ],
       "shape": {
        "columns": 4,
        "rows": 25
       }
      },
      "text/html": [
       "<div>\n",
       "<style scoped>\n",
       "    .dataframe tbody tr th:only-of-type {\n",
       "        vertical-align: middle;\n",
       "    }\n",
       "\n",
       "    .dataframe tbody tr th {\n",
       "        vertical-align: top;\n",
       "    }\n",
       "\n",
       "    .dataframe thead th {\n",
       "        text-align: right;\n",
       "    }\n",
       "</style>\n",
       "<table border=\"1\" class=\"dataframe\">\n",
       "  <thead>\n",
       "    <tr style=\"text-align: right;\">\n",
       "      <th></th>\n",
       "      <th>feature</th>\n",
       "      <th>total_non_null</th>\n",
       "      <th>total_row</th>\n",
       "      <th>non_null_percentage</th>\n",
       "    </tr>\n",
       "  </thead>\n",
       "  <tbody>\n",
       "    <tr>\n",
       "      <th>0</th>\n",
       "      <td>consumer_disputed</td>\n",
       "      <td>0</td>\n",
       "      <td>399046</td>\n",
       "      <td>0.00</td>\n",
       "    </tr>\n",
       "    <tr>\n",
       "      <th>1</th>\n",
       "      <td>tags</td>\n",
       "      <td>24390</td>\n",
       "      <td>399046</td>\n",
       "      <td>6.11</td>\n",
       "    </tr>\n",
       "    <tr>\n",
       "      <th>2</th>\n",
       "      <td>company_public_response</td>\n",
       "      <td>226285</td>\n",
       "      <td>399046</td>\n",
       "      <td>56.71</td>\n",
       "    </tr>\n",
       "    <tr>\n",
       "      <th>3</th>\n",
       "      <td>consumer_complaint_narrative</td>\n",
       "      <td>239524</td>\n",
       "      <td>399046</td>\n",
       "      <td>60.02</td>\n",
       "    </tr>\n",
       "    <tr>\n",
       "      <th>4</th>\n",
       "      <td>consumer_consent_provided</td>\n",
       "      <td>381808</td>\n",
       "      <td>399046</td>\n",
       "      <td>95.68</td>\n",
       "    </tr>\n",
       "    <tr>\n",
       "      <th>5</th>\n",
       "      <td>subissue</td>\n",
       "      <td>385096</td>\n",
       "      <td>399046</td>\n",
       "      <td>96.50</td>\n",
       "    </tr>\n",
       "    <tr>\n",
       "      <th>6</th>\n",
       "      <td>state</td>\n",
       "      <td>397871</td>\n",
       "      <td>399046</td>\n",
       "      <td>99.71</td>\n",
       "    </tr>\n",
       "    <tr>\n",
       "      <th>7</th>\n",
       "      <td>date_received</td>\n",
       "      <td>399046</td>\n",
       "      <td>399046</td>\n",
       "      <td>100.00</td>\n",
       "    </tr>\n",
       "    <tr>\n",
       "      <th>8</th>\n",
       "      <td>date_sent_to_company_month</td>\n",
       "      <td>399046</td>\n",
       "      <td>399046</td>\n",
       "      <td>100.00</td>\n",
       "    </tr>\n",
       "    <tr>\n",
       "      <th>9</th>\n",
       "      <td>date_sent_to_company_day</td>\n",
       "      <td>399046</td>\n",
       "      <td>399046</td>\n",
       "      <td>100.00</td>\n",
       "    </tr>\n",
       "    <tr>\n",
       "      <th>10</th>\n",
       "      <td>date_received_year</td>\n",
       "      <td>399046</td>\n",
       "      <td>399046</td>\n",
       "      <td>100.00</td>\n",
       "    </tr>\n",
       "    <tr>\n",
       "      <th>11</th>\n",
       "      <td>date_received_month</td>\n",
       "      <td>399046</td>\n",
       "      <td>399046</td>\n",
       "      <td>100.00</td>\n",
       "    </tr>\n",
       "    <tr>\n",
       "      <th>12</th>\n",
       "      <td>date_received_day</td>\n",
       "      <td>399046</td>\n",
       "      <td>399046</td>\n",
       "      <td>100.00</td>\n",
       "    </tr>\n",
       "    <tr>\n",
       "      <th>13</th>\n",
       "      <td>complaint_id</td>\n",
       "      <td>399046</td>\n",
       "      <td>399046</td>\n",
       "      <td>100.00</td>\n",
       "    </tr>\n",
       "    <tr>\n",
       "      <th>14</th>\n",
       "      <td>timely_response</td>\n",
       "      <td>399046</td>\n",
       "      <td>399046</td>\n",
       "      <td>100.00</td>\n",
       "    </tr>\n",
       "    <tr>\n",
       "      <th>15</th>\n",
       "      <td>submitted_via</td>\n",
       "      <td>399046</td>\n",
       "      <td>399046</td>\n",
       "      <td>100.00</td>\n",
       "    </tr>\n",
       "    <tr>\n",
       "      <th>16</th>\n",
       "      <td>date_sent_to_company</td>\n",
       "      <td>399046</td>\n",
       "      <td>399046</td>\n",
       "      <td>100.00</td>\n",
       "    </tr>\n",
       "    <tr>\n",
       "      <th>17</th>\n",
       "      <td>date_sent_to_company_year</td>\n",
       "      <td>399046</td>\n",
       "      <td>399046</td>\n",
       "      <td>100.00</td>\n",
       "    </tr>\n",
       "    <tr>\n",
       "      <th>18</th>\n",
       "      <td>zip_code</td>\n",
       "      <td>399040</td>\n",
       "      <td>399046</td>\n",
       "      <td>100.00</td>\n",
       "    </tr>\n",
       "    <tr>\n",
       "      <th>19</th>\n",
       "      <td>company</td>\n",
       "      <td>399046</td>\n",
       "      <td>399046</td>\n",
       "      <td>100.00</td>\n",
       "    </tr>\n",
       "    <tr>\n",
       "      <th>20</th>\n",
       "      <td>issue</td>\n",
       "      <td>399045</td>\n",
       "      <td>399046</td>\n",
       "      <td>100.00</td>\n",
       "    </tr>\n",
       "    <tr>\n",
       "      <th>21</th>\n",
       "      <td>subproduct</td>\n",
       "      <td>399045</td>\n",
       "      <td>399046</td>\n",
       "      <td>100.00</td>\n",
       "    </tr>\n",
       "    <tr>\n",
       "      <th>22</th>\n",
       "      <td>product</td>\n",
       "      <td>399046</td>\n",
       "      <td>399046</td>\n",
       "      <td>100.00</td>\n",
       "    </tr>\n",
       "    <tr>\n",
       "      <th>23</th>\n",
       "      <td>company_response_to_consumer</td>\n",
       "      <td>399044</td>\n",
       "      <td>399046</td>\n",
       "      <td>100.00</td>\n",
       "    </tr>\n",
       "    <tr>\n",
       "      <th>24</th>\n",
       "      <td>processing_day</td>\n",
       "      <td>399046</td>\n",
       "      <td>399046</td>\n",
       "      <td>100.00</td>\n",
       "    </tr>\n",
       "  </tbody>\n",
       "</table>\n",
       "</div>"
      ],
      "text/plain": [
       "                         feature  total_non_null  total_row  \\\n",
       "0              consumer_disputed               0     399046   \n",
       "1                           tags           24390     399046   \n",
       "2        company_public_response          226285     399046   \n",
       "3   consumer_complaint_narrative          239524     399046   \n",
       "4      consumer_consent_provided          381808     399046   \n",
       "5                       subissue          385096     399046   \n",
       "6                          state          397871     399046   \n",
       "7                  date_received          399046     399046   \n",
       "8     date_sent_to_company_month          399046     399046   \n",
       "9       date_sent_to_company_day          399046     399046   \n",
       "10            date_received_year          399046     399046   \n",
       "11           date_received_month          399046     399046   \n",
       "12             date_received_day          399046     399046   \n",
       "13                  complaint_id          399046     399046   \n",
       "14               timely_response          399046     399046   \n",
       "15                 submitted_via          399046     399046   \n",
       "16          date_sent_to_company          399046     399046   \n",
       "17     date_sent_to_company_year          399046     399046   \n",
       "18                      zip_code          399040     399046   \n",
       "19                       company          399046     399046   \n",
       "20                         issue          399045     399046   \n",
       "21                    subproduct          399045     399046   \n",
       "22                       product          399046     399046   \n",
       "23  company_response_to_consumer          399044     399046   \n",
       "24                processing_day          399046     399046   \n",
       "\n",
       "    non_null_percentage  \n",
       "0                  0.00  \n",
       "1                  6.11  \n",
       "2                 56.71  \n",
       "3                 60.02  \n",
       "4                 95.68  \n",
       "5                 96.50  \n",
       "6                 99.71  \n",
       "7                100.00  \n",
       "8                100.00  \n",
       "9                100.00  \n",
       "10               100.00  \n",
       "11               100.00  \n",
       "12               100.00  \n",
       "13               100.00  \n",
       "14               100.00  \n",
       "15               100.00  \n",
       "16               100.00  \n",
       "17               100.00  \n",
       "18               100.00  \n",
       "19               100.00  \n",
       "20               100.00  \n",
       "21               100.00  \n",
       "22               100.00  \n",
       "23               100.00  \n",
       "24               100.00  "
      ]
     },
     "execution_count": 18,
     "metadata": {},
     "output_type": "execute_result"
    }
   ],
   "source": [
    "# Create a summary DataFrame for non-null values\n",
    "non_null_summary = pd.DataFrame({\n",
    "    'feature': sample_df.columns,\n",
    "    'total_non_null': sample_df.notnull().sum().values,\n",
    "    'total_row': sample_df.shape[0],\n",
    "    'non_null_percentage': (\n",
    "        sample_df.notnull().sum().values / sample_df.shape[0] * 100\n",
    "    ).round(2)\n",
    "})\n",
    "\n",
    "# Sort the summary DataFrame by non-null percentage in ascending order\n",
    "non_null_summary = (\n",
    "    non_null_summary\n",
    "    .sort_values(by='non_null_percentage', ascending=True)\n",
    "    .reset_index(drop=True)\n",
    ")\n",
    "\n",
    "# Display the non-null summary DataFrame\n",
    "non_null_summary"
   ]
  },
  {
   "cell_type": "code",
   "execution_count": 19,
   "id": "5f2a74c6",
   "metadata": {},
   "outputs": [
    {
     "data": {
      "image/png": "[encoded data removed]",
      "text/plain": [
       "<Figure size 1200x600 with 1 Axes>"
      ]
     },
     "metadata": {},
     "output_type": "display_data"
    }
   ],
   "source": [
    "# Plotting the non-null percentage by feature\n",
    "plt.figure(figsize=(12, 6))\n",
    "plt.barh(\n",
    "    non_null_summary['feature'],\n",
    "    non_null_summary['non_null_percentage'],\n",
    "    color='skyblue'\n",
    ")\n",
    "plt.xlabel('Non-Null Percentage (%)')\n",
    "plt.title('Non-Null Percentage by Feature')\n",
    "plt.gca().invert_yaxis()  # Highest missing at top\n",
    "plt.grid(axis='x', linestyle='--', alpha=0.7)\n",
    "plt.tight_layout()\n",
    "plt.show()"
   ]
  },
  {
   "cell_type": "markdown",
   "id": "bb1b6181",
   "metadata": {},
   "source": [
    "## Explore Product Column"
   ]
  },
  {
   "cell_type": "code",
   "execution_count": null,
   "id": "c53b8f30",
   "metadata": {},
   "outputs": [
    {
     "data": {
      "application/vnd.microsoft.datawrangler.viewer.v0+json": {
       "columns": [
        {
         "name": "product",
         "rawType": "object",
         "type": "string"
        },
        {
         "name": "count",
         "rawType": "int64",
         "type": "integer"
        },
        {
         "name": "percentage",
         "rawType": "float64",
         "type": "float"
        }
       ],
       "ref": "214a1d3a-6d21-4c96-8687-819275e011f0",
       "rows": [
        [
         "Credit reporting or other personal consumer reports",
         "247784",
         "62.0940944151802"
        ],
        [
         "Credit reporting, credit repair services, or other personal consumer reports",
         "72712",
         "18.221458177753945"
        ],
        [
         "Debt collection",
         "25599",
         "6.415049893997184"
        ],
        [
         "Checking or savings account",
         "13762",
         "3.448725209624955"
        ],
        [
         "Credit card",
         "10479",
         "2.6260130411030307"
        ],
        [
         "Money transfer, virtual currency, or money service",
         "8038",
         "2.0143041153150265"
        ],
        [
         "Mortgage",
         "5551",
         "1.3910676964560478"
        ],
        [
         "Credit card or prepaid card",
         "5008",
         "1.25499315868346"
        ],
        [
         "Student loan",
         "3333",
         "0.835242052294723"
        ],
        [
         "Vehicle loan or lease",
         "3297",
         "0.8262205359783084"
        ],
        [
         "Payday loan, title loan, personal loan, or advance loan",
         "1414",
         "0.35434511309473093"
        ],
        [
         "Prepaid card",
         "1015",
         "0.25435664058780194"
        ],
        [
         "Payday loan, title loan, or personal loan",
         "679",
         "0.17015582163459853"
        ],
        [
         "Debt or credit management",
         "375",
         "0.09397412829598592"
        ]
       ],
       "shape": {
        "columns": 2,
        "rows": 14
       }
      },
      "text/html": [
       "<div>\n",
       "<style scoped>\n",
       "    .dataframe tbody tr th:only-of-type {\n",
       "        vertical-align: middle;\n",
       "    }\n",
       "\n",
       "    .dataframe tbody tr th {\n",
       "        vertical-align: top;\n",
       "    }\n",
       "\n",
       "    .dataframe thead th {\n",
       "        text-align: right;\n",
       "    }\n",
       "</style>\n",
       "<table border=\"1\" class=\"dataframe\">\n",
       "  <thead>\n",
       "    <tr style=\"text-align: right;\">\n",
       "      <th></th>\n",
       "      <th>count</th>\n",
       "      <th>percentage</th>\n",
       "    </tr>\n",
       "    <tr>\n",
       "      <th>product</th>\n",
       "      <th></th>\n",
       "      <th></th>\n",
       "    </tr>\n",
       "  </thead>\n",
       "  <tbody>\n",
       "    <tr>\n",
       "      <th>Credit reporting or other personal consumer reports</th>\n",
       "      <td>247784</td>\n",
       "      <td>62.094094</td>\n",
       "    </tr>\n",
       "    <tr>\n",
       "      <th>Credit reporting, credit repair services, or other personal consumer reports</th>\n",
       "      <td>72712</td>\n",
       "      <td>18.221458</td>\n",
       "    </tr>\n",
       "    <tr>\n",
       "      <th>Debt collection</th>\n",
       "      <td>25599</td>\n",
       "      <td>6.415050</td>\n",
       "    </tr>\n",
       "    <tr>\n",
       "      <th>Checking or savings account</th>\n",
       "      <td>13762</td>\n",
       "      <td>3.448725</td>\n",
       "    </tr>\n",
       "    <tr>\n",
       "      <th>Credit card</th>\n",
       "      <td>10479</td>\n",
       "      <td>2.626013</td>\n",
       "    </tr>\n",
       "    <tr>\n",
       "      <th>Money transfer, virtual currency, or money service</th>\n",
       "      <td>8038</td>\n",
       "      <td>2.014304</td>\n",
       "    </tr>\n",
       "    <tr>\n",
       "      <th>Mortgage</th>\n",
       "      <td>5551</td>\n",
       "      <td>1.391068</td>\n",
       "    </tr>\n",
       "    <tr>\n",
       "      <th>Credit card or prepaid card</th>\n",
       "      <td>5008</td>\n",
       "      <td>1.254993</td>\n",
       "    </tr>\n",
       "    <tr>\n",
       "      <th>Student loan</th>\n",
       "      <td>3333</td>\n",
       "      <td>0.835242</td>\n",
       "    </tr>\n",
       "    <tr>\n",
       "      <th>Vehicle loan or lease</th>\n",
       "      <td>3297</td>\n",
       "      <td>0.826221</td>\n",
       "    </tr>\n",
       "    <tr>\n",
       "      <th>Payday loan, title loan, personal loan, or advance loan</th>\n",
       "      <td>1414</td>\n",
       "      <td>0.354345</td>\n",
       "    </tr>\n",
       "    <tr>\n",
       "      <th>Prepaid card</th>\n",
       "      <td>1015</td>\n",
       "      <td>0.254357</td>\n",
       "    </tr>\n",
       "    <tr>\n",
       "      <th>Payday loan, title loan, or personal loan</th>\n",
       "      <td>679</td>\n",
       "      <td>0.170156</td>\n",
       "    </tr>\n",
       "    <tr>\n",
       "      <th>Debt or credit management</th>\n",
       "      <td>375</td>\n",
       "      <td>0.093974</td>\n",
       "    </tr>\n",
       "  </tbody>\n",
       "</table>\n",
       "</div>"
      ],
      "text/plain": [
       "                                                     count  percentage\n",
       "product                                                               \n",
       "Credit reporting or other personal consumer rep...  247784   62.094094\n",
       "Credit reporting, credit repair services, or ot...   72712   18.221458\n",
       "Debt collection                                      25599    6.415050\n",
       "Checking or savings account                          13762    3.448725\n",
       "Credit card                                          10479    2.626013\n",
       "Money transfer, virtual currency, or money service    8038    2.014304\n",
       "Mortgage                                              5551    1.391068\n",
       "Credit card or prepaid card                           5008    1.254993\n",
       "Student loan                                          3333    0.835242\n",
       "Vehicle loan or lease                                 3297    0.826221\n",
       "Payday loan, title loan, personal loan, or adva...    1414    0.354345\n",
       "Prepaid card                                          1015    0.254357\n",
       "Payday loan, title loan, or personal loan              679    0.170156\n",
       "Debt or credit management                              375    0.093974"
      ]
     },
     "execution_count": 27,
     "metadata": {},
     "output_type": "execute_result"
    }
   ],
   "source": [
    "# summarize the product categories\n",
    "summary_product = summarize_categories(sample_df, 'product')\n",
    "summary_product"
   ]
  },
  {
   "cell_type": "code",
   "execution_count": 36,
   "id": "10cf30f0",
   "metadata": {},
   "outputs": [
    {
     "data": {
      "image/png": "[encoded data removed]",
      "text/plain": [
       "<Figure size 1000x600 with 1 Axes>"
      ]
     },
     "metadata": {},
     "output_type": "display_data"
    }
   ],
   "source": [
    "plt.figure(figsize=(10, 6))\n",
    "plt.barh(\n",
    "    summary_product.index.astype(str),\n",
    "    summary_product['percentage'],\n",
    "    color='mediumslateblue'\n",
    ")\n",
    "plt.xlabel('Percentage (%)')\n",
    "plt.title('Product Categories (First Mapping)')\n",
    "plt.xlim(0, 100)\n",
    "plt.gca().invert_yaxis()\n",
    "plt.grid(axis='x', linestyle='--', alpha=0.7)\n",
    "plt.tight_layout()\n",
    "plt.show()"
   ]
  },
  {
   "cell_type": "markdown",
   "id": "9a89547c",
   "metadata": {},
   "source": [
    "**Insights from Unique Values in the Product Column**\n",
    "\n",
    "1. **Category normalization is necessary**  \n",
    "    Many products are essentially the same but phrased differently. Normalizing categories ensures consistency and prevents bias in analysis or modeling.\n",
    "\n",
    "2. **Combine into _Credit reporting_**  \n",
    "    - Credit reporting, credit repair services, or other personal consumer reports  \n",
    "    - Credit reporting or other personal consumer reports  \n",
    "    _Both refer to credit reporting services and consumer reports._\n",
    "\n",
    "3. **Combine into _Credit card / Prepaid card_**  \n",
    "    - Credit card or prepaid card  \n",
    "    - Credit card  \n",
    "    - Prepaid card  \n",
    "    _All relate to credit or prepaid card services; only the card type differs._\n",
    "\n",
    "4. **Combine into _Payday/Title/Personal loan_**  \n",
    "    - Payday loan, title loan, or personal loan  \n",
    "    - Payday loan, title loan, personal loan, or advance loan  \n",
    "    _Both cover payday, title, personal, and advance loans—essentially the same category._\n"
   ]
  },
  {
   "cell_type": "markdown",
   "id": "9e7e3c75",
   "metadata": {},
   "source": [
    "### First Mapping : Clean the 'product' column by mapping similar products to a common category"
   ]
  },
  {
   "cell_type": "code",
   "execution_count": null,
   "id": "793ed1e9",
   "metadata": {},
   "outputs": [
    {
     "data": {
      "application/vnd.microsoft.datawrangler.viewer.v0+json": {
       "columns": [
        {
         "name": "product_first_mapping",
         "rawType": "object",
         "type": "string"
        },
        {
         "name": "count",
         "rawType": "int64",
         "type": "integer"
        },
        {
         "name": "percentage",
         "rawType": "float64",
         "type": "float"
        }
       ],
       "ref": "a67616d3-9c67-4ddd-8013-16639a91744a",
       "rows": [
        [
         "Credit reporting",
         "320496",
         "80.31555259293415"
        ],
        [
         "Debt collection",
         "25599",
         "6.415049893997184"
        ],
        [
         "Credit card / Prepaid card",
         "16502",
         "4.135362840374293"
        ],
        [
         "Checking or savings account",
         "13762",
         "3.448725209624955"
        ],
        [
         "Money transfer, virtual currency, or money service",
         "8038",
         "2.0143041153150265"
        ],
        [
         "Mortgage",
         "5551",
         "1.3910676964560478"
        ],
        [
         "Student loan",
         "3333",
         "0.835242052294723"
        ],
        [
         "Vehicle loan or lease",
         "3297",
         "0.8262205359783084"
        ],
        [
         "Payday/Title/Personal loan",
         "2093",
         "0.5245009347293295"
        ],
        [
         "Debt or credit management",
         "375",
         "0.09397412829598592"
        ]
       ],
       "shape": {
        "columns": 2,
        "rows": 10
       }
      },
      "text/html": [
       "<div>\n",
       "<style scoped>\n",
       "    .dataframe tbody tr th:only-of-type {\n",
       "        vertical-align: middle;\n",
       "    }\n",
       "\n",
       "    .dataframe tbody tr th {\n",
       "        vertical-align: top;\n",
       "    }\n",
       "\n",
       "    .dataframe thead th {\n",
       "        text-align: right;\n",
       "    }\n",
       "</style>\n",
       "<table border=\"1\" class=\"dataframe\">\n",
       "  <thead>\n",
       "    <tr style=\"text-align: right;\">\n",
       "      <th></th>\n",
       "      <th>count</th>\n",
       "      <th>percentage</th>\n",
       "    </tr>\n",
       "    <tr>\n",
       "      <th>product_first_mapping</th>\n",
       "      <th></th>\n",
       "      <th></th>\n",
       "    </tr>\n",
       "  </thead>\n",
       "  <tbody>\n",
       "    <tr>\n",
       "      <th>Credit reporting</th>\n",
       "      <td>320496</td>\n",
       "      <td>80.315553</td>\n",
       "    </tr>\n",
       "    <tr>\n",
       "      <th>Debt collection</th>\n",
       "      <td>25599</td>\n",
       "      <td>6.415050</td>\n",
       "    </tr>\n",
       "    <tr>\n",
       "      <th>Credit card / Prepaid card</th>\n",
       "      <td>16502</td>\n",
       "      <td>4.135363</td>\n",
       "    </tr>\n",
       "    <tr>\n",
       "      <th>Checking or savings account</th>\n",
       "      <td>13762</td>\n",
       "      <td>3.448725</td>\n",
       "    </tr>\n",
       "    <tr>\n",
       "      <th>Money transfer, virtual currency, or money service</th>\n",
       "      <td>8038</td>\n",
       "      <td>2.014304</td>\n",
       "    </tr>\n",
       "    <tr>\n",
       "      <th>Mortgage</th>\n",
       "      <td>5551</td>\n",
       "      <td>1.391068</td>\n",
       "    </tr>\n",
       "    <tr>\n",
       "      <th>Student loan</th>\n",
       "      <td>3333</td>\n",
       "      <td>0.835242</td>\n",
       "    </tr>\n",
       "    <tr>\n",
       "      <th>Vehicle loan or lease</th>\n",
       "      <td>3297</td>\n",
       "      <td>0.826221</td>\n",
       "    </tr>\n",
       "    <tr>\n",
       "      <th>Payday/Title/Personal loan</th>\n",
       "      <td>2093</td>\n",
       "      <td>0.524501</td>\n",
       "    </tr>\n",
       "    <tr>\n",
       "      <th>Debt or credit management</th>\n",
       "      <td>375</td>\n",
       "      <td>0.093974</td>\n",
       "    </tr>\n",
       "  </tbody>\n",
       "</table>\n",
       "</div>"
      ],
      "text/plain": [
       "                                                     count  percentage\n",
       "product_first_mapping                                                 \n",
       "Credit reporting                                    320496   80.315553\n",
       "Debt collection                                      25599    6.415050\n",
       "Credit card / Prepaid card                           16502    4.135363\n",
       "Checking or savings account                          13762    3.448725\n",
       "Money transfer, virtual currency, or money service    8038    2.014304\n",
       "Mortgage                                              5551    1.391068\n",
       "Student loan                                          3333    0.835242\n",
       "Vehicle loan or lease                                 3297    0.826221\n",
       "Payday/Title/Personal loan                            2093    0.524501\n",
       "Debt or credit management                              375    0.093974"
      ]
     },
     "execution_count": 28,
     "metadata": {},
     "output_type": "execute_result"
    }
   ],
   "source": [
    "# Define a mapping dictionary for product categories\n",
    "mapping = {\n",
    "    'Credit reporting, credit repair services, or other personal consumer reports': 'Credit reporting',\n",
    "    'Credit reporting or other personal consumer reports': 'Credit reporting',\n",
    "    'Credit card or prepaid card': 'Credit card / Prepaid card',\n",
    "    'Credit card': 'Credit card / Prepaid card',\n",
    "    'Prepaid card': 'Credit card / Prepaid card',\n",
    "    'Payday loan, title loan, or personal loan': 'Payday/Title/Personal loan',\n",
    "    'Payday loan, title loan, personal loan, or advance loan': 'Payday/Title/Personal loan'\n",
    "}\n",
    "\n",
    "# Replace the 'product' column values using the mapping dictionary\n",
    "sample_df['product_first_mapping'] = sample_df['product'].replace(mapping)\n",
    "\n",
    "# Summarize the product categories after the first mapping\n",
    "summary_first_product_mapping = summarize_categories(sample_df, column='product_first_mapping')\n",
    "\n",
    "# Display the summary DataFrame after the first mapping\n",
    "summary_first_product_mapping"
   ]
  },
  {
   "cell_type": "code",
   "execution_count": 35,
   "id": "3edc22ff",
   "metadata": {},
   "outputs": [
    {
     "data": {
      "image/png": "[encoded data removed]",
      "text/plain": [
       "<Figure size 1000x600 with 1 Axes>"
      ]
     },
     "metadata": {},
     "output_type": "display_data"
    }
   ],
   "source": [
    "plt.figure(figsize=(10, 6))\n",
    "plt.barh(\n",
    "    summary_first_product_mapping.index.astype(str),\n",
    "    summary_first_product_mapping['percentage'],\n",
    "    color='mediumslateblue'\n",
    ")\n",
    "plt.xlabel('Percentage (%)')\n",
    "plt.title('Product Categories (First Mapping)')\n",
    "plt.xlim(0, 100)\n",
    "plt.gca().invert_yaxis()\n",
    "plt.grid(axis='x', linestyle='--', alpha=0.7)\n",
    "plt.tight_layout()\n",
    "plt.show()"
   ]
  },
  {
   "cell_type": "markdown",
   "id": "9e61fc33",
   "metadata": {},
   "source": [
    "**Insights from Unique Values in the _product first mapping_ Column**\n",
    "\n",
    "- Categories with less than 1% of total complaints are grouped into broader categories to reduce class imbalance.\n",
    "- \"Debt collection\" and \"Debt or credit management\" are merged into a single \"Debt-related\" category due to their similar topics.\n",
    "- \"Student loan,\" \"Vehicle loan/lease,\" and \"Payday/Title/Personal loan\" are combined into an \"Other\" category because of their small counts and lack of strong association with major categories."
   ]
  },
  {
   "cell_type": "markdown",
   "id": "12a8ec96",
   "metadata": {},
   "source": [
    "### Second Mapping : Clean the 'product_first_mapping' column by mapping similar products to a common category"
   ]
  },
  {
   "cell_type": "code",
   "execution_count": null,
   "id": "92012b35",
   "metadata": {},
   "outputs": [
    {
     "data": {
      "application/vnd.microsoft.datawrangler.viewer.v0+json": {
       "columns": [
        {
         "name": "product_second_mapping",
         "rawType": "object",
         "type": "string"
        },
        {
         "name": "count",
         "rawType": "int64",
         "type": "integer"
        },
        {
         "name": "percentage",
         "rawType": "float64",
         "type": "float"
        }
       ],
       "ref": "5cb573a6-2f8a-44ab-bcf5-b81e3f8c345a",
       "rows": [
        [
         "Credit reporting",
         "320496",
         "80.31555259293415"
        ],
        [
         "Debt related",
         "25974",
         "6.509024022293169"
        ],
        [
         "Credit/Prepaid card",
         "16502",
         "4.135362840374293"
        ],
        [
         "Checking/Savings account",
         "13762",
         "3.448725209624955"
        ],
        [
         "Other",
         "8723",
         "2.1859635230023606"
        ],
        [
         "Money services",
         "8038",
         "2.0143041153150265"
        ],
        [
         "Mortgage",
         "5551",
         "1.3910676964560478"
        ]
       ],
       "shape": {
        "columns": 2,
        "rows": 7
       }
      },
      "text/html": [
       "<div>\n",
       "<style scoped>\n",
       "    .dataframe tbody tr th:only-of-type {\n",
       "        vertical-align: middle;\n",
       "    }\n",
       "\n",
       "    .dataframe tbody tr th {\n",
       "        vertical-align: top;\n",
       "    }\n",
       "\n",
       "    .dataframe thead th {\n",
       "        text-align: right;\n",
       "    }\n",
       "</style>\n",
       "<table border=\"1\" class=\"dataframe\">\n",
       "  <thead>\n",
       "    <tr style=\"text-align: right;\">\n",
       "      <th></th>\n",
       "      <th>count</th>\n",
       "      <th>percentage</th>\n",
       "    </tr>\n",
       "    <tr>\n",
       "      <th>product_second_mapping</th>\n",
       "      <th></th>\n",
       "      <th></th>\n",
       "    </tr>\n",
       "  </thead>\n",
       "  <tbody>\n",
       "    <tr>\n",
       "      <th>Credit reporting</th>\n",
       "      <td>320496</td>\n",
       "      <td>80.315553</td>\n",
       "    </tr>\n",
       "    <tr>\n",
       "      <th>Debt related</th>\n",
       "      <td>25974</td>\n",
       "      <td>6.509024</td>\n",
       "    </tr>\n",
       "    <tr>\n",
       "      <th>Credit/Prepaid card</th>\n",
       "      <td>16502</td>\n",
       "      <td>4.135363</td>\n",
       "    </tr>\n",
       "    <tr>\n",
       "      <th>Checking/Savings account</th>\n",
       "      <td>13762</td>\n",
       "      <td>3.448725</td>\n",
       "    </tr>\n",
       "    <tr>\n",
       "      <th>Other</th>\n",
       "      <td>8723</td>\n",
       "      <td>2.185964</td>\n",
       "    </tr>\n",
       "    <tr>\n",
       "      <th>Money services</th>\n",
       "      <td>8038</td>\n",
       "      <td>2.014304</td>\n",
       "    </tr>\n",
       "    <tr>\n",
       "      <th>Mortgage</th>\n",
       "      <td>5551</td>\n",
       "      <td>1.391068</td>\n",
       "    </tr>\n",
       "  </tbody>\n",
       "</table>\n",
       "</div>"
      ],
      "text/plain": [
       "                           count  percentage\n",
       "product_second_mapping                      \n",
       "Credit reporting          320496   80.315553\n",
       "Debt related               25974    6.509024\n",
       "Credit/Prepaid card        16502    4.135363\n",
       "Checking/Savings account   13762    3.448725\n",
       "Other                       8723    2.185964\n",
       "Money services              8038    2.014304\n",
       "Mortgage                    5551    1.391068"
      ]
     },
     "execution_count": 29,
     "metadata": {},
     "output_type": "execute_result"
    }
   ],
   "source": [
    "# Define a function to group products into broader categories\n",
    "def second_product_mapping(product):\n",
    "    if product == 'Credit reporting':\n",
    "        return 'Credit reporting'\n",
    "    elif product == 'Credit card / Prepaid card':\n",
    "        return 'Credit/Prepaid card'\n",
    "    elif product in ['Debt collection', 'Debt or credit management']:\n",
    "        return 'Debt related'\n",
    "    elif product == 'Checking or savings account':\n",
    "        return 'Checking/Savings account'\n",
    "    elif product == 'Money transfer, virtual currency, or money service':\n",
    "        return 'Money services'\n",
    "    elif product == 'Mortgage':\n",
    "        return 'Mortgage'\n",
    "    else:\n",
    "        return 'Other'  # Student loan, Vehicle loan/lease, Payday/Title/Personal loan  \n",
    "\n",
    "# Apply the grouping function to the 'product_first_mapping' column\n",
    "sample_df['product_second_mapping'] = sample_df['product_clean'].apply(second_product_mapping)\n",
    "\n",
    "# Summarize the product categories after the second mapping\n",
    "summary_second_product_mapping = summarize_categories(sample_df, column='product_second_mapping')\n",
    "\n",
    "# Display the summary DataFrame after the second mapping\n",
    "summary_second_product_mapping"
   ]
  },
  {
   "cell_type": "code",
   "execution_count": 37,
   "id": "fd22442a",
   "metadata": {},
   "outputs": [
    {
     "data": {
      "image/png": "[encoded data removed]",
      "text/plain": [
       "<Figure size 1000x600 with 1 Axes>"
      ]
     },
     "metadata": {},
     "output_type": "display_data"
    }
   ],
   "source": [
    "plt.figure(figsize=(10, 6))\n",
    "plt.barh(\n",
    "    summary_second_product_mapping.index.astype(str),\n",
    "    summary_second_product_mapping['percentage'],\n",
    "    color='mediumslateblue'\n",
    ")\n",
    "plt.xlabel('Percentage (%)')\n",
    "plt.title('Product Categories (First Mapping)')\n",
    "plt.xlim(0, 100)\n",
    "plt.gca().invert_yaxis()\n",
    "plt.grid(axis='x', linestyle='--', alpha=0.7)\n",
    "plt.tight_layout()\n",
    "plt.show()"
   ]
  },
  {
   "cell_type": "markdown",
   "id": "799d1e67",
   "metadata": {},
   "source": [
    "## Explore State Column"
   ]
  },
  {
   "cell_type": "code",
   "execution_count": 41,
   "id": "0d5e2fb0",
   "metadata": {},
   "outputs": [
    {
     "data": {
      "application/vnd.microsoft.datawrangler.viewer.v0+json": {
       "columns": [
        {
         "name": "state",
         "rawType": "object",
         "type": "string"
        },
        {
         "name": "count",
         "rawType": "int64",
         "type": "integer"
        },
        {
         "name": "percentage",
         "rawType": "float64",
         "type": "float"
        }
       ],
       "ref": "49ce1c8b-e34b-4e41-93e7-7778c77ac4f1",
       "rows": [
        [
         "FL",
         "53300",
         "13.396301816417886"
        ],
        [
         "TX",
         "51771",
         "13.012006404085746"
        ],
        [
         "CA",
         "39686",
         "9.97458975396548"
        ],
        [
         "GA",
         "30413",
         "7.643934843202947"
        ],
        [
         "NY",
         "24667",
         "6.199748159579361"
        ],
        [
         "IL",
         "19365",
         "4.867155434801732"
        ],
        [
         "PA",
         "17352",
         "4.361212553817695"
        ],
        [
         "NC",
         "14088",
         "3.5408461536528173"
        ],
        [
         "NJ",
         "13270",
         "3.335251878121301"
        ],
        [
         "MD",
         "9988",
         "2.510361398543749"
        ],
        [
         "MI",
         "9294",
         "2.335933003410653"
        ],
        [
         "VA",
         "8709",
         "2.1889004224987496"
        ],
        [
         "OH",
         "8682",
         "2.1821143033797386"
        ],
        [
         "LA",
         "8361",
         "2.101434887187053"
        ],
        [
         "SC",
         "8304",
         "2.0871086357135855"
        ],
        [
         "AL",
         "7308",
         "1.8367762415456266"
        ],
        [
         "AZ",
         "6821",
         "1.7143747596582812"
        ],
        [
         "TN",
         "6308",
         "1.5854384963970736"
        ],
        [
         "NV",
         "5881",
         "1.4781172792186412"
        ],
        [
         "IN",
         "5138",
         "1.291373334573266"
        ],
        [
         "MO",
         "5033",
         "1.264982871332668"
        ],
        [
         "MA",
         "4878",
         "1.2260255208346424"
        ],
        [
         "MS",
         "4288",
         "1.077736251196996"
        ],
        [
         "CT",
         "3007",
         "0.7557725996616994"
        ],
        [
         "WA",
         "3002",
         "0.7545159109359567"
        ],
        [
         "WI",
         "2713",
         "0.6818793025880248"
        ],
        [
         "CO",
         "2627",
         "0.6602642565052491"
        ],
        [
         "AR",
         "2322",
         "0.5836062442349405"
        ],
        [
         "MN",
         "2300",
         "0.5780768138416723"
        ],
        [
         "DE",
         "1931",
         "0.4853331858818562"
        ],
        [
         "KY",
         "1925",
         "0.4838251594109649"
        ],
        [
         "OK",
         "1814",
         "0.4559266696994755"
        ],
        [
         "DC",
         "1517",
         "0.3812793593903552"
        ],
        [
         "OR",
         "1279",
         "0.3214609760449995"
        ],
        [
         "UT",
         "1187",
         "0.2983379034913326"
        ],
        [
         "PR",
         "1050",
         "0.26390463240598083"
        ],
        [
         "KS",
         "982",
         "0.2468136657358792"
        ],
        [
         "NE",
         "966",
         "0.24279226181350236"
        ],
        [
         "IA",
         "923",
         "0.2319847387721146"
        ],
        [
         "NM",
         "869",
         "0.21841250053409272"
        ],
        [
         "RI",
         "759",
         "0.19076534856775187"
        ],
        [
         "HI",
         "649",
         "0.163118196601411"
        ],
        [
         "WV",
         "512",
         "0.12868492551605923"
        ],
        [
         "ID",
         "462",
         "0.11611803825863157"
        ],
        [
         "NH",
         "447",
         "0.11234797208140328"
        ],
        [
         "ME",
         "284",
         "0.0713799196221891"
        ],
        [
         "ND",
         "251",
         "0.06308577403228685"
        ],
        [
         "MT",
         "213",
         "0.05353493971664183"
        ],
        [
         "AK",
         "205",
         "0.0515242377554534"
        ],
        [
         "WY",
         "190",
         "0.047754171578225105"
        ]
       ],
       "shape": {
        "columns": 2,
        "rows": 60
       }
      },
      "text/html": [
       "<div>\n",
       "<style scoped>\n",
       "    .dataframe tbody tr th:only-of-type {\n",
       "        vertical-align: middle;\n",
       "    }\n",
       "\n",
       "    .dataframe tbody tr th {\n",
       "        vertical-align: top;\n",
       "    }\n",
       "\n",
       "    .dataframe thead th {\n",
       "        text-align: right;\n",
       "    }\n",
       "</style>\n",
       "<table border=\"1\" class=\"dataframe\">\n",
       "  <thead>\n",
       "    <tr style=\"text-align: right;\">\n",
       "      <th></th>\n",
       "      <th>count</th>\n",
       "      <th>percentage</th>\n",
       "    </tr>\n",
       "    <tr>\n",
       "      <th>state</th>\n",
       "      <th></th>\n",
       "      <th></th>\n",
       "    </tr>\n",
       "  </thead>\n",
       "  <tbody>\n",
       "    <tr>\n",
       "      <th>FL</th>\n",
       "      <td>53300</td>\n",
       "      <td>13.396302</td>\n",
       "    </tr>\n",
       "    <tr>\n",
       "      <th>TX</th>\n",
       "      <td>51771</td>\n",
       "      <td>13.012006</td>\n",
       "    </tr>\n",
       "    <tr>\n",
       "      <th>CA</th>\n",
       "      <td>39686</td>\n",
       "      <td>9.974590</td>\n",
       "    </tr>\n",
       "    <tr>\n",
       "      <th>GA</th>\n",
       "      <td>30413</td>\n",
       "      <td>7.643935</td>\n",
       "    </tr>\n",
       "    <tr>\n",
       "      <th>NY</th>\n",
       "      <td>24667</td>\n",
       "      <td>6.199748</td>\n",
       "    </tr>\n",
       "    <tr>\n",
       "      <th>IL</th>\n",
       "      <td>19365</td>\n",
       "      <td>4.867155</td>\n",
       "    </tr>\n",
       "    <tr>\n",
       "      <th>PA</th>\n",
       "      <td>17352</td>\n",
       "      <td>4.361213</td>\n",
       "    </tr>\n",
       "    <tr>\n",
       "      <th>NC</th>\n",
       "      <td>14088</td>\n",
       "      <td>3.540846</td>\n",
       "    </tr>\n",
       "    <tr>\n",
       "      <th>NJ</th>\n",
       "      <td>13270</td>\n",
       "      <td>3.335252</td>\n",
       "    </tr>\n",
       "    <tr>\n",
       "      <th>MD</th>\n",
       "      <td>9988</td>\n",
       "      <td>2.510361</td>\n",
       "    </tr>\n",
       "    <tr>\n",
       "      <th>MI</th>\n",
       "      <td>9294</td>\n",
       "      <td>2.335933</td>\n",
       "    </tr>\n",
       "    <tr>\n",
       "      <th>VA</th>\n",
       "      <td>8709</td>\n",
       "      <td>2.188900</td>\n",
       "    </tr>\n",
       "    <tr>\n",
       "      <th>OH</th>\n",
       "      <td>8682</td>\n",
       "      <td>2.182114</td>\n",
       "    </tr>\n",
       "    <tr>\n",
       "      <th>LA</th>\n",
       "      <td>8361</td>\n",
       "      <td>2.101435</td>\n",
       "    </tr>\n",
       "    <tr>\n",
       "      <th>SC</th>\n",
       "      <td>8304</td>\n",
       "      <td>2.087109</td>\n",
       "    </tr>\n",
       "    <tr>\n",
       "      <th>AL</th>\n",
       "      <td>7308</td>\n",
       "      <td>1.836776</td>\n",
       "    </tr>\n",
       "    <tr>\n",
       "      <th>AZ</th>\n",
       "      <td>6821</td>\n",
       "      <td>1.714375</td>\n",
       "    </tr>\n",
       "    <tr>\n",
       "      <th>TN</th>\n",
       "      <td>6308</td>\n",
       "      <td>1.585438</td>\n",
       "    </tr>\n",
       "    <tr>\n",
       "      <th>NV</th>\n",
       "      <td>5881</td>\n",
       "      <td>1.478117</td>\n",
       "    </tr>\n",
       "    <tr>\n",
       "      <th>IN</th>\n",
       "      <td>5138</td>\n",
       "      <td>1.291373</td>\n",
       "    </tr>\n",
       "    <tr>\n",
       "      <th>MO</th>\n",
       "      <td>5033</td>\n",
       "      <td>1.264983</td>\n",
       "    </tr>\n",
       "    <tr>\n",
       "      <th>MA</th>\n",
       "      <td>4878</td>\n",
       "      <td>1.226026</td>\n",
       "    </tr>\n",
       "    <tr>\n",
       "      <th>MS</th>\n",
       "      <td>4288</td>\n",
       "      <td>1.077736</td>\n",
       "    </tr>\n",
       "    <tr>\n",
       "      <th>CT</th>\n",
       "      <td>3007</td>\n",
       "      <td>0.755773</td>\n",
       "    </tr>\n",
       "    <tr>\n",
       "      <th>WA</th>\n",
       "      <td>3002</td>\n",
       "      <td>0.754516</td>\n",
       "    </tr>\n",
       "    <tr>\n",
       "      <th>WI</th>\n",
       "      <td>2713</td>\n",
       "      <td>0.681879</td>\n",
       "    </tr>\n",
       "    <tr>\n",
       "      <th>CO</th>\n",
       "      <td>2627</td>\n",
       "      <td>0.660264</td>\n",
       "    </tr>\n",
       "    <tr>\n",
       "      <th>AR</th>\n",
       "      <td>2322</td>\n",
       "      <td>0.583606</td>\n",
       "    </tr>\n",
       "    <tr>\n",
       "      <th>MN</th>\n",
       "      <td>2300</td>\n",
       "      <td>0.578077</td>\n",
       "    </tr>\n",
       "    <tr>\n",
       "      <th>DE</th>\n",
       "      <td>1931</td>\n",
       "      <td>0.485333</td>\n",
       "    </tr>\n",
       "    <tr>\n",
       "      <th>KY</th>\n",
       "      <td>1925</td>\n",
       "      <td>0.483825</td>\n",
       "    </tr>\n",
       "    <tr>\n",
       "      <th>OK</th>\n",
       "      <td>1814</td>\n",
       "      <td>0.455927</td>\n",
       "    </tr>\n",
       "    <tr>\n",
       "      <th>DC</th>\n",
       "      <td>1517</td>\n",
       "      <td>0.381279</td>\n",
       "    </tr>\n",
       "    <tr>\n",
       "      <th>OR</th>\n",
       "      <td>1279</td>\n",
       "      <td>0.321461</td>\n",
       "    </tr>\n",
       "    <tr>\n",
       "      <th>UT</th>\n",
       "      <td>1187</td>\n",
       "      <td>0.298338</td>\n",
       "    </tr>\n",
       "    <tr>\n",
       "      <th>PR</th>\n",
       "      <td>1050</td>\n",
       "      <td>0.263905</td>\n",
       "    </tr>\n",
       "    <tr>\n",
       "      <th>KS</th>\n",
       "      <td>982</td>\n",
       "      <td>0.246814</td>\n",
       "    </tr>\n",
       "    <tr>\n",
       "      <th>NE</th>\n",
       "      <td>966</td>\n",
       "      <td>0.242792</td>\n",
       "    </tr>\n",
       "    <tr>\n",
       "      <th>IA</th>\n",
       "      <td>923</td>\n",
       "      <td>0.231985</td>\n",
       "    </tr>\n",
       "    <tr>\n",
       "      <th>NM</th>\n",
       "      <td>869</td>\n",
       "      <td>0.218413</td>\n",
       "    </tr>\n",
       "    <tr>\n",
       "      <th>RI</th>\n",
       "      <td>759</td>\n",
       "      <td>0.190765</td>\n",
       "    </tr>\n",
       "    <tr>\n",
       "      <th>HI</th>\n",
       "      <td>649</td>\n",
       "      <td>0.163118</td>\n",
       "    </tr>\n",
       "    <tr>\n",
       "      <th>WV</th>\n",
       "      <td>512</td>\n",
       "      <td>0.128685</td>\n",
       "    </tr>\n",
       "    <tr>\n",
       "      <th>ID</th>\n",
       "      <td>462</td>\n",
       "      <td>0.116118</td>\n",
       "    </tr>\n",
       "    <tr>\n",
       "      <th>NH</th>\n",
       "      <td>447</td>\n",
       "      <td>0.112348</td>\n",
       "    </tr>\n",
       "    <tr>\n",
       "      <th>ME</th>\n",
       "      <td>284</td>\n",
       "      <td>0.071380</td>\n",
       "    </tr>\n",
       "    <tr>\n",
       "      <th>ND</th>\n",
       "      <td>251</td>\n",
       "      <td>0.063086</td>\n",
       "    </tr>\n",
       "    <tr>\n",
       "      <th>MT</th>\n",
       "      <td>213</td>\n",
       "      <td>0.053535</td>\n",
       "    </tr>\n",
       "    <tr>\n",
       "      <th>AK</th>\n",
       "      <td>205</td>\n",
       "      <td>0.051524</td>\n",
       "    </tr>\n",
       "    <tr>\n",
       "      <th>WY</th>\n",
       "      <td>190</td>\n",
       "      <td>0.047754</td>\n",
       "    </tr>\n",
       "    <tr>\n",
       "      <th>SD</th>\n",
       "      <td>142</td>\n",
       "      <td>0.035690</td>\n",
       "    </tr>\n",
       "    <tr>\n",
       "      <th>VT</th>\n",
       "      <td>137</td>\n",
       "      <td>0.034433</td>\n",
       "    </tr>\n",
       "    <tr>\n",
       "      <th>VI</th>\n",
       "      <td>125</td>\n",
       "      <td>0.031417</td>\n",
       "    </tr>\n",
       "    <tr>\n",
       "      <th>AE</th>\n",
       "      <td>71</td>\n",
       "      <td>0.017845</td>\n",
       "    </tr>\n",
       "    <tr>\n",
       "      <th>UNITED STATES MINOR OUTLYING ISLANDS</th>\n",
       "      <td>53</td>\n",
       "      <td>0.013321</td>\n",
       "    </tr>\n",
       "    <tr>\n",
       "      <th>AP</th>\n",
       "      <td>28</td>\n",
       "      <td>0.007037</td>\n",
       "    </tr>\n",
       "    <tr>\n",
       "      <th>GU</th>\n",
       "      <td>15</td>\n",
       "      <td>0.003770</td>\n",
       "    </tr>\n",
       "    <tr>\n",
       "      <th>MP</th>\n",
       "      <td>4</td>\n",
       "      <td>0.001005</td>\n",
       "    </tr>\n",
       "    <tr>\n",
       "      <th>AA</th>\n",
       "      <td>4</td>\n",
       "      <td>0.001005</td>\n",
       "    </tr>\n",
       "    <tr>\n",
       "      <th>AS</th>\n",
       "      <td>1</td>\n",
       "      <td>0.000251</td>\n",
       "    </tr>\n",
       "  </tbody>\n",
       "</table>\n",
       "</div>"
      ],
      "text/plain": [
       "                                      count  percentage\n",
       "state                                                  \n",
       "FL                                    53300   13.396302\n",
       "TX                                    51771   13.012006\n",
       "CA                                    39686    9.974590\n",
       "GA                                    30413    7.643935\n",
       "NY                                    24667    6.199748\n",
       "IL                                    19365    4.867155\n",
       "PA                                    17352    4.361213\n",
       "NC                                    14088    3.540846\n",
       "NJ                                    13270    3.335252\n",
       "MD                                     9988    2.510361\n",
       "MI                                     9294    2.335933\n",
       "VA                                     8709    2.188900\n",
       "OH                                     8682    2.182114\n",
       "LA                                     8361    2.101435\n",
       "SC                                     8304    2.087109\n",
       "AL                                     7308    1.836776\n",
       "AZ                                     6821    1.714375\n",
       "TN                                     6308    1.585438\n",
       "NV                                     5881    1.478117\n",
       "IN                                     5138    1.291373\n",
       "MO                                     5033    1.264983\n",
       "MA                                     4878    1.226026\n",
       "MS                                     4288    1.077736\n",
       "CT                                     3007    0.755773\n",
       "WA                                     3002    0.754516\n",
       "WI                                     2713    0.681879\n",
       "CO                                     2627    0.660264\n",
       "AR                                     2322    0.583606\n",
       "MN                                     2300    0.578077\n",
       "DE                                     1931    0.485333\n",
       "KY                                     1925    0.483825\n",
       "OK                                     1814    0.455927\n",
       "DC                                     1517    0.381279\n",
       "OR                                     1279    0.321461\n",
       "UT                                     1187    0.298338\n",
       "PR                                     1050    0.263905\n",
       "KS                                      982    0.246814\n",
       "NE                                      966    0.242792\n",
       "IA                                      923    0.231985\n",
       "NM                                      869    0.218413\n",
       "RI                                      759    0.190765\n",
       "HI                                      649    0.163118\n",
       "WV                                      512    0.128685\n",
       "ID                                      462    0.116118\n",
       "NH                                      447    0.112348\n",
       "ME                                      284    0.071380\n",
       "ND                                      251    0.063086\n",
       "MT                                      213    0.053535\n",
       "AK                                      205    0.051524\n",
       "WY                                      190    0.047754\n",
       "SD                                      142    0.035690\n",
       "VT                                      137    0.034433\n",
       "VI                                      125    0.031417\n",
       "AE                                       71    0.017845\n",
       "UNITED STATES MINOR OUTLYING ISLANDS     53    0.013321\n",
       "AP                                       28    0.007037\n",
       "GU                                       15    0.003770\n",
       "MP                                        4    0.001005\n",
       "AA                                        4    0.001005\n",
       "AS                                        1    0.000251"
      ]
     },
     "execution_count": 41,
     "metadata": {},
     "output_type": "execute_result"
    }
   ],
   "source": [
    "# summarize the state column\n",
    "summary_state = summarize_categories(sample_df, column='state')\n",
    "summary_state"
   ]
  },
  {
   "cell_type": "markdown",
   "id": "13038798",
   "metadata": {},
   "source": [
    "**Insights from Unique Values in the State Column**\n",
    "\n",
    "Several data quality issues were identified in the `state` column, motivating normalization:\n",
    "\n",
    "1. **Mixed formats:** Most values use US two-letter codes (e.g., NY, CA), but some use full names (e.g., \"UNITED STATES MINOR OUTLYING ISLANDS\").\n",
    "2. **Missing values:** Some entries are NaN and require consistent handling.\n",
    "3. **US territories:** Codes like PR (Puerto Rico), GU (Guam), VI (Virgin Islands), MP (Northern Mariana Islands), AS (American Samoa), and UM (Minor Outlying Islands) represent territories, not states.\n",
    "4. **Military postal codes:** AE, AP, and AA indicate military addresses.\n",
    "5. **Inconsistent representation:** Some locations appear in multiple formats (e.g., \"UNITED STATES MINOR OUTLYING ISLANDS\" vs \"UM\").\n",
    "6. **Potential redundancy:** ZIP codes contain location info, but state normalization prevents mismatches.\n",
    "\n",
    "---\n",
    "\n",
    "**State Column Normalization Steps**\n",
    "\n",
    "1. **Standardize format:** Uppercase all values and trim whitespace.\n",
    "2. **Map full names to codes:** Convert names like \"UNITED STATES MINOR OUTLYING ISLANDS\" to \"UM\".\n",
    "3. **Handle missing values:** Replace NaN with \"Unknown\".\n",
    "4. **Classify state types:**\n",
    "   - **State:** Standard US states and DC\n",
    "   - **Territory:** PR, GU, VI, MP, AS, UM\n",
    "   - **Military:** AE, AP, AA\n",
    "   - **Unknown:** Missing/unrecognized entries\n",
    "5. **Assign regions (US Census Bureau):**\n",
    "   - **Northeast:** CT, ME, MA, NH, RI, VT, NJ, NY, PA\n",
    "   - **Midwest:** IL, IN, MI, OH, WI, IA, KS, MN, MO, NE, ND, SD\n",
    "   - **South:** DE, FL, GA, MD, NC, SC, VA, DC, WV, AL, KY, MS, TN, AR, LA, OK, TX\n",
    "   - **West:** AZ, CO, ID, MT, NV, NM, UT, WY, AK, CA, HI, OR, WA\n",
    "   - **Territory:** PR, GU, VI, MP, AS, UM\n",
    "   - **Military:** AE, AP, AA\n",
    "   - **Unknown:** Missing values\n",
    "\n",
    "This normalization ensures the `state` column is consistent, analysis-ready, and suitable for grouping, visualization, and feature engineering.\n"
   ]
  },
  {
   "cell_type": "markdown",
   "id": "528e5c70",
   "metadata": {},
   "source": [
    "### State Column Normalization"
   ]
  },
  {
   "cell_type": "code",
   "execution_count": 43,
   "id": "67944fca",
   "metadata": {},
   "outputs": [],
   "source": [
    "# State normalization mappings and groups\n",
    "name_to_code = {'UNITED STATES MINOR OUTLYING ISLANDS': 'UM'}\n",
    "territories = ['PR', 'GU', 'VI', 'MP', 'AS', 'UM']\n",
    "military = ['AE', 'AP', 'AA']\n",
    "\n",
    "# Define regions with their corresponding state codes\n",
    "regions = {\n",
    "    'Northeast': ['CT', 'ME', 'MA', 'NH', 'RI', 'VT', 'NJ', 'NY', 'PA'],\n",
    "    'Midwest':   ['IL', 'IN', 'MI', 'OH', 'WI', 'IA', 'KS', 'MN', 'MO', 'NE', 'ND', 'SD'],\n",
    "    'South':     ['DE', 'FL', 'GA', 'MD', 'NC', 'SC', 'VA', 'DC', 'WV', 'AL', 'KY', 'MS', 'TN', 'AR', 'LA', 'OK', 'TX'],\n",
    "    'West':      ['AZ', 'CO', 'ID', 'MT', 'NV', 'NM', 'UT', 'WY', 'AK', 'CA', 'HI', 'OR', 'WA']\n",
    "}\n",
    "\n",
    "# Normalize the state column\n",
    "def normalize_state(val):\n",
    "    if pd.isna(val): #  \n",
    "        return 'Unknown'\n",
    "    val = val.strip().upper()\n",
    "    return name_to_code.get(val, val)\n",
    "\n",
    "# Map state codes to groups\n",
    "def map_group(code):\n",
    "    if code == 'Unknown':\n",
    "        return 'Unknown'\n",
    "    if code in territories:\n",
    "        return 'Territory'\n",
    "    if code in military:\n",
    "        return 'Military'\n",
    "    return 'State'\n",
    "\n",
    "# Map state codes to regions\n",
    "def map_region(code):\n",
    "    for region, codes in regions.items():\n",
    "        if code in codes:\n",
    "            return region\n",
    "    if code in territories:\n",
    "        return 'Territory'\n",
    "    if code in military:\n",
    "        return 'Military'\n",
    "    if code == 'Unknown':\n",
    "        return 'Unknown'\n",
    "    return 'Other'\n",
    "\n",
    "# Apply normalization and mapping functions to the 'state' column\n",
    "sample_df['state_clean'] = sample_df['state'].apply(normalize_state)\n",
    "sample_df['state_group'] = sample_df['state_clean'].apply(map_group)\n",
    "sample_df['region'] = sample_df['state_clean'].apply(map_region)\n"
   ]
  },
  {
   "cell_type": "code",
   "execution_count": 50,
   "id": "e4db0bef",
   "metadata": {},
   "outputs": [
    {
     "data": {
      "application/vnd.microsoft.datawrangler.viewer.v0+json": {
       "columns": [
        {
         "name": "state_clean",
         "rawType": "object",
         "type": "string"
        },
        {
         "name": "count",
         "rawType": "int64",
         "type": "integer"
        },
        {
         "name": "percentage",
         "rawType": "float64",
         "type": "float"
        }
       ],
       "ref": "0a394112-751c-44ae-a0e3-cb294a63c438",
       "rows": [
        [
         "FL",
         "53300",
         "13.3568561018028"
        ],
        [
         "TX",
         "51771",
         "12.973692256030633"
        ],
        [
         "CA",
         "39686",
         "9.945219348145326"
        ],
        [
         "GA",
         "30413",
         "7.621427103642187"
        ],
        [
         "NY",
         "24667",
         "6.181492860472226"
        ],
        [
         "IL",
         "19365",
         "4.852823985204713"
        ],
        [
         "PA",
         "17352",
         "4.34837086451186"
        ],
        [
         "NC",
         "14088",
         "3.530420051823599"
        ],
        [
         "NJ",
         "13270",
         "3.3254311533006216"
        ],
        [
         "MD",
         "9988",
         "2.502969582454153"
        ],
        [
         "MI",
         "9294",
         "2.329054795687715"
        ],
        [
         "VA",
         "8709",
         "2.1824551555459775"
        ],
        [
         "OH",
         "8682",
         "2.1756890183086663"
        ],
        [
         "LA",
         "8361",
         "2.0952471644873025"
        ],
        [
         "SC",
         "8304",
         "2.0809630969863124"
        ],
        [
         "AL",
         "7308",
         "1.8313678122321737"
        ],
        [
         "AZ",
         "6821",
         "1.7093267442851199"
        ],
        [
         "TN",
         "6308",
         "1.5807701367762113"
        ],
        [
         "NV",
         "5881",
         "1.4737649293565154"
        ],
        [
         "IN",
         "5138",
         "1.287570856492735"
        ],
        [
         "MO",
         "5033",
         "1.261258100569859"
        ],
        [
         "MA",
         "4878",
         "1.2224154608741848"
        ],
        [
         "MS",
         "4288",
         "1.074562832355167"
        ],
        [
         "CT",
         "3007",
         "0.7535472100960792"
        ],
        [
         "WA",
         "3002",
         "0.7522942217187993"
        ],
        [
         "WI",
         "2713",
         "0.6798714935120261"
        ],
        [
         "CO",
         "2627",
         "0.6583200934228134"
        ],
        [
         "AR",
         "2322",
         "0.5818878024087448"
        ],
        [
         "MN",
         "2300",
         "0.5763746535487136"
        ],
        [
         "DE",
         "1931",
         "0.48390411130546357"
        ],
        [
         "KY",
         "1925",
         "0.4824005252527278"
        ],
        [
         "OK",
         "1814",
         "0.4545841832771159"
        ],
        [
         "DC",
         "1517",
         "0.3801566736666951"
        ],
        [
         "OR",
         "1279",
         "0.320514426908176"
        ],
        [
         "UT",
         "1187",
         "0.2974594407662275"
        ],
        [
         "Unknown",
         "1175",
         "0.2944522686607559"
        ],
        [
         "PR",
         "1050",
         "0.2631275592287606"
        ],
        [
         "KS",
         "982",
         "0.24608691729775517"
        ],
        [
         "NE",
         "966",
         "0.24207735449045972"
        ],
        [
         "IA",
         "923",
         "0.23130165444585335"
        ],
        [
         "NM",
         "869",
         "0.21776937997123139"
        ],
        [
         "RI",
         "759",
         "0.1902036356710755"
        ],
        [
         "HI",
         "649",
         "0.16263789137091963"
        ],
        [
         "WV",
         "512",
         "0.1283060098334528"
        ],
        [
         "ID",
         "462",
         "0.11577612606065465"
        ],
        [
         "NH",
         "447",
         "0.11201716092881521"
        ],
        [
         "ME",
         "284",
         "0.07116973982949334"
        ],
        [
         "ND",
         "251",
         "0.06290001653944659"
        ],
        [
         "MT",
         "213",
         "0.05337730487212001"
        ],
        [
         "AK",
         "205",
         "0.051372523468472306"
        ]
       ],
       "shape": {
        "columns": 2,
        "rows": 61
       }
      },
      "text/html": [
       "<div>\n",
       "<style scoped>\n",
       "    .dataframe tbody tr th:only-of-type {\n",
       "        vertical-align: middle;\n",
       "    }\n",
       "\n",
       "    .dataframe tbody tr th {\n",
       "        vertical-align: top;\n",
       "    }\n",
       "\n",
       "    .dataframe thead th {\n",
       "        text-align: right;\n",
       "    }\n",
       "</style>\n",
       "<table border=\"1\" class=\"dataframe\">\n",
       "  <thead>\n",
       "    <tr style=\"text-align: right;\">\n",
       "      <th></th>\n",
       "      <th>count</th>\n",
       "      <th>percentage</th>\n",
       "    </tr>\n",
       "    <tr>\n",
       "      <th>state_clean</th>\n",
       "      <th></th>\n",
       "      <th></th>\n",
       "    </tr>\n",
       "  </thead>\n",
       "  <tbody>\n",
       "    <tr>\n",
       "      <th>FL</th>\n",
       "      <td>53300</td>\n",
       "      <td>13.356856</td>\n",
       "    </tr>\n",
       "    <tr>\n",
       "      <th>TX</th>\n",
       "      <td>51771</td>\n",
       "      <td>12.973692</td>\n",
       "    </tr>\n",
       "    <tr>\n",
       "      <th>CA</th>\n",
       "      <td>39686</td>\n",
       "      <td>9.945219</td>\n",
       "    </tr>\n",
       "    <tr>\n",
       "      <th>GA</th>\n",
       "      <td>30413</td>\n",
       "      <td>7.621427</td>\n",
       "    </tr>\n",
       "    <tr>\n",
       "      <th>NY</th>\n",
       "      <td>24667</td>\n",
       "      <td>6.181493</td>\n",
       "    </tr>\n",
       "    <tr>\n",
       "      <th>...</th>\n",
       "      <td>...</td>\n",
       "      <td>...</td>\n",
       "    </tr>\n",
       "    <tr>\n",
       "      <th>AP</th>\n",
       "      <td>28</td>\n",
       "      <td>0.007017</td>\n",
       "    </tr>\n",
       "    <tr>\n",
       "      <th>GU</th>\n",
       "      <td>15</td>\n",
       "      <td>0.003759</td>\n",
       "    </tr>\n",
       "    <tr>\n",
       "      <th>MP</th>\n",
       "      <td>4</td>\n",
       "      <td>0.001002</td>\n",
       "    </tr>\n",
       "    <tr>\n",
       "      <th>AA</th>\n",
       "      <td>4</td>\n",
       "      <td>0.001002</td>\n",
       "    </tr>\n",
       "    <tr>\n",
       "      <th>AS</th>\n",
       "      <td>1</td>\n",
       "      <td>0.000251</td>\n",
       "    </tr>\n",
       "  </tbody>\n",
       "</table>\n",
       "<p>61 rows × 2 columns</p>\n",
       "</div>"
      ],
      "text/plain": [
       "             count  percentage\n",
       "state_clean                   \n",
       "FL           53300   13.356856\n",
       "TX           51771   12.973692\n",
       "CA           39686    9.945219\n",
       "GA           30413    7.621427\n",
       "NY           24667    6.181493\n",
       "...            ...         ...\n",
       "AP              28    0.007017\n",
       "GU              15    0.003759\n",
       "MP               4    0.001002\n",
       "AA               4    0.001002\n",
       "AS               1    0.000251\n",
       "\n",
       "[61 rows x 2 columns]"
      ]
     },
     "metadata": {},
     "output_type": "display_data"
    },
    {
     "data": {
      "image/png": "[encoded data removed]",
      "text/plain": [
       "<Figure size 1200x600 with 1 Axes>"
      ]
     },
     "metadata": {},
     "output_type": "display_data"
    }
   ],
   "source": [
    "# Create summary for the cleaned state column\n",
    "summary_state_clean = summarize_categories(sample_df, column='state_clean')\n",
    "display(summary_state_clean)\n",
    "\n",
    "# Visualize the summary\n",
    "top10_state = summary_state_clean.sort_values('percentage', ascending=False).head(10)\n",
    "\n",
    "plt.figure(figsize=(12, 6))\n",
    "plt.bar(\n",
    "    top10_state.index.astype(str),\n",
    "    top10_state['percentage'],\n",
    "    color='cornflowerblue'\n",
    ")\n",
    "plt.ylabel('Percentage (%)')\n",
    "plt.title('Top 10 States (Cleaned) Category Distribution')\n",
    "plt.ylim(0, 100)\n",
    "plt.grid(axis='y', linestyle='--', alpha=0.7)\n",
    "plt.tight_layout()\n",
    "plt.show()"
   ]
  },
  {
   "cell_type": "code",
   "execution_count": 52,
   "id": "3f722fbe",
   "metadata": {},
   "outputs": [
    {
     "data": {
      "application/vnd.microsoft.datawrangler.viewer.v0+json": {
       "columns": [
        {
         "name": "state_group",
         "rawType": "object",
         "type": "string"
        },
        {
         "name": "count",
         "rawType": "int64",
         "type": "integer"
        },
        {
         "name": "percentage",
         "rawType": "float64",
         "type": "float"
        }
       ],
       "ref": "f275e689-4166-4820-9c50-9d826c58ed17",
       "rows": [
        [
         "State",
         "396520",
         "99.36699027179824"
        ],
        [
         "Territory",
         "1248",
         "0.31274589896904115"
        ],
        [
         "Unknown",
         "1175",
         "0.2944522686607559"
        ],
        [
         "Military",
         "103",
         "0.025811560571964133"
        ]
       ],
       "shape": {
        "columns": 2,
        "rows": 4
       }
      },
      "text/html": [
       "<div>\n",
       "<style scoped>\n",
       "    .dataframe tbody tr th:only-of-type {\n",
       "        vertical-align: middle;\n",
       "    }\n",
       "\n",
       "    .dataframe tbody tr th {\n",
       "        vertical-align: top;\n",
       "    }\n",
       "\n",
       "    .dataframe thead th {\n",
       "        text-align: right;\n",
       "    }\n",
       "</style>\n",
       "<table border=\"1\" class=\"dataframe\">\n",
       "  <thead>\n",
       "    <tr style=\"text-align: right;\">\n",
       "      <th></th>\n",
       "      <th>count</th>\n",
       "      <th>percentage</th>\n",
       "    </tr>\n",
       "    <tr>\n",
       "      <th>state_group</th>\n",
       "      <th></th>\n",
       "      <th></th>\n",
       "    </tr>\n",
       "  </thead>\n",
       "  <tbody>\n",
       "    <tr>\n",
       "      <th>State</th>\n",
       "      <td>396520</td>\n",
       "      <td>99.366990</td>\n",
       "    </tr>\n",
       "    <tr>\n",
       "      <th>Territory</th>\n",
       "      <td>1248</td>\n",
       "      <td>0.312746</td>\n",
       "    </tr>\n",
       "    <tr>\n",
       "      <th>Unknown</th>\n",
       "      <td>1175</td>\n",
       "      <td>0.294452</td>\n",
       "    </tr>\n",
       "    <tr>\n",
       "      <th>Military</th>\n",
       "      <td>103</td>\n",
       "      <td>0.025812</td>\n",
       "    </tr>\n",
       "  </tbody>\n",
       "</table>\n",
       "</div>"
      ],
      "text/plain": [
       "              count  percentage\n",
       "state_group                    \n",
       "State        396520   99.366990\n",
       "Territory      1248    0.312746\n",
       "Unknown        1175    0.294452\n",
       "Military        103    0.025812"
      ]
     },
     "metadata": {},
     "output_type": "display_data"
    },
    {
     "data": {
      "image/png": "[encoded data removed]",
      "text/plain": [
       "<Figure size 1200x600 with 1 Axes>"
      ]
     },
     "metadata": {},
     "output_type": "display_data"
    }
   ],
   "source": [
    "# Create summary for the cleaned state column\n",
    "summary_state_group = summarize_categories(sample_df, column='state_group')\n",
    "display(summary_state_group)\n",
    "\n",
    "# Visualize the summary\n",
    "top10_state = summary_state_group.sort_values('percentage', ascending=False).head(10)\n",
    "\n",
    "plt.figure(figsize=(12, 6))\n",
    "plt.bar(\n",
    "    top10_state.index.astype(str),\n",
    "    top10_state['percentage'],\n",
    "    color='cornflowerblue'\n",
    ")\n",
    "plt.ylabel('Percentage (%)')\n",
    "plt.title('Top 10 State Groups Category Distribution')\n",
    "plt.ylim(0, 100)\n",
    "plt.grid(axis='y', linestyle='--', alpha=0.7)\n",
    "plt.tight_layout()\n",
    "plt.show()"
   ]
  },
  {
   "cell_type": "code",
   "execution_count": 53,
   "id": "cffdaf61",
   "metadata": {},
   "outputs": [
    {
     "data": {
      "application/vnd.microsoft.datawrangler.viewer.v0+json": {
       "columns": [
        {
         "name": "region",
         "rawType": "object",
         "type": "string"
        },
        {
         "name": "count",
         "rawType": "int64",
         "type": "integer"
        },
        {
         "name": "percentage",
         "rawType": "float64",
         "type": "float"
        }
       ],
       "ref": "bdf259bd-a72c-4b97-a7d6-46b0ebcdefcb",
       "rows": [
        [
         "South",
         "212859",
         "53.34197059988072"
        ],
        [
         "Northeast",
         "64801",
         "16.238979967221823"
        ],
        [
         "West",
         "63071",
         "15.805445988683008"
        ],
        [
         "Midwest",
         "55789",
         "13.98059371601269"
        ],
        [
         "Territory",
         "1248",
         "0.31274589896904115"
        ],
        [
         "Unknown",
         "1175",
         "0.2944522686607559"
        ],
        [
         "Military",
         "103",
         "0.025811560571964133"
        ]
       ],
       "shape": {
        "columns": 2,
        "rows": 7
       }
      },
      "text/html": [
       "<div>\n",
       "<style scoped>\n",
       "    .dataframe tbody tr th:only-of-type {\n",
       "        vertical-align: middle;\n",
       "    }\n",
       "\n",
       "    .dataframe tbody tr th {\n",
       "        vertical-align: top;\n",
       "    }\n",
       "\n",
       "    .dataframe thead th {\n",
       "        text-align: right;\n",
       "    }\n",
       "</style>\n",
       "<table border=\"1\" class=\"dataframe\">\n",
       "  <thead>\n",
       "    <tr style=\"text-align: right;\">\n",
       "      <th></th>\n",
       "      <th>count</th>\n",
       "      <th>percentage</th>\n",
       "    </tr>\n",
       "    <tr>\n",
       "      <th>region</th>\n",
       "      <th></th>\n",
       "      <th></th>\n",
       "    </tr>\n",
       "  </thead>\n",
       "  <tbody>\n",
       "    <tr>\n",
       "      <th>South</th>\n",
       "      <td>212859</td>\n",
       "      <td>53.341971</td>\n",
       "    </tr>\n",
       "    <tr>\n",
       "      <th>Northeast</th>\n",
       "      <td>64801</td>\n",
       "      <td>16.238980</td>\n",
       "    </tr>\n",
       "    <tr>\n",
       "      <th>West</th>\n",
       "      <td>63071</td>\n",
       "      <td>15.805446</td>\n",
       "    </tr>\n",
       "    <tr>\n",
       "      <th>Midwest</th>\n",
       "      <td>55789</td>\n",
       "      <td>13.980594</td>\n",
       "    </tr>\n",
       "    <tr>\n",
       "      <th>Territory</th>\n",
       "      <td>1248</td>\n",
       "      <td>0.312746</td>\n",
       "    </tr>\n",
       "    <tr>\n",
       "      <th>Unknown</th>\n",
       "      <td>1175</td>\n",
       "      <td>0.294452</td>\n",
       "    </tr>\n",
       "    <tr>\n",
       "      <th>Military</th>\n",
       "      <td>103</td>\n",
       "      <td>0.025812</td>\n",
       "    </tr>\n",
       "  </tbody>\n",
       "</table>\n",
       "</div>"
      ],
      "text/plain": [
       "            count  percentage\n",
       "region                       \n",
       "South      212859   53.341971\n",
       "Northeast   64801   16.238980\n",
       "West        63071   15.805446\n",
       "Midwest     55789   13.980594\n",
       "Territory    1248    0.312746\n",
       "Unknown      1175    0.294452\n",
       "Military      103    0.025812"
      ]
     },
     "metadata": {},
     "output_type": "display_data"
    },
    {
     "data": {
      "image/png": "[encoded data removed]",
      "text/plain": [
       "<Figure size 1200x600 with 1 Axes>"
      ]
     },
     "metadata": {},
     "output_type": "display_data"
    }
   ],
   "source": [
    "# Create summary for the cleaned state column\n",
    "summary_region = summarize_categories(sample_df, column='region')\n",
    "display(summary_region)\n",
    "\n",
    "# Visualize the summary\n",
    "top10_state = summary_region.sort_values('percentage', ascending=False).head(10)\n",
    "\n",
    "plt.figure(figsize=(12, 6))\n",
    "plt.bar(\n",
    "    top10_state.index.astype(str),\n",
    "    top10_state['percentage'],\n",
    "    color='cornflowerblue'\n",
    ")\n",
    "plt.ylabel('Percentage (%)')\n",
    "plt.title('Top 10 Regions Category Distribution')\n",
    "plt.ylim(0, 100)\n",
    "plt.grid(axis='y', linestyle='--', alpha=0.7)\n",
    "plt.tight_layout()\n",
    "plt.show()"
   ]
  },
  {
   "cell_type": "markdown",
   "id": "0d0c2ff1",
   "metadata": {},
   "source": [
    "## Analysis of the time the complaint was received by the CFPB and the time the complaint was sent to the company"
   ]
  },
  {
   "cell_type": "code",
   "execution_count": null,
   "id": "6cc92060",
   "metadata": {},
   "outputs": [
    {
     "data": {
      "image/png": "[encoded data removed]",
      "text/plain": [
       "<Figure size 1200x500 with 1 Axes>"
      ]
     },
     "metadata": {},
     "output_type": "display_data"
    }
   ],
   "source": [
    "# Group by month and count the number of complaints received and sent to the company\n",
    "monthly_received = sample_df.groupby(sample_df['date_received'].dt.to_period('M')).size()\n",
    "monthly_sent = sample_df.groupby(sample_df['date_sent_to_company'].dt.to_period('M')).size()\n",
    "\n",
    "# Create a DataFrame for monthly trends\n",
    "monthly_trend = pd.DataFrame({\n",
    "    'Received': monthly_received,\n",
    "    'Sent to Company': monthly_sent\n",
    "})\n",
    "\n",
    "# plotting the monthly trend\n",
    "plt.figure(figsize=(12, 5))\n",
    "monthly_trend.plot(ax=plt.gca(), marker='o')\n",
    "plt.title('Monthly Complaints: Received vs Sent to Company')\n",
    "plt.xlabel('Month-Year')\n",
    "plt.ylabel('Number of Complaints')\n",
    "plt.legend()\n",
    "plt.grid(True, linestyle='--', alpha=0.7)\n",
    "plt.tight_layout()\n",
    "plt.show()"
   ]
  },
  {
   "cell_type": "code",
   "execution_count": null,
   "id": "24dba9ee",
   "metadata": {},
   "outputs": [
    {
     "data": {
      "image/png": "[encoded data removed]",
      "text/plain": [
       "<Figure size 1200x500 with 1 Axes>"
      ]
     },
     "metadata": {},
     "output_type": "display_data"
    }
   ],
   "source": [
    "# Calculate the average processing days per month\n",
    "avg_processing_days = sample_df.groupby(sample_df['date_received'].dt.to_period('M'))['processing_day'].mean()\n",
    "\n",
    "# Plot the average processing days trend\n",
    "plt.figure(figsize=(12, 5))\n",
    "avg_processing_days.plot(marker='o', color='green')\n",
    "plt.title('Average Processing Days per Month', fontsize=14)\n",
    "plt.xlabel('Month-Year', fontsize=12)\n",
    "plt.ylabel('Average Processing Days', fontsize=12)\n",
    "plt.grid(True, linestyle='--', alpha=0.7)\n",
    "plt.tight_layout()\n",
    "plt.show()"
   ]
  },
  {
   "cell_type": "code",
   "execution_count": null,
   "id": "fa2b01c5",
   "metadata": {},
   "outputs": [
    {
     "data": {
      "image/png": "[encoded data removed]",
      "text/plain": [
       "<Figure size 1400x700 with 1 Axes>"
      ]
     },
     "metadata": {},
     "output_type": "display_data"
    }
   ],
   "source": [
    "# Group by month-year and region, then visualize monthly complaints for each region\n",
    "monthly_region = (\n",
    "    sample_df\n",
    "    .groupby([sample_df['date_received'].dt.to_period('M'), 'region'])\n",
    "    .size()\n",
    "    .unstack(fill_value=0)\n",
    ")\n",
    "\n",
    "plt.figure(figsize=(14, 7))\n",
    "monthly_region.plot(ax=plt.gca(), marker='o')\n",
    "plt.title('Monthly Complaints Received by Region')\n",
    "plt.xlabel('Month-Year')\n",
    "plt.ylabel('Number of Complaints')\n",
    "plt.legend(title='Region')\n",
    "plt.grid(True, linestyle='--', alpha=0.7)\n",
    "plt.tight_layout()\n",
    "plt.show()"
   ]
  }
 ],
 "metadata": {
  "kernelspec": {
   "display_name": "topicmodeling",
   "language": "python",
   "name": "python3"
  },
  "language_info": {
   "codemirror_mode": {
    "name": "ipython",
    "version": 3
   },
   "file_extension": ".py",
   "mimetype": "text/x-python",
   "name": "python",
   "nbconvert_exporter": "python",
   "pygments_lexer": "ipython3",
   "version": "3.10.18"
  }
 },
 "nbformat": 4,
 "nbformat_minor": 5
}
